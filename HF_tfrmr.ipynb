{
  "cells": [
    {
      "cell_type": "markdown",
      "source": [
        "### Importing Trainer API and datasets API"
      ],
      "metadata": {
        "id": "O6hUqIQ5-0Da"
      },
      "id": "O6hUqIQ5-0Da"
    },
    {
      "cell_type": "code",
      "execution_count": 4,
      "id": "cb3d328f",
      "metadata": {
        "id": "cb3d328f"
      },
      "outputs": [],
      "source": [
        "from transformers import trainer"
      ]
    },
    {
      "cell_type": "code",
      "source": [
        "!pip install datasets"
      ],
      "metadata": {
        "id": "XiMf8-Ff8Hr7",
        "outputId": "928bf4ca-df2b-4f73-b757-40e8b960422d",
        "colab": {
          "base_uri": "https://localhost:8080/"
        }
      },
      "id": "XiMf8-Ff8Hr7",
      "execution_count": 5,
      "outputs": [
        {
          "output_type": "stream",
          "name": "stdout",
          "text": [
            "Collecting datasets\n",
            "  Downloading datasets-3.5.0-py3-none-any.whl.metadata (19 kB)\n",
            "Requirement already satisfied: filelock in /usr/local/lib/python3.11/dist-packages (from datasets) (3.18.0)\n",
            "Requirement already satisfied: numpy>=1.17 in /usr/local/lib/python3.11/dist-packages (from datasets) (2.0.2)\n",
            "Requirement already satisfied: pyarrow>=15.0.0 in /usr/local/lib/python3.11/dist-packages (from datasets) (18.1.0)\n",
            "Collecting dill<0.3.9,>=0.3.0 (from datasets)\n",
            "  Downloading dill-0.3.8-py3-none-any.whl.metadata (10 kB)\n",
            "Requirement already satisfied: pandas in /usr/local/lib/python3.11/dist-packages (from datasets) (2.2.2)\n",
            "Requirement already satisfied: requests>=2.32.2 in /usr/local/lib/python3.11/dist-packages (from datasets) (2.32.3)\n",
            "Requirement already satisfied: tqdm>=4.66.3 in /usr/local/lib/python3.11/dist-packages (from datasets) (4.67.1)\n",
            "Collecting xxhash (from datasets)\n",
            "  Downloading xxhash-3.5.0-cp311-cp311-manylinux_2_17_x86_64.manylinux2014_x86_64.whl.metadata (12 kB)\n",
            "Collecting multiprocess<0.70.17 (from datasets)\n",
            "  Downloading multiprocess-0.70.16-py311-none-any.whl.metadata (7.2 kB)\n",
            "Collecting fsspec<=2024.12.0,>=2023.1.0 (from fsspec[http]<=2024.12.0,>=2023.1.0->datasets)\n",
            "  Downloading fsspec-2024.12.0-py3-none-any.whl.metadata (11 kB)\n",
            "Requirement already satisfied: aiohttp in /usr/local/lib/python3.11/dist-packages (from datasets) (3.11.15)\n",
            "Requirement already satisfied: huggingface-hub>=0.24.0 in /usr/local/lib/python3.11/dist-packages (from datasets) (0.30.2)\n",
            "Requirement already satisfied: packaging in /usr/local/lib/python3.11/dist-packages (from datasets) (24.2)\n",
            "Requirement already satisfied: pyyaml>=5.1 in /usr/local/lib/python3.11/dist-packages (from datasets) (6.0.2)\n",
            "Requirement already satisfied: aiohappyeyeballs>=2.3.0 in /usr/local/lib/python3.11/dist-packages (from aiohttp->datasets) (2.6.1)\n",
            "Requirement already satisfied: aiosignal>=1.1.2 in /usr/local/lib/python3.11/dist-packages (from aiohttp->datasets) (1.3.2)\n",
            "Requirement already satisfied: attrs>=17.3.0 in /usr/local/lib/python3.11/dist-packages (from aiohttp->datasets) (25.3.0)\n",
            "Requirement already satisfied: frozenlist>=1.1.1 in /usr/local/lib/python3.11/dist-packages (from aiohttp->datasets) (1.6.0)\n",
            "Requirement already satisfied: multidict<7.0,>=4.5 in /usr/local/lib/python3.11/dist-packages (from aiohttp->datasets) (6.4.3)\n",
            "Requirement already satisfied: propcache>=0.2.0 in /usr/local/lib/python3.11/dist-packages (from aiohttp->datasets) (0.3.1)\n",
            "Requirement already satisfied: yarl<2.0,>=1.17.0 in /usr/local/lib/python3.11/dist-packages (from aiohttp->datasets) (1.20.0)\n",
            "Requirement already satisfied: typing-extensions>=3.7.4.3 in /usr/local/lib/python3.11/dist-packages (from huggingface-hub>=0.24.0->datasets) (4.13.2)\n",
            "Requirement already satisfied: charset-normalizer<4,>=2 in /usr/local/lib/python3.11/dist-packages (from requests>=2.32.2->datasets) (3.4.1)\n",
            "Requirement already satisfied: idna<4,>=2.5 in /usr/local/lib/python3.11/dist-packages (from requests>=2.32.2->datasets) (3.10)\n",
            "Requirement already satisfied: urllib3<3,>=1.21.1 in /usr/local/lib/python3.11/dist-packages (from requests>=2.32.2->datasets) (2.3.0)\n",
            "Requirement already satisfied: certifi>=2017.4.17 in /usr/local/lib/python3.11/dist-packages (from requests>=2.32.2->datasets) (2025.1.31)\n",
            "Requirement already satisfied: python-dateutil>=2.8.2 in /usr/local/lib/python3.11/dist-packages (from pandas->datasets) (2.8.2)\n",
            "Requirement already satisfied: pytz>=2020.1 in /usr/local/lib/python3.11/dist-packages (from pandas->datasets) (2025.2)\n",
            "Requirement already satisfied: tzdata>=2022.7 in /usr/local/lib/python3.11/dist-packages (from pandas->datasets) (2025.2)\n",
            "Requirement already satisfied: six>=1.5 in /usr/local/lib/python3.11/dist-packages (from python-dateutil>=2.8.2->pandas->datasets) (1.17.0)\n",
            "Downloading datasets-3.5.0-py3-none-any.whl (491 kB)\n",
            "\u001b[2K   \u001b[90m━━━━━━━━━━━━━━━━━━━━━━━━━━━━━━━━━━━━━━━━\u001b[0m \u001b[32m491.2/491.2 kB\u001b[0m \u001b[31m8.3 MB/s\u001b[0m eta \u001b[36m0:00:00\u001b[0m\n",
            "\u001b[?25hDownloading dill-0.3.8-py3-none-any.whl (116 kB)\n",
            "\u001b[2K   \u001b[90m━━━━━━━━━━━━━━━━━━━━━━━━━━━━━━━━━━━━━━━━\u001b[0m \u001b[32m116.3/116.3 kB\u001b[0m \u001b[31m11.3 MB/s\u001b[0m eta \u001b[36m0:00:00\u001b[0m\n",
            "\u001b[?25hDownloading fsspec-2024.12.0-py3-none-any.whl (183 kB)\n",
            "\u001b[2K   \u001b[90m━━━━━━━━━━━━━━━━━━━━━━━━━━━━━━━━━━━━━━━━\u001b[0m \u001b[32m183.9/183.9 kB\u001b[0m \u001b[31m13.3 MB/s\u001b[0m eta \u001b[36m0:00:00\u001b[0m\n",
            "\u001b[?25hDownloading multiprocess-0.70.16-py311-none-any.whl (143 kB)\n",
            "\u001b[2K   \u001b[90m━━━━━━━━━━━━━━━━━━━━━━━━━━━━━━━━━━━━━━━━\u001b[0m \u001b[32m143.5/143.5 kB\u001b[0m \u001b[31m10.6 MB/s\u001b[0m eta \u001b[36m0:00:00\u001b[0m\n",
            "\u001b[?25hDownloading xxhash-3.5.0-cp311-cp311-manylinux_2_17_x86_64.manylinux2014_x86_64.whl (194 kB)\n",
            "\u001b[2K   \u001b[90m━━━━━━━━━━━━━━━━━━━━━━━━━━━━━━━━━━━━━━━━\u001b[0m \u001b[32m194.8/194.8 kB\u001b[0m \u001b[31m15.2 MB/s\u001b[0m eta \u001b[36m0:00:00\u001b[0m\n",
            "\u001b[?25hInstalling collected packages: xxhash, fsspec, dill, multiprocess, datasets\n",
            "  Attempting uninstall: fsspec\n",
            "    Found existing installation: fsspec 2025.3.2\n",
            "    Uninstalling fsspec-2025.3.2:\n",
            "      Successfully uninstalled fsspec-2025.3.2\n",
            "\u001b[31mERROR: pip's dependency resolver does not currently take into account all the packages that are installed. This behaviour is the source of the following dependency conflicts.\n",
            "gcsfs 2025.3.2 requires fsspec==2025.3.2, but you have fsspec 2024.12.0 which is incompatible.\n",
            "torch 2.6.0+cu124 requires nvidia-cublas-cu12==12.4.5.8; platform_system == \"Linux\" and platform_machine == \"x86_64\", but you have nvidia-cublas-cu12 12.5.3.2 which is incompatible.\n",
            "torch 2.6.0+cu124 requires nvidia-cuda-cupti-cu12==12.4.127; platform_system == \"Linux\" and platform_machine == \"x86_64\", but you have nvidia-cuda-cupti-cu12 12.5.82 which is incompatible.\n",
            "torch 2.6.0+cu124 requires nvidia-cuda-nvrtc-cu12==12.4.127; platform_system == \"Linux\" and platform_machine == \"x86_64\", but you have nvidia-cuda-nvrtc-cu12 12.5.82 which is incompatible.\n",
            "torch 2.6.0+cu124 requires nvidia-cuda-runtime-cu12==12.4.127; platform_system == \"Linux\" and platform_machine == \"x86_64\", but you have nvidia-cuda-runtime-cu12 12.5.82 which is incompatible.\n",
            "torch 2.6.0+cu124 requires nvidia-cudnn-cu12==9.1.0.70; platform_system == \"Linux\" and platform_machine == \"x86_64\", but you have nvidia-cudnn-cu12 9.3.0.75 which is incompatible.\n",
            "torch 2.6.0+cu124 requires nvidia-cufft-cu12==11.2.1.3; platform_system == \"Linux\" and platform_machine == \"x86_64\", but you have nvidia-cufft-cu12 11.2.3.61 which is incompatible.\n",
            "torch 2.6.0+cu124 requires nvidia-curand-cu12==10.3.5.147; platform_system == \"Linux\" and platform_machine == \"x86_64\", but you have nvidia-curand-cu12 10.3.6.82 which is incompatible.\n",
            "torch 2.6.0+cu124 requires nvidia-cusolver-cu12==11.6.1.9; platform_system == \"Linux\" and platform_machine == \"x86_64\", but you have nvidia-cusolver-cu12 11.6.3.83 which is incompatible.\n",
            "torch 2.6.0+cu124 requires nvidia-cusparse-cu12==12.3.1.170; platform_system == \"Linux\" and platform_machine == \"x86_64\", but you have nvidia-cusparse-cu12 12.5.1.3 which is incompatible.\n",
            "torch 2.6.0+cu124 requires nvidia-nvjitlink-cu12==12.4.127; platform_system == \"Linux\" and platform_machine == \"x86_64\", but you have nvidia-nvjitlink-cu12 12.5.82 which is incompatible.\u001b[0m\u001b[31m\n",
            "\u001b[0mSuccessfully installed datasets-3.5.0 dill-0.3.8 fsspec-2024.12.0 multiprocess-0.70.16 xxhash-3.5.0\n"
          ]
        }
      ]
    },
    {
      "cell_type": "markdown",
      "source": [
        "### HF Abstraction:\n",
        "\n",
        "Performing abstract operations using LLM classess for creating low code ML workflows:\n",
        "\n",
        "- Below are the classes I'll be using to perform text classification and sentiment analysis by using libraries and models provided by hugging face.\n",
        "\n",
        "### Libraries Used\n",
        "\n",
        "1.  pretrainedclassifier\n",
        "2.  Datasets\n",
        "3.  Trainer API\n",
        "4.  GLUE benchmark datasets (MRPC for this particular case)\n"
      ],
      "metadata": {
        "id": "vsniSsGd8SoL"
      },
      "id": "vsniSsGd8SoL"
    },
    {
      "cell_type": "code",
      "execution_count": 48,
      "id": "73e706b0",
      "metadata": {
        "id": "73e706b0"
      },
      "outputs": [],
      "source": [
        "### Creating variable clsmodel from model card of BERT pretrained classification model on HF\n",
        "from transformers import AutoModelForSequenceClassification\n",
        "model_checkpoint= \"distilbert-base-uncased-finetuned-sst-2-english\""
      ]
    },
    {
      "cell_type": "code",
      "source": [
        "cls_model = AutoModelForSequenceClassification.from_pretrained(model_checkpoint)"
      ],
      "metadata": {
        "id": "jsEnxFOrXxrx",
        "outputId": "12146fb9-b05d-4921-d473-17fade6cfb1b",
        "colab": {
          "base_uri": "https://localhost:8080/",
          "height": 136,
          "referenced_widgets": [
            "c47c794302974feba84794ce5458a4d0",
            "2761556ec2e8497fb529879a7b5e1414",
            "969bf2e80f1f40e1b0d75d7030d97967",
            "b48297e3f74b4fdcb57bddb18c8e1536",
            "f25b291825e940cd9c09575294d5c4c2",
            "4ae7bb6dd3864a78a9799ce671541293",
            "3072901d86e64a7292d7b3ea5d898884",
            "9b33dcb182b14524ba85ce7387dc0c3c",
            "af92c3fa1e5b4a11a0cf81fbe1aecc77",
            "d44bc804e27f4e038278e4ff463913ae",
            "4193d5c642764fa4a6e09ef198a5b7a3",
            "161bcd00729449a9bb3349f22464aebb",
            "8103377038f042a58e420d0c3f636398",
            "91bc8b1a10344880ab54e6dda5db7762",
            "6080dcd9c3714a3d9e22bdfb796f285c",
            "f0ff5cfe8e184075906312810cc74f5f",
            "019f42aa09d04c21a3bf08a047bab941",
            "778b0462310244548f39706431e3ca7d",
            "767aab14663b43058f7b97dd7ee7f5d7",
            "fd91235957074af797533cc086ca7253",
            "a2f23b2712714158b7e844038676169c",
            "b1639a55afd64a28ba4023eabd209815"
          ]
        }
      },
      "id": "jsEnxFOrXxrx",
      "execution_count": 49,
      "outputs": [
        {
          "output_type": "display_data",
          "data": {
            "text/plain": [
              "config.json:   0%|          | 0.00/629 [00:00<?, ?B/s]"
            ],
            "application/vnd.jupyter.widget-view+json": {
              "version_major": 2,
              "version_minor": 0,
              "model_id": "c47c794302974feba84794ce5458a4d0"
            }
          },
          "metadata": {}
        },
        {
          "output_type": "stream",
          "name": "stderr",
          "text": [
            "Xet Storage is enabled for this repo, but the 'hf_xet' package is not installed. Falling back to regular HTTP download. For better performance, install the package with: `pip install huggingface_hub[hf_xet]` or `pip install hf_xet`\n",
            "WARNING:huggingface_hub.file_download:Xet Storage is enabled for this repo, but the 'hf_xet' package is not installed. Falling back to regular HTTP download. For better performance, install the package with: `pip install huggingface_hub[hf_xet]` or `pip install hf_xet`\n"
          ]
        },
        {
          "output_type": "display_data",
          "data": {
            "text/plain": [
              "model.safetensors:   0%|          | 0.00/268M [00:00<?, ?B/s]"
            ],
            "application/vnd.jupyter.widget-view+json": {
              "version_major": 2,
              "version_minor": 0,
              "model_id": "161bcd00729449a9bb3349f22464aebb"
            }
          },
          "metadata": {}
        }
      ]
    },
    {
      "cell_type": "code",
      "source": [
        "print(cls_model)"
      ],
      "metadata": {
        "id": "l2ZwJduuX7VC",
        "outputId": "b748e76d-8096-40f7-c8f4-1550f93d749a",
        "colab": {
          "base_uri": "https://localhost:8080/"
        }
      },
      "id": "l2ZwJduuX7VC",
      "execution_count": 55,
      "outputs": [
        {
          "output_type": "stream",
          "name": "stdout",
          "text": [
            "DistilBertForSequenceClassification(\n",
            "  (distilbert): DistilBertModel(\n",
            "    (embeddings): Embeddings(\n",
            "      (word_embeddings): Embedding(30522, 768, padding_idx=0)\n",
            "      (position_embeddings): Embedding(512, 768)\n",
            "      (LayerNorm): LayerNorm((768,), eps=1e-12, elementwise_affine=True)\n",
            "      (dropout): Dropout(p=0.1, inplace=False)\n",
            "    )\n",
            "    (transformer): Transformer(\n",
            "      (layer): ModuleList(\n",
            "        (0-5): 6 x TransformerBlock(\n",
            "          (attention): DistilBertSdpaAttention(\n",
            "            (dropout): Dropout(p=0.1, inplace=False)\n",
            "            (q_lin): Linear(in_features=768, out_features=768, bias=True)\n",
            "            (k_lin): Linear(in_features=768, out_features=768, bias=True)\n",
            "            (v_lin): Linear(in_features=768, out_features=768, bias=True)\n",
            "            (out_lin): Linear(in_features=768, out_features=768, bias=True)\n",
            "          )\n",
            "          (sa_layer_norm): LayerNorm((768,), eps=1e-12, elementwise_affine=True)\n",
            "          (ffn): FFN(\n",
            "            (dropout): Dropout(p=0.1, inplace=False)\n",
            "            (lin1): Linear(in_features=768, out_features=3072, bias=True)\n",
            "            (lin2): Linear(in_features=3072, out_features=768, bias=True)\n",
            "            (activation): GELUActivation()\n",
            "          )\n",
            "          (output_layer_norm): LayerNorm((768,), eps=1e-12, elementwise_affine=True)\n",
            "        )\n",
            "      )\n",
            "    )\n",
            "  )\n",
            "  (pre_classifier): Linear(in_features=768, out_features=768, bias=True)\n",
            "  (classifier): Linear(in_features=768, out_features=2, bias=True)\n",
            "  (dropout): Dropout(p=0.2, inplace=False)\n",
            ")\n"
          ]
        }
      ]
    },
    {
      "cell_type": "code",
      "execution_count": 19,
      "id": "2429d675",
      "metadata": {
        "id": "2429d675"
      },
      "outputs": [],
      "source": [
        "## Inititalizing input for text classification\n",
        "input= [\n",
        "    \"An apple a day keeps the doctor away\",\n",
        "    \"May the force be with you\",\n",
        "    \"The delicious cow said Mooooorgh.....\"\n",
        "]"
      ]
    },
    {
      "cell_type": "markdown",
      "source": [
        "> Before importing textclassificationpipeline, a suitable tokenizer also needs to be initiated, so we'll be using distil-berts model only for initiating our tokenizer"
      ],
      "metadata": {
        "id": "7XMg2j2sFKAH"
      },
      "id": "7XMg2j2sFKAH"
    },
    {
      "cell_type": "code",
      "source": [
        "from transformers import AutoTokenizer\n",
        "tokenizer = AutoTokenizer.from_pretrained(model_checkpoint)"
      ],
      "metadata": {
        "id": "tbKL3KpFFq4I",
        "outputId": "b33e6da8-bff2-4d72-fb6e-b584b2d55feb",
        "colab": {
          "base_uri": "https://localhost:8080/",
          "height": 81,
          "referenced_widgets": [
            "0a7cbe8f0c484bdbb79179ac0ab6b4d1",
            "3984fd5084284d73b36076f6bd7c1bde",
            "8b4b98e60fd84ff4b92790c35ddc71e4",
            "d9238fbfe5614f019674bea671d20527",
            "c70257bb06ca434abcc7f27ced40ed48",
            "8a40ed42fe8c484db9766ad7a51202c3",
            "2594926acf8745c293a5f823730f8076",
            "c6e12c739075489aa068e3c1ebca5aec",
            "b23a7525476a464797a7eec8bd2f5bef",
            "df819838dc2747acb847350ed98038be",
            "55c911184f254284b8d1f3f1cdfd5a6c",
            "a9e68ddbec6c4c7da88c00d2b2cfa525",
            "03a524c8536a4cb9a441a7e22b830175",
            "a02c58df0ee447dc9507ac354dd7ab68",
            "12051d2eacc34a7e97d350d55d685728",
            "3749b15e748945d3998106b191045fec",
            "73d16ffca42344f2b7f6fca283cd3028",
            "42e5d424fbfc40f9ae182506861e899f",
            "dbdf1c6ab7e64c58ba1ae237bc30b32c",
            "c41e2d7429f048c6ad453c3b6fd65d36",
            "916fc00ba19a421e92b2d8ff185e8cdd",
            "4a2798060c034450bd5d9b0a796a9bcc"
          ]
        }
      },
      "id": "tbKL3KpFFq4I",
      "execution_count": 57,
      "outputs": [
        {
          "output_type": "display_data",
          "data": {
            "text/plain": [
              "tokenizer_config.json:   0%|          | 0.00/48.0 [00:00<?, ?B/s]"
            ],
            "application/vnd.jupyter.widget-view+json": {
              "version_major": 2,
              "version_minor": 0,
              "model_id": "0a7cbe8f0c484bdbb79179ac0ab6b4d1"
            }
          },
          "metadata": {}
        },
        {
          "output_type": "display_data",
          "data": {
            "text/plain": [
              "vocab.txt:   0%|          | 0.00/232k [00:00<?, ?B/s]"
            ],
            "application/vnd.jupyter.widget-view+json": {
              "version_major": 2,
              "version_minor": 0,
              "model_id": "a9e68ddbec6c4c7da88c00d2b2cfa525"
            }
          },
          "metadata": {}
        }
      ]
    },
    {
      "cell_type": "code",
      "execution_count": 59,
      "id": "c4ac4461",
      "metadata": {
        "colab": {
          "base_uri": "https://localhost:8080/"
        },
        "id": "c4ac4461",
        "outputId": "1b11c3fc-cba4-4acb-e5e5-aebda328d87c"
      },
      "outputs": [
        {
          "output_type": "stream",
          "name": "stderr",
          "text": [
            "Device set to use cpu\n"
          ]
        }
      ],
      "source": [
        "# Importing textclassificationpipeline library\n",
        "\n",
        "from transformers import TextClassificationPipeline\n",
        "\n",
        "classifier = TextClassificationPipeline(model=cls_model, tokenizer=tokenizer)"
      ]
    },
    {
      "cell_type": "code",
      "execution_count": 61,
      "id": "1eaa2014",
      "metadata": {
        "colab": {
          "base_uri": "https://localhost:8080/"
        },
        "id": "1eaa2014",
        "outputId": "95d26cff-2748-42b2-9c9b-1e71836f8eb2"
      },
      "outputs": [
        {
          "output_type": "execute_result",
          "data": {
            "text/plain": [
              "[{'label': 'NEGATIVE', 'score': 0.9442117810249329},\n",
              " {'label': 'POSITIVE', 'score': 0.9985313415527344},\n",
              " {'label': 'POSITIVE', 'score': 0.999565064907074}]"
            ]
          },
          "metadata": {},
          "execution_count": 61
        }
      ],
      "source": [
        "classifier(input)"
      ]
    },
    {
      "cell_type": "markdown",
      "source": [
        "### Pipeline API\n",
        "\n",
        "`Pipelines` are a great way of using models for inference. Pipelines are objects that abstract the code of a library, These pipelines can be used for a huge variety of tasks such as `text-generation`, `sentiment-analysis`, `feature-extraction`, `q&a generation` etc.\n",
        "\n",
        "1.  `Pipelines` API is the most powerful api, as it contains all other pipelines used for performing tasks."
      ],
      "metadata": {
        "id": "9c82633f"
      },
      "id": "9c82633f"
    },
    {
      "cell_type": "code",
      "execution_count": 72,
      "id": "ba8587a7",
      "metadata": {
        "id": "ba8587a7"
      },
      "outputs": [],
      "source": [
        "# Import pipelines library\n",
        "from transformers import pipeline"
      ]
    },
    {
      "cell_type": "code",
      "execution_count": 73,
      "id": "2f2c5e7e",
      "metadata": {
        "colab": {
          "base_uri": "https://localhost:8080/"
        },
        "id": "2f2c5e7e",
        "outputId": "41a282ff-c18b-491b-a45d-6d4e77e1c241"
      },
      "outputs": [
        {
          "output_type": "stream",
          "name": "stderr",
          "text": [
            "No model was supplied, defaulted to distilbert/distilbert-base-uncased-finetuned-sst-2-english and revision 714eb0f (https://huggingface.co/distilbert/distilbert-base-uncased-finetuned-sst-2-english).\n",
            "Using a pipeline without specifying a model name and revision in production is not recommended.\n",
            "Device set to use cpu\n"
          ]
        }
      ],
      "source": [
        "classifier = pipeline('text-classification')"
      ]
    },
    {
      "cell_type": "code",
      "execution_count": 74,
      "id": "177f7c33",
      "metadata": {
        "colab": {
          "base_uri": "https://localhost:8080/"
        },
        "id": "177f7c33",
        "outputId": "b922ad69-aaf5-44cc-97ca-8f4b6dc81ec1"
      },
      "outputs": [
        {
          "output_type": "execute_result",
          "data": {
            "text/plain": [
              "[{'label': 'NEGATIVE', 'score': 0.9442117810249329},\n",
              " {'label': 'POSITIVE', 'score': 0.9985313415527344},\n",
              " {'label': 'POSITIVE', 'score': 0.999565064907074}]"
            ]
          },
          "metadata": {},
          "execution_count": 74
        }
      ],
      "source": [
        "classifier(input)"
      ]
    },
    {
      "cell_type": "code",
      "execution_count": 75,
      "id": "9e2255f8",
      "metadata": {
        "colab": {
          "base_uri": "https://localhost:8080/",
          "height": 348,
          "referenced_widgets": [
            "fc0b8a08e91d484480362793db42c608",
            "46723bfb21ac4c5fb0ef46926cd6868a",
            "0b2f6d3ed8bb42e28d99caba0f9fb4db",
            "934af09af3074b078ff4a9f8d4a1e5cb",
            "6b560aa88f984113b9ae6dcb931b5b42",
            "5cfbfcb192144fe7b40ae0d0f74bdeb0",
            "cb1c5be956834bc09b35ff5d9a7009cd",
            "135500445aa54a08b3c753d87c0487e2",
            "e72b10048bb94e79b66ec85380379c71",
            "ed47056e868749aba849b23fb029eab5",
            "5d8784e3c20f484b9940764a7ef85920",
            "3981e18af22d42fcb0a0c272b3329ce1",
            "0e9b0502ab644a05b4b2f1bfea1699f0",
            "6bb008b0024349fe9e7c2e1a34fab130",
            "65dd67f5948d43fc82872b4f26f2a0f0",
            "173668d45ea14333a89af48bb99d43f6",
            "dc3d3ccf0eeb45bbaa0d7dde794e0348",
            "13cec1bef40747fb8e9fb9028b8d78f1",
            "8a20649792d8411d89b1600a68ea04c9",
            "d0904a7f6e7f454591c9ec61b40248bc",
            "def9c44c77f54574aa19bdfa0fb51324",
            "323084ccc2b9493e8f65582db80b32d2",
            "1c7d7a4c5b734cb2815548e64207426e",
            "30a04b588a8947f88a8393787aea1c1a",
            "60c89d2c544d440dbec9ec5857964219",
            "a89a4a2936a743a8a9cb290cf587c3f1",
            "52298c0ba09f4676ac9ebb1651da717c",
            "ab755b92b1c1456e8ef05c004fad7b32",
            "f2bb98e5063e46bf8585d33f162cb407",
            "a6cdc79716854de09eb22cc4b917d24b",
            "b4d581e547b04115af3c10f466db9921",
            "b03cb17e0cea43ddb596737e78ab3a28",
            "fc2059afc7a84eb68f80f519451c0541",
            "780ba9b96601498da990ee0f449b9f14",
            "e4847c3c02ef4f9291b248e0e80958f1",
            "33f8e5d7aa3d40fe92dbe8861136375f",
            "6d7f15cbfc58458498886c92a30084ea",
            "b50627c3df824b44a619e1324db340ea",
            "e754f5d69cf24f69a6bf0c72e25df6ad",
            "e93a5dc646054205b12e79fa011f4286",
            "2994ef38eef144e0b32e8f476e75d92a",
            "ddfd19498cbb4db1a395759b5b3dafed",
            "9c78fa3f3f054610b716b79a5660f133",
            "0b99c664d07146709a70640802b7781b",
            "8151f419161f4ae79c979f0303a36265",
            "46ece9e4dce245218bfc0829e465a965",
            "4a290ba874564dd1a171c804c5c9af2e",
            "c7493dbeac004503a68b42d9259a70cd",
            "041fd071fbd8427085512990448d07bf",
            "89e71fa4418f42fdbd539b1f054e1e48",
            "91be4289176f4cb4bc902a4bb9ad9549",
            "f760e877afb54c948620f81483d4ea0b",
            "58804916123f4f82b6fb0980b5bd6dd2",
            "7a5aac7a8c204ed6ad88bd3e4b796723",
            "fb5d3a66dcf54dc3a8bef1b6c871a1ed",
            "93fa6b2b0c994994b1d91e6bbe5a8d61",
            "14891664ac094369a408e6d4a3428684",
            "3b352aca396e41df8b2ed6a33653bdf4",
            "9320b86ffa404a1e973c673aaa3fc834",
            "d37058be24174d598ac8cee5b229cd9f",
            "9f5a42be5ae043c4b2727ab53d1bb98c",
            "a17b551d3d2e4f099f97af644968cd65",
            "fe517863049d4824abbdd558aa417c84",
            "3e5c7ac2267147c18cc88711f0d72acc",
            "c16af260e1064313b02f6977a418926d",
            "7b297edc017b4ae686b37aaa8a2d73e6",
            "b4e23d08d44344009b135e7938fec082",
            "857aeab86b004d62b0f39d4581fc8a49",
            "c79d0dd5d53446bab4796794678c4656",
            "9cc5976e62624558b738f28fdd551f0d",
            "6553784697f14c7bae1e87ab983c942d",
            "5bc609ebc56845b7b4f2dd694d2879be",
            "90731a9ccd0b405cb074a93a17aa1bb9",
            "de221e36205d4465a21c68c4cb252fb7",
            "dddc353a92f3488787dd053461e5d20e",
            "633d3c0b92b244a8a654f8c3e5e1475f",
            "fe509f19fa1744909b94f472811cc42b"
          ]
        },
        "id": "9e2255f8",
        "outputId": "469d7b2a-3acd-42b1-e965-ef48b66e39c9"
      },
      "outputs": [
        {
          "output_type": "stream",
          "name": "stderr",
          "text": [
            "No model was supplied, defaulted to openai-community/gpt2 and revision 607a30d (https://huggingface.co/openai-community/gpt2).\n",
            "Using a pipeline without specifying a model name and revision in production is not recommended.\n"
          ]
        },
        {
          "output_type": "display_data",
          "data": {
            "text/plain": [
              "config.json:   0%|          | 0.00/665 [00:00<?, ?B/s]"
            ],
            "application/vnd.jupyter.widget-view+json": {
              "version_major": 2,
              "version_minor": 0,
              "model_id": "fc0b8a08e91d484480362793db42c608"
            }
          },
          "metadata": {}
        },
        {
          "output_type": "stream",
          "name": "stderr",
          "text": [
            "Xet Storage is enabled for this repo, but the 'hf_xet' package is not installed. Falling back to regular HTTP download. For better performance, install the package with: `pip install huggingface_hub[hf_xet]` or `pip install hf_xet`\n",
            "WARNING:huggingface_hub.file_download:Xet Storage is enabled for this repo, but the 'hf_xet' package is not installed. Falling back to regular HTTP download. For better performance, install the package with: `pip install huggingface_hub[hf_xet]` or `pip install hf_xet`\n"
          ]
        },
        {
          "output_type": "display_data",
          "data": {
            "text/plain": [
              "model.safetensors:   0%|          | 0.00/548M [00:00<?, ?B/s]"
            ],
            "application/vnd.jupyter.widget-view+json": {
              "version_major": 2,
              "version_minor": 0,
              "model_id": "3981e18af22d42fcb0a0c272b3329ce1"
            }
          },
          "metadata": {}
        },
        {
          "output_type": "display_data",
          "data": {
            "text/plain": [
              "generation_config.json:   0%|          | 0.00/124 [00:00<?, ?B/s]"
            ],
            "application/vnd.jupyter.widget-view+json": {
              "version_major": 2,
              "version_minor": 0,
              "model_id": "1c7d7a4c5b734cb2815548e64207426e"
            }
          },
          "metadata": {}
        },
        {
          "output_type": "display_data",
          "data": {
            "text/plain": [
              "tokenizer_config.json:   0%|          | 0.00/26.0 [00:00<?, ?B/s]"
            ],
            "application/vnd.jupyter.widget-view+json": {
              "version_major": 2,
              "version_minor": 0,
              "model_id": "780ba9b96601498da990ee0f449b9f14"
            }
          },
          "metadata": {}
        },
        {
          "output_type": "display_data",
          "data": {
            "text/plain": [
              "vocab.json:   0%|          | 0.00/1.04M [00:00<?, ?B/s]"
            ],
            "application/vnd.jupyter.widget-view+json": {
              "version_major": 2,
              "version_minor": 0,
              "model_id": "8151f419161f4ae79c979f0303a36265"
            }
          },
          "metadata": {}
        },
        {
          "output_type": "display_data",
          "data": {
            "text/plain": [
              "merges.txt:   0%|          | 0.00/456k [00:00<?, ?B/s]"
            ],
            "application/vnd.jupyter.widget-view+json": {
              "version_major": 2,
              "version_minor": 0,
              "model_id": "93fa6b2b0c994994b1d91e6bbe5a8d61"
            }
          },
          "metadata": {}
        },
        {
          "output_type": "display_data",
          "data": {
            "text/plain": [
              "tokenizer.json:   0%|          | 0.00/1.36M [00:00<?, ?B/s]"
            ],
            "application/vnd.jupyter.widget-view+json": {
              "version_major": 2,
              "version_minor": 0,
              "model_id": "b4e23d08d44344009b135e7938fec082"
            }
          },
          "metadata": {}
        },
        {
          "output_type": "stream",
          "name": "stderr",
          "text": [
            "Device set to use cpu\n"
          ]
        }
      ],
      "source": [
        "generator= pipeline('text-generation')"
      ]
    },
    {
      "cell_type": "code",
      "execution_count": 76,
      "id": "81c4d589",
      "metadata": {
        "id": "81c4d589"
      },
      "outputs": [],
      "source": [
        "?generator"
      ]
    },
    {
      "cell_type": "code",
      "execution_count": null,
      "id": "a1bf8824",
      "metadata": {
        "id": "a1bf8824",
        "outputId": "79ca61b3-90e8-4474-a47d-33ee58924b66"
      },
      "outputs": [
        {
          "data": {
            "text/html": [
              "<div>\n",
              "<style scoped>\n",
              "    .dataframe tbody tr th:only-of-type {\n",
              "        vertical-align: middle;\n",
              "    }\n",
              "\n",
              "    .dataframe tbody tr th {\n",
              "        vertical-align: top;\n",
              "    }\n",
              "\n",
              "    .dataframe thead th {\n",
              "        text-align: right;\n",
              "    }\n",
              "</style>\n",
              "<table border=\"1\" class=\"dataframe\">\n",
              "  <thead>\n",
              "    <tr style=\"text-align: right;\">\n",
              "      <th></th>\n",
              "      <th>c</th>\n",
              "      <th>d</th>\n",
              "      <th>a</th>\n",
              "      <th>b</th>\n",
              "    </tr>\n",
              "  </thead>\n",
              "  <tbody>\n",
              "    <tr>\n",
              "      <th>0</th>\n",
              "      <td>1</td>\n",
              "      <td>2</td>\n",
              "      <td>1</td>\n",
              "      <td>2</td>\n",
              "    </tr>\n",
              "    <tr>\n",
              "      <th>1</th>\n",
              "      <td>2</td>\n",
              "      <td>3</td>\n",
              "      <td>2</td>\n",
              "      <td>3</td>\n",
              "    </tr>\n",
              "    <tr>\n",
              "      <th>2</th>\n",
              "      <td>3</td>\n",
              "      <td>4</td>\n",
              "      <td>3</td>\n",
              "      <td>4</td>\n",
              "    </tr>\n",
              "    <tr>\n",
              "      <th>3</th>\n",
              "      <td>4</td>\n",
              "      <td>5</td>\n",
              "      <td>4</td>\n",
              "      <td>5</td>\n",
              "    </tr>\n",
              "    <tr>\n",
              "      <th>4</th>\n",
              "      <td>5</td>\n",
              "      <td>6</td>\n",
              "      <td>5</td>\n",
              "      <td>6</td>\n",
              "    </tr>\n",
              "    <tr>\n",
              "      <th>5</th>\n",
              "      <td>6</td>\n",
              "      <td>7</td>\n",
              "      <td>6</td>\n",
              "      <td>7</td>\n",
              "    </tr>\n",
              "    <tr>\n",
              "      <th>6</th>\n",
              "      <td>7</td>\n",
              "      <td>8</td>\n",
              "      <td>7</td>\n",
              "      <td>8</td>\n",
              "    </tr>\n",
              "    <tr>\n",
              "      <th>7</th>\n",
              "      <td>8</td>\n",
              "      <td>9</td>\n",
              "      <td>8</td>\n",
              "      <td>9</td>\n",
              "    </tr>\n",
              "    <tr>\n",
              "      <th>8</th>\n",
              "      <td>9</td>\n",
              "      <td>10</td>\n",
              "      <td>9</td>\n",
              "      <td>10</td>\n",
              "    </tr>\n",
              "    <tr>\n",
              "      <th>9</th>\n",
              "      <td>10</td>\n",
              "      <td>11</td>\n",
              "      <td>10</td>\n",
              "      <td>11</td>\n",
              "    </tr>\n",
              "  </tbody>\n",
              "</table>\n",
              "</div>"
            ],
            "text/plain": [
              "    c   d   a   b\n",
              "0   1   2   1   2\n",
              "1   2   3   2   3\n",
              "2   3   4   3   4\n",
              "3   4   5   4   5\n",
              "4   5   6   5   6\n",
              "5   6   7   6   7\n",
              "6   7   8   7   8\n",
              "7   8   9   8   9\n",
              "8   9  10   9  10\n",
              "9  10  11  10  11"
            ]
          },
          "execution_count": 55,
          "metadata": {},
          "output_type": "execute_result"
        }
      ],
      "source": [
        "merged.drop_duplicates()"
      ]
    },
    {
      "cell_type": "markdown",
      "id": "c56ecae0",
      "metadata": {
        "id": "c56ecae0"
      },
      "source": [
        "![image.png](attachment:image.png)"
      ]
    },
    {
      "cell_type": "code",
      "execution_count": null,
      "id": "23fbf044",
      "metadata": {
        "id": "23fbf044",
        "outputId": "dd5288d2-d4bf-49cd-e56a-7dced9d853b5"
      },
      "outputs": [
        {
          "data": {
            "text/plain": [
              "array([[ 1,  2,  3,  4,  5,  6],\n",
              "       [ 7,  8,  9, 10, 11, 12],\n",
              "       [13, 14, 15, 16, 17, 18],\n",
              "       [19, 20, 21, 22, 23, 24],\n",
              "       [25, 26, 27, 28, 29, 30]])"
            ]
          },
          "execution_count": 18,
          "metadata": {},
          "output_type": "execute_result"
        }
      ],
      "source": [
        "array = np.array([i for i in range(1, 31)])\n",
        "array = array.reshape((5,6))\n",
        "array"
      ]
    },
    {
      "cell_type": "markdown",
      "id": "d0280088",
      "metadata": {
        "id": "d0280088"
      },
      "source": [
        "**dtype & itemsize**"
      ]
    },
    {
      "cell_type": "code",
      "execution_count": null,
      "id": "1c2850c2",
      "metadata": {
        "id": "1c2850c2",
        "outputId": "23f95b73-ec80-4b33-875d-970117653817"
      },
      "outputs": [
        {
          "data": {
            "text/plain": [
              "dtype('int32')"
            ]
          },
          "execution_count": 79,
          "metadata": {},
          "output_type": "execute_result"
        }
      ],
      "source": [
        "array.dtype"
      ]
    },
    {
      "cell_type": "markdown",
      "id": "b6fbe9f6",
      "metadata": {
        "id": "b6fbe9f6"
      },
      "source": [
        "**itemsize**: returns the size of an element in bytes"
      ]
    },
    {
      "cell_type": "code",
      "execution_count": null,
      "id": "b5614e06",
      "metadata": {
        "id": "b5614e06"
      },
      "outputs": [],
      "source": [
        "print(array.itemsize, \"bytes\")"
      ]
    },
    {
      "cell_type": "markdown",
      "id": "a1e0675d",
      "metadata": {
        "id": "a1e0675d"
      },
      "source": [
        "**size**: returns the size of an array as number of elements in it."
      ]
    },
    {
      "cell_type": "code",
      "execution_count": null,
      "id": "2fd96a94",
      "metadata": {
        "id": "2fd96a94",
        "outputId": "8fa11fe2-4b36-4570-b2e5-b2ef7ae0e755"
      },
      "outputs": [
        {
          "name": "stdout",
          "output_type": "stream",
          "text": [
            "16 elements\n"
          ]
        }
      ],
      "source": [
        "print(array.size, \"elements\")"
      ]
    },
    {
      "cell_type": "markdown",
      "id": "54f7f092",
      "metadata": {
        "id": "54f7f092"
      },
      "source": [
        "**nbytes**: returns the size of an array in bytes."
      ]
    },
    {
      "cell_type": "code",
      "execution_count": null,
      "id": "09269a72",
      "metadata": {
        "id": "09269a72",
        "outputId": "a5060487-12f7-4ed6-8903-d4a175027151"
      },
      "outputs": [
        {
          "name": "stdout",
          "output_type": "stream",
          "text": [
            "size of array = 64  bytes\n"
          ]
        }
      ],
      "source": [
        "# Get total size #\n",
        "print(\"size of array =\", array.size*array.itemsize, \" bytes\")"
      ]
    },
    {
      "cell_type": "code",
      "execution_count": null,
      "id": "dc8faf19",
      "metadata": {
        "id": "dc8faf19",
        "outputId": "8284410a-c99f-4d85-8b77-f685cd70bd51"
      },
      "outputs": [
        {
          "name": "stdout",
          "output_type": "stream",
          "text": [
            "size of array = 64  bytes\n"
          ]
        }
      ],
      "source": [
        "# Get total size of array using nbytes #\n",
        "print(\"size of array =\", array.nbytes, \" bytes\")"
      ]
    },
    {
      "cell_type": "markdown",
      "id": "ca46f53d",
      "metadata": {
        "id": "ca46f53d"
      },
      "source": [
        "- **ndim**: returns the dimension of array.\n",
        "- **shape**: returns the shape of an ndim array."
      ]
    },
    {
      "cell_type": "code",
      "execution_count": null,
      "id": "09b3b8cc",
      "metadata": {
        "id": "09b3b8cc",
        "outputId": "7f8fbc64-76bb-4cf2-8738-3de20f34be4a"
      },
      "outputs": [
        {
          "name": "stdout",
          "output_type": "stream",
          "text": [
            "dimension:  2\n",
            "shape:  (8, 2)\n",
            "size:  16\n"
          ]
        }
      ],
      "source": [
        "# Scoping basic information of an array #\n",
        "print(\"dimension: \",array.ndim)\n",
        "print(\"shape: \",array.shape)\n",
        "print(\"size: \",array.size)"
      ]
    },
    {
      "cell_type": "markdown",
      "id": "f84833de",
      "metadata": {
        "id": "f84833de"
      },
      "source": [
        "## Initializing numpy array"
      ]
    },
    {
      "cell_type": "markdown",
      "id": "32cc5be8",
      "metadata": {
        "id": "32cc5be8"
      },
      "source": [
        "**Ones**: an array of ones"
      ]
    },
    {
      "cell_type": "code",
      "execution_count": null,
      "id": "883b8d17",
      "metadata": {
        "id": "883b8d17",
        "outputId": "705bf514-ebb7-4d2c-8ba5-a8ac74264996"
      },
      "outputs": [
        {
          "data": {
            "text/plain": [
              "array([[1., 1., 1., 1., 1., 1.],\n",
              "       [1., 1., 1., 1., 1., 1.],\n",
              "       [1., 1., 1., 1., 1., 1.],\n",
              "       [1., 1., 1., 1., 1., 1.],\n",
              "       [1., 1., 1., 1., 1., 1.]])"
            ]
          },
          "execution_count": 23,
          "metadata": {},
          "output_type": "execute_result"
        }
      ],
      "source": [
        "arrone = np.ones([5, 6])\n",
        "arrone"
      ]
    },
    {
      "cell_type": "markdown",
      "id": "0760a600",
      "metadata": {
        "id": "0760a600"
      },
      "source": [
        "**Zeros**: an array of zeros."
      ]
    },
    {
      "cell_type": "code",
      "execution_count": null,
      "id": "54499f95",
      "metadata": {
        "id": "54499f95",
        "outputId": "6763fb39-d95e-46dc-fbfc-a0259d94d245"
      },
      "outputs": [
        {
          "data": {
            "text/plain": [
              "array([[0., 0., 0., 0., 0., 0.],\n",
              "       [0., 0., 0., 0., 0., 0.],\n",
              "       [0., 0., 0., 0., 0., 0.],\n",
              "       [0., 0., 0., 0., 0., 0.],\n",
              "       [0., 0., 0., 0., 0., 0.]])"
            ]
          },
          "execution_count": 25,
          "metadata": {},
          "output_type": "execute_result"
        }
      ],
      "source": [
        "arrzero = np.zeros([5, 6])\n",
        "arrzero"
      ]
    },
    {
      "cell_type": "markdown",
      "id": "8bdd260f",
      "metadata": {
        "id": "8bdd260f"
      },
      "source": [
        "**Eye**: an array with 1s on the specified diagonal and 0s elsewhere"
      ]
    },
    {
      "cell_type": "code",
      "execution_count": null,
      "id": "72016ad0",
      "metadata": {
        "id": "72016ad0",
        "outputId": "f2a905f0-b07b-4c07-8d9e-33dd81c8d64f"
      },
      "outputs": [
        {
          "data": {
            "text/plain": [
              "array([[0., 0., 0., 0.],\n",
              "       [0., 0., 0., 0.],\n",
              "       [0., 0., 0., 0.],\n",
              "       [1., 0., 0., 0.],\n",
              "       [0., 1., 0., 0.],\n",
              "       [0., 0., 1., 0.]])"
            ]
          },
          "execution_count": 38,
          "metadata": {},
          "output_type": "execute_result"
        }
      ],
      "source": [
        "arreye = np.eye(6, 4, -3)\n",
        "arreye"
      ]
    },
    {
      "cell_type": "markdown",
      "id": "feaaa60f",
      "metadata": {
        "id": "feaaa60f"
      },
      "source": [
        "**Arange**: arange method is similar to range method in standard python. The arange method in numpy creates an array with the same elements as the range datatype. Unlike the range datatype, this is stored as an array.\n",
        "\n",
        "np.arange(start_, stop_, step_size)\n"
      ]
    },
    {
      "cell_type": "code",
      "execution_count": null,
      "id": "9c201f93",
      "metadata": {
        "id": "9c201f93",
        "outputId": "3d05e039-b77d-4cd1-8d42-1111c1f25d3c"
      },
      "outputs": [
        {
          "data": {
            "text/plain": [
              "array([2.   , 2.125, 2.25 , 2.375, 2.5  , 2.625, 2.75 , 2.875, 3.   ,\n",
              "       3.125, 3.25 , 3.375, 3.5  , 3.625, 3.75 , 3.875])"
            ]
          },
          "execution_count": 41,
          "metadata": {},
          "output_type": "execute_result"
        }
      ],
      "source": [
        "arrange = np.arange(2, 4, 0.125)\n",
        "arrange"
      ]
    },
    {
      "cell_type": "markdown",
      "id": "b7a6d83e",
      "metadata": {
        "id": "b7a6d83e"
      },
      "source": [
        "**Linspace**: The linspace method divides the given endpoints into specified number of equally spaced intervals."
      ]
    },
    {
      "cell_type": "code",
      "execution_count": null,
      "id": "e5465db0",
      "metadata": {
        "id": "e5465db0",
        "outputId": "e1d72c2f-bf16-4a1f-d0ef-d93cb6629634"
      },
      "outputs": [
        {
          "data": {
            "text/plain": [
              "array([2.        , 2.13333333, 2.26666667, 2.4       , 2.53333333,\n",
              "       2.66666667, 2.8       , 2.93333333, 3.06666667, 3.2       ,\n",
              "       3.33333333, 3.46666667, 3.6       , 3.73333333, 3.86666667,\n",
              "       4.        ])"
            ]
          },
          "execution_count": 43,
          "metadata": {},
          "output_type": "execute_result"
        }
      ],
      "source": [
        "arrlinspace = np.linspace(2, 4, 16)\n",
        "arrlinspace\n"
      ]
    },
    {
      "cell_type": "markdown",
      "id": "0130d9c0",
      "metadata": {
        "id": "0130d9c0"
      },
      "source": [
        "**Empty**: The empty method creates an array with very small values,\n",
        "of specified shape\n",
        "\n",
        "np.empty((rows_, columns_))"
      ]
    },
    {
      "cell_type": "code",
      "execution_count": null,
      "id": "49d86639",
      "metadata": {
        "id": "49d86639",
        "outputId": "0a5982bb-ad68-4be8-8e3f-117f624ae08a"
      },
      "outputs": [
        {
          "data": {
            "text/plain": [
              "array([[0., 0., 0., 0.],\n",
              "       [0., 0., 0., 0.],\n",
              "       [0., 0., 0., 0.],\n",
              "       [1., 0., 0., 0.],\n",
              "       [0., 1., 0., 0.],\n",
              "       [0., 0., 1., 0.]])"
            ]
          },
          "execution_count": 50,
          "metadata": {},
          "output_type": "execute_result"
        }
      ],
      "source": [
        "arrempty = np.empty((6, 4))\n",
        "arrempty"
      ]
    },
    {
      "cell_type": "markdown",
      "id": "cc927d9a",
      "metadata": {
        "id": "cc927d9a"
      },
      "source": [
        "**Full**: The full method creates an array where each element contains the same value.\n",
        "\n",
        "np.full(a_shape, fill_value)"
      ]
    },
    {
      "cell_type": "code",
      "execution_count": null,
      "id": "d5e4700a",
      "metadata": {
        "id": "d5e4700a",
        "outputId": "f849bc1a-e97a-4148-908f-7513cdb6e320"
      },
      "outputs": [
        {
          "data": {
            "text/plain": [
              "array([[11, 11, 11, 11],\n",
              "       [11, 11, 11, 11],\n",
              "       [11, 11, 11, 11],\n",
              "       [11, 11, 11, 11],\n",
              "       [11, 11, 11, 11],\n",
              "       [11, 11, 11, 11]])"
            ]
          },
          "execution_count": 131,
          "metadata": {},
          "output_type": "execute_result"
        }
      ],
      "source": [
        "arrfull = np.full((6, 4), 11)\n",
        "arrfull"
      ]
    },
    {
      "cell_type": "markdown",
      "id": "b682cbdd",
      "metadata": {
        "id": "b682cbdd"
      },
      "source": [
        "**full_like**: Creates an array with size equal to the array supplied and fills it with the mentioned value."
      ]
    },
    {
      "cell_type": "code",
      "execution_count": null,
      "id": "81f84436",
      "metadata": {
        "id": "81f84436",
        "outputId": "24391d49-9e23-4190-ab21-5b4c60e39e55"
      },
      "outputs": [
        {
          "data": {
            "text/plain": [
              "array([[7, 7, 7, 7],\n",
              "       [7, 7, 7, 7],\n",
              "       [7, 7, 7, 7],\n",
              "       [7, 7, 7, 7],\n",
              "       [7, 7, 7, 7],\n",
              "       [7, 7, 7, 7]])"
            ]
          },
          "execution_count": 132,
          "metadata": {},
          "output_type": "execute_result"
        }
      ],
      "source": [
        "arrflike = np.full_like(arrfull, 7)\n",
        "arrflike"
      ]
    },
    {
      "cell_type": "code",
      "execution_count": null,
      "id": "352395d6",
      "metadata": {
        "id": "352395d6",
        "outputId": "452b1605-6b2f-4eb5-f712-f3e1e94930af"
      },
      "outputs": [
        {
          "name": "stdout",
          "output_type": "stream",
          "text": [
            "(6, 4)\n",
            "(6, 4)\n"
          ]
        }
      ],
      "source": [
        "print(arrfull.shape)\n",
        "print(arrflike.shape)"
      ]
    },
    {
      "cell_type": "markdown",
      "id": "4dc57168",
      "metadata": {
        "id": "4dc57168"
      },
      "source": [
        "**Copy**: Numpy arrays can not equated for copying their contents instead np.copy method is used to create copies of numpy arrays.\n",
        "\n",
        "np.copy(array)"
      ]
    },
    {
      "cell_type": "code",
      "execution_count": null,
      "id": "fcc0d602",
      "metadata": {
        "id": "fcc0d602",
        "outputId": "a68eef87-bc8a-4b13-ea0c-41fc4de2656b"
      },
      "outputs": [
        {
          "data": {
            "text/plain": [
              "array([[11, 11, 11, 11],\n",
              "       [11, 11, 11, 11],\n",
              "       [11, 11, 11, 11],\n",
              "       [11, 11, 11, 11],\n",
              "       [11, 11, 11, 11],\n",
              "       [11, 11, 11, 11]])"
            ]
          },
          "execution_count": 54,
          "metadata": {},
          "output_type": "execute_result"
        }
      ],
      "source": [
        "arrcopy = np.copy(arrfull)\n",
        "arrcopy"
      ]
    },
    {
      "cell_type": "markdown",
      "id": "09dcd3ad",
      "metadata": {
        "id": "09dcd3ad"
      },
      "source": [
        "**Geomspace**: The geomspace method also creates an evenly spaced array between two end points like linspace but produces values evenly spaced on a log scale.\n",
        "\n",
        "    np.geomspace(start_, stop_, no_of_elements)"
      ]
    },
    {
      "cell_type": "code",
      "execution_count": null,
      "id": "4b499643",
      "metadata": {
        "id": "4b499643",
        "outputId": "c12de653-9aa6-40ca-d37d-6350816ad4a0"
      },
      "outputs": [
        {
          "data": {
            "text/plain": [
              "array([1.        , 1.18920712, 1.41421356, 1.68179283, 2.        ])"
            ]
          },
          "execution_count": 57,
          "metadata": {},
          "output_type": "execute_result"
        }
      ],
      "source": [
        "arrgeom = np.geomspace(1, 2, 5)\n",
        "arrgeom"
      ]
    },
    {
      "cell_type": "markdown",
      "id": "3397253c",
      "metadata": {
        "id": "3397253c"
      },
      "source": [
        "**rng (Random Number Generator)**: Firstly we have to create a random number generator by using\n",
        "    \n",
        "    np.random.default_rng()\n",
        "and then we can generate random numbers according to the parameters specified. By default rng.random() code will generate random float between 0 and 1"
      ]
    },
    {
      "cell_type": "code",
      "execution_count": null,
      "id": "c3386948",
      "metadata": {
        "id": "c3386948"
      },
      "outputs": [],
      "source": [
        "rng = np.random.default_rng()"
      ]
    },
    {
      "cell_type": "code",
      "execution_count": null,
      "id": "729a0769",
      "metadata": {
        "id": "729a0769",
        "outputId": "14ae1e4e-eef9-4a39-84f4-58756e87d62c"
      },
      "outputs": [
        {
          "data": {
            "text/plain": [
              "0.6494312566681211"
            ]
          },
          "execution_count": 61,
          "metadata": {},
          "output_type": "execute_result"
        }
      ],
      "source": [
        "rng.random()"
      ]
    },
    {
      "cell_type": "markdown",
      "id": "d069ca88",
      "metadata": {
        "id": "d069ca88"
      },
      "source": [
        "an array of random values can be generated by passing an integer the function"
      ]
    },
    {
      "cell_type": "code",
      "execution_count": null,
      "id": "f138d47b",
      "metadata": {
        "id": "f138d47b",
        "outputId": "3a8a6104-be30-4d20-e1ce-c2565330593f"
      },
      "outputs": [
        {
          "data": {
            "text/plain": [
              "array([0.27246657, 0.84990597, 0.77390204, 0.18760376, 0.7780076 ,\n",
              "       0.07961651, 0.63467208, 0.39341191, 0.20106829, 0.54364938])"
            ]
          },
          "execution_count": 62,
          "metadata": {},
          "output_type": "execute_result"
        }
      ],
      "source": [
        "rng.random(10)"
      ]
    },
    {
      "cell_type": "markdown",
      "id": "d9b77f8f",
      "metadata": {
        "id": "d9b77f8f"
      },
      "source": [
        "**integers**: by default rng.random() generates random float values. We can use rng.integers() method to generate integer values\n",
        "\n",
        "rng.integers(start_ , stop_ , no_of_values)"
      ]
    },
    {
      "cell_type": "code",
      "execution_count": null,
      "id": "60a9ddde",
      "metadata": {
        "id": "60a9ddde",
        "outputId": "c4679c61-090b-4077-8a39-975374bdd37b"
      },
      "outputs": [
        {
          "data": {
            "text/plain": [
              "array([23, 54, 41, 61, 53, 35, 62, 91, 48, 92, 41, 68, 10, 65, 83, 94, 66,\n",
              "       72, 93, 79, 99, 61, 84, 17, 37, 70, 18, 57, 55, 53, 69, 96, 78, 35,\n",
              "       97, 49,  4, 66, 13, 73, 77, 97, 82, 87, 71, 14,  5, 22, 99, 38],\n",
              "      dtype=int64)"
            ]
          },
          "execution_count": 64,
          "metadata": {},
          "output_type": "execute_result"
        }
      ],
      "source": [
        "rng.integers(1, 100, 50)"
      ]
    },
    {
      "cell_type": "markdown",
      "id": "f5b5f501",
      "metadata": {
        "id": "f5b5f501"
      },
      "source": [
        "**repeat**: There are mulitple ways of applying numpy.repeat function\n",
        "    \n",
        "    -np.repeat(value, x_times)\n",
        "    -np.repeat(value_list, x_times)\n",
        "    -np.repeat(value_list, x_times_list)"
      ]
    },
    {
      "cell_type": "code",
      "execution_count": null,
      "id": "524f1efa",
      "metadata": {
        "id": "524f1efa",
        "outputId": "03e4fec7-ca11-40c5-e300-248d68f83930"
      },
      "outputs": [
        {
          "data": {
            "text/plain": [
              "array([25, 25, 25, 25, 25])"
            ]
          },
          "execution_count": 67,
          "metadata": {},
          "output_type": "execute_result"
        }
      ],
      "source": [
        "arrepeat = np.repeat(25, 5)\n",
        "arrepeat"
      ]
    },
    {
      "cell_type": "code",
      "execution_count": null,
      "id": "2b2f2631",
      "metadata": {
        "id": "2b2f2631",
        "outputId": "676df4cf-0757-4e21-83b8-a1f5646c40e7"
      },
      "outputs": [
        {
          "data": {
            "text/plain": [
              "array([25, 25, 25, 25, 50, 50, 50, 50, 75, 75, 75, 75])"
            ]
          },
          "execution_count": 69,
          "metadata": {},
          "output_type": "execute_result"
        }
      ],
      "source": [
        "arrepeat2 = np.repeat([25, 50, 75], 4)\n",
        "arrepeat2"
      ]
    },
    {
      "cell_type": "code",
      "execution_count": null,
      "id": "25e61df7",
      "metadata": {
        "id": "25e61df7",
        "outputId": "4df23fb2-6089-43cf-8838-e0b61f27f349"
      },
      "outputs": [
        {
          "data": {
            "text/plain": [
              "array([25, 25, 50, 50, 50, 50, 50, 70, 70, 70, 70, 70, 70, 70])"
            ]
          },
          "execution_count": 71,
          "metadata": {},
          "output_type": "execute_result"
        }
      ],
      "source": [
        "arrepeat3 = np.repeat([25, 50 ,70], [2, 5 ,7])\n",
        "arrepeat3"
      ]
    },
    {
      "cell_type": "code",
      "execution_count": null,
      "id": "0e9c7d9c",
      "metadata": {
        "id": "0e9c7d9c",
        "outputId": "d2eb6544-cd2a-4067-961c-dcb560312151"
      },
      "outputs": [
        {
          "data": {
            "text/plain": [
              "array([[ 0.93747971,  0.93747971,  0.93747971,  0.6327562 ,  0.6327562 ,\n",
              "         0.6327562 , -0.79288742, -0.79288742, -0.79288742]])"
            ]
          },
          "execution_count": 143,
          "metadata": {},
          "output_type": "execute_result"
        }
      ],
      "source": [
        "arr = np.random.randn(1,3)\n",
        "arrepeat4 = np.repeat(arr, 3, axis = 1)\n",
        "arrepeat4"
      ]
    },
    {
      "cell_type": "markdown",
      "id": "9a40bfb2",
      "metadata": {
        "id": "9a40bfb2"
      },
      "source": [
        "**Random number generators**:\n",
        "\n",
        "The **numpy.random** module implements pseudo-random number generators (PRNGs) or random numbe generators (RNGs) with the ability to draw samples from a variety of distributions. In general, a user creates a generator instance with default_rng and calls the various methods on it to obtain samples from different distributions."
      ]
    },
    {
      "cell_type": "code",
      "execution_count": null,
      "id": "1d43827e",
      "metadata": {
        "id": "1d43827e",
        "outputId": "9bd42bf6-73c1-4f08-97ab-a3b34e306579"
      },
      "outputs": [
        {
          "data": {
            "text/plain": [
              "array([[0.84311407, 0.49859486],\n",
              "       [0.80452868, 0.05227964],\n",
              "       [0.11990208, 0.71198728],\n",
              "       [0.66540231, 0.87168639],\n",
              "       [0.76809183, 0.84889362]])"
            ]
          },
          "execution_count": 73,
          "metadata": {},
          "output_type": "execute_result"
        }
      ],
      "source": [
        "rng = np.random.default_rng()\n",
        "rng.random(10).reshape(5, 2)"
      ]
    },
    {
      "cell_type": "code",
      "execution_count": null,
      "id": "55a37df9",
      "metadata": {
        "id": "55a37df9"
      },
      "outputs": [],
      "source": [
        "prng = np.random"
      ]
    },
    {
      "cell_type": "markdown",
      "id": "c83cd76b",
      "metadata": {
        "id": "c83cd76b"
      },
      "source": [
        "**rand**: Random values in given shape create a random array of the given shape and populate it with random samples from a uniform distribution over [0, 1).\n"
      ]
    },
    {
      "cell_type": "code",
      "execution_count": null,
      "id": "8777725e",
      "metadata": {
        "id": "8777725e",
        "outputId": "0fab46eb-faf5-46b2-ce90-1e91979392a0"
      },
      "outputs": [
        {
          "data": {
            "text/plain": [
              "array([[0.29058654, 0.12117237],\n",
              "       [0.24151672, 0.20627739],\n",
              "       [0.53323913, 0.74326435],\n",
              "       [0.25219902, 0.63957953],\n",
              "       [0.77071689, 0.62480638]])"
            ]
          },
          "execution_count": 80,
          "metadata": {},
          "output_type": "execute_result"
        }
      ],
      "source": [
        "prng.rand(5, 2)"
      ]
    },
    {
      "cell_type": "markdown",
      "id": "3c956ec4",
      "metadata": {
        "id": "3c956ec4"
      },
      "source": [
        "**randn**: Return a sample (or samples) from the standard normal distribution.\n",
        "\n",
        "- if positive int_like arguments are provided, randn generates an array of shape (d0, d1, d2, d3, d4, ....., dn) with float values from a univariate \"Normal\" (Gaussian) distribution with mean 0 and variance 1.\n",
        "- a single float from the distribution is returned if no argument is provided.\n"
      ]
    },
    {
      "cell_type": "code",
      "execution_count": null,
      "id": "80330979",
      "metadata": {
        "id": "80330979",
        "outputId": "1eb4079e-4e15-48ae-9413-ac8f9d9a2f19"
      },
      "outputs": [
        {
          "data": {
            "text/plain": [
              "array([[ 1.03297629,  0.07897382],\n",
              "       [-1.66513018,  0.56648213],\n",
              "       [-1.06531266, -2.01650085],\n",
              "       [ 0.05720545,  1.16170356],\n",
              "       [-2.27498635, -0.61755645]])"
            ]
          },
          "execution_count": 81,
          "metadata": {},
          "output_type": "execute_result"
        }
      ],
      "source": [
        "prng.randn(5, 2)"
      ]
    },
    {
      "cell_type": "markdown",
      "id": "505f5771",
      "metadata": {
        "id": "505f5771"
      },
      "source": [
        "**randint**: method return random integers from low(inclusive) to high(exclusive).\n",
        "- This method return random integers from the \"discrete uniform distribution\" of the specified dtype in the half open interval [low, high).\n",
        "\n",
        "- If high is None(default), then result are from [0, low)."
      ]
    },
    {
      "cell_type": "code",
      "execution_count": null,
      "id": "cf3684f0",
      "metadata": {
        "id": "cf3684f0",
        "outputId": "4b90baac-e69d-409e-d2c9-836afb192d10"
      },
      "outputs": [
        {
          "data": {
            "text/html": [
              "<div>\n",
              "<style scoped>\n",
              "    .dataframe tbody tr th:only-of-type {\n",
              "        vertical-align: middle;\n",
              "    }\n",
              "\n",
              "    .dataframe tbody tr th {\n",
              "        vertical-align: top;\n",
              "    }\n",
              "\n",
              "    .dataframe thead th {\n",
              "        text-align: right;\n",
              "    }\n",
              "</style>\n",
              "<table border=\"1\" class=\"dataframe\">\n",
              "  <thead>\n",
              "    <tr style=\"text-align: right;\">\n",
              "      <th></th>\n",
              "      <th>0</th>\n",
              "      <th>1</th>\n",
              "    </tr>\n",
              "  </thead>\n",
              "  <tbody>\n",
              "    <tr>\n",
              "      <th>0</th>\n",
              "      <td>11</td>\n",
              "      <td>27</td>\n",
              "    </tr>\n",
              "    <tr>\n",
              "      <th>1</th>\n",
              "      <td>36</td>\n",
              "      <td>54</td>\n",
              "    </tr>\n",
              "    <tr>\n",
              "      <th>2</th>\n",
              "      <td>37</td>\n",
              "      <td>70</td>\n",
              "    </tr>\n",
              "    <tr>\n",
              "      <th>3</th>\n",
              "      <td>54</td>\n",
              "      <td>79</td>\n",
              "    </tr>\n",
              "    <tr>\n",
              "      <th>4</th>\n",
              "      <td>78</td>\n",
              "      <td>70</td>\n",
              "    </tr>\n",
              "  </tbody>\n",
              "</table>\n",
              "</div>"
            ],
            "text/plain": [
              "    0   1\n",
              "0  11  27\n",
              "1  36  54\n",
              "2  37  70\n",
              "3  54  79\n",
              "4  78  70"
            ]
          },
          "execution_count": 87,
          "metadata": {},
          "output_type": "execute_result"
        }
      ],
      "source": [
        "arr = prng.randint(low = 10, high = 100, size = (5, 2))\n",
        "pd.DataFrame(arr)"
      ]
    },
    {
      "cell_type": "markdown",
      "id": "9e9ac75b",
      "metadata": {
        "id": "9e9ac75b"
      },
      "source": [
        "**random_integers** method returns random integers of type np.int_ between low and high, inclusive.\n",
        "- This method returns random integers of type np.int_ from a discrete uniform distribution in the closed interval [low, high]. If high is None(the default), then results are from [0, low].\n",
        "- The np.int_ type translated to the C long integer type and it's precision is platform dependent."
      ]
    },
    {
      "cell_type": "code",
      "execution_count": null,
      "id": "e1778c05",
      "metadata": {
        "id": "e1778c05",
        "outputId": "bea8133e-91a3-4fb0-9c70-06e6ceafc085"
      },
      "outputs": [
        {
          "name": "stderr",
          "output_type": "stream",
          "text": [
            "C:\\Users\\death\\AppData\\Local\\Temp\\ipykernel_21628\\1886848010.py:1: DeprecationWarning: This function is deprecated. Please call randint(5, 75 + 1) instead\n",
            "  prng.random_integers(low = 5, high = 75, size = (5, 5))\n"
          ]
        },
        {
          "data": {
            "text/plain": [
              "array([[23, 19, 36, 57, 18],\n",
              "       [75, 15, 48, 62, 17],\n",
              "       [41, 59,  9, 43, 30],\n",
              "       [39, 60, 67, 26, 17],\n",
              "       [28, 75, 41, 69, 43]])"
            ]
          },
          "execution_count": 88,
          "metadata": {},
          "output_type": "execute_result"
        }
      ],
      "source": [
        "prng.random_integers(low = 5, high = 75, size = (5, 5))"
      ]
    },
    {
      "cell_type": "markdown",
      "id": "1601a05b",
      "metadata": {
        "id": "1601a05b"
      },
      "source": [
        "**random_sample**: returns random floats in the half-interval [0.0, 1.0).\n",
        "\n",
        "- Results are from the \"continuous uniform\" distribution over the stated interval."
      ]
    },
    {
      "cell_type": "code",
      "execution_count": null,
      "id": "f9246c8c",
      "metadata": {
        "id": "f9246c8c",
        "outputId": "c7a9deed-b892-4668-f228-cc8eb7557470"
      },
      "outputs": [
        {
          "data": {
            "text/plain": [
              "array([[0.70815706, 0.30207376, 0.31902207, 0.58602635, 0.0797347 ],\n",
              "       [0.33391948, 0.04642185, 0.39796997, 0.76007574, 0.54828155],\n",
              "       [0.15741131, 0.45870451, 0.74499956, 0.60510878, 0.27693082],\n",
              "       [0.95876141, 0.3134844 , 0.87541984, 0.96707361, 0.08055644],\n",
              "       [0.14331784, 0.66327956, 0.19808327, 0.13037875, 0.39409928]])"
            ]
          },
          "execution_count": 92,
          "metadata": {},
          "output_type": "execute_result"
        }
      ],
      "source": [
        "prng.random_sample((5,5))"
      ]
    },
    {
      "cell_type": "markdown",
      "id": "c8082e26",
      "metadata": {
        "id": "c8082e26"
      },
      "source": [
        "**choice**: method generates a random sample froma given 1-D array.\n",
        "\n",
        "random.RandomState.choice(a, size= None, replace= True, p= None)\n",
        "\n",
        "- a: 1-D array-like or int\n",
        "- size: int or tuple of ints (default = None)\n",
        "- replace: boolean output. this ensures whether a sample is with or without replacement. Default is True, meaning that a value of \"a\" can be selected multiple times.\n",
        "- p: 1-D array specifying probabilities of occurrence of each element (default = uniform distribution over all values of a)"
      ]
    },
    {
      "cell_type": "code",
      "execution_count": null,
      "id": "21b700e0",
      "metadata": {
        "id": "21b700e0",
        "outputId": "ec664a9e-8630-4747-f0f5-2c39be1bc325"
      },
      "outputs": [
        {
          "name": "stdout",
          "output_type": "stream",
          "text": [
            "['Excel' 'Public policy analysis' 'Python']\n",
            "['Tableau' 'SQL' 'Public policy analysis']\n",
            "['Python' 'Tableau' 'Risk Management']\n"
          ]
        }
      ],
      "source": [
        "a = [\"Maths\", \"Python\", \"SQL\", \"Excel\", \"Powerbi\", \"Tableau\", \"Statistics\", \"Public policy analysis\", \"Operations Reasearch\", \"Risk Management\"]\n",
        "\n",
        "for i in range(3):\n",
        "    print(prng.choice(a, size = 3, replace = True))"
      ]
    },
    {
      "cell_type": "code",
      "execution_count": null,
      "id": "08f3c43a",
      "metadata": {
        "id": "08f3c43a",
        "outputId": "06408b53-1652-408d-ddb1-b5557649111c"
      },
      "outputs": [
        {
          "data": {
            "text/html": [
              "<div>\n",
              "<style scoped>\n",
              "    .dataframe tbody tr th:only-of-type {\n",
              "        vertical-align: middle;\n",
              "    }\n",
              "\n",
              "    .dataframe tbody tr th {\n",
              "        vertical-align: top;\n",
              "    }\n",
              "\n",
              "    .dataframe thead th {\n",
              "        text-align: right;\n",
              "    }\n",
              "</style>\n",
              "<table border=\"1\" class=\"dataframe\">\n",
              "  <thead>\n",
              "    <tr style=\"text-align: right;\">\n",
              "      <th></th>\n",
              "      <th>s1</th>\n",
              "      <th>s2</th>\n",
              "      <th>s3</th>\n",
              "    </tr>\n",
              "  </thead>\n",
              "  <tbody>\n",
              "    <tr>\n",
              "      <th>0</th>\n",
              "      <td>Maths</td>\n",
              "      <td>Risk Management</td>\n",
              "      <td>Python</td>\n",
              "    </tr>\n",
              "    <tr>\n",
              "      <th>1</th>\n",
              "      <td>Public policy analysis</td>\n",
              "      <td>Tableau</td>\n",
              "      <td>Risk Management</td>\n",
              "    </tr>\n",
              "    <tr>\n",
              "      <th>2</th>\n",
              "      <td>Maths</td>\n",
              "      <td>Public policy analysis</td>\n",
              "      <td>Statistics</td>\n",
              "    </tr>\n",
              "  </tbody>\n",
              "</table>\n",
              "</div>"
            ],
            "text/plain": [
              "                       s1                      s2               s3\n",
              "0                   Maths         Risk Management           Python\n",
              "1  Public policy analysis                 Tableau  Risk Management\n",
              "2                   Maths  Public policy analysis       Statistics"
            ]
          },
          "execution_count": 97,
          "metadata": {},
          "output_type": "execute_result"
        }
      ],
      "source": [
        "pd.DataFrame(prng.choice(a, size = (3,3), replace = True), columns = [\"s1\", \"s2\", \"s3\"])"
      ]
    },
    {
      "cell_type": "markdown",
      "id": "9355fb77",
      "metadata": {
        "id": "9355fb77"
      },
      "source": [
        "**bytes**: method returns random bytes"
      ]
    },
    {
      "cell_type": "code",
      "execution_count": null,
      "id": "db18a37d",
      "metadata": {
        "id": "db18a37d",
        "outputId": "e8e66012-e7cf-4d62-c718-26167d03dd80"
      },
      "outputs": [
        {
          "data": {
            "text/plain": [
              "b'\\x7f\\xd1xzx\\x1b0=\\xa7\\x8f'"
            ]
          },
          "execution_count": 98,
          "metadata": {},
          "output_type": "execute_result"
        }
      ],
      "source": [
        "prng.bytes(10)"
      ]
    },
    {
      "cell_type": "markdown",
      "id": "aef7f23e",
      "metadata": {
        "id": "aef7f23e"
      },
      "source": [
        "**identity**: method returns an identity matrix/ square matrix of the size provided."
      ]
    },
    {
      "cell_type": "code",
      "execution_count": null,
      "id": "69ce5adb",
      "metadata": {
        "id": "69ce5adb",
        "outputId": "6931d996-5cb3-4cf0-af0f-064899bd3d72"
      },
      "outputs": [
        {
          "data": {
            "text/plain": [
              "array([[1., 0., 0.],\n",
              "       [0., 1., 0.],\n",
              "       [0., 0., 1.]])"
            ]
          },
          "execution_count": 136,
          "metadata": {},
          "output_type": "execute_result"
        }
      ],
      "source": [
        "np.identity(3)"
      ]
    },
    {
      "cell_type": "markdown",
      "id": "fc78d66c",
      "metadata": {
        "id": "fc78d66c"
      },
      "source": [
        "## Indexing and Slicing arrays ##"
      ]
    },
    {
      "cell_type": "markdown",
      "id": "c56f8384",
      "metadata": {
        "id": "c56f8384"
      },
      "source": [
        "Indexing and slicing NumPy arrays is done as we do Pandas dataframes, Pandas series and lists."
      ]
    },
    {
      "cell_type": "code",
      "execution_count": null,
      "id": "0185bc13",
      "metadata": {
        "id": "0185bc13",
        "outputId": "9bde444d-8e75-4268-8eee-11065c2b4164"
      },
      "outputs": [
        {
          "data": {
            "text/plain": [
              "array([[259, 295],\n",
              "       [312, 316],\n",
              "       [320, 292],\n",
              "       [300, 267],\n",
              "       [287, 298],\n",
              "       [270, 322],\n",
              "       [296, 270],\n",
              "       [304, 271]])"
            ]
          },
          "execution_count": 4,
          "metadata": {},
          "output_type": "execute_result"
        }
      ],
      "source": [
        "#Initialising a numpy array#\n",
        "array = np.random.randint(low = 256, high = 324, size = (8, 2))\n",
        "array"
      ]
    },
    {
      "cell_type": "code",
      "execution_count": null,
      "id": "4330e088",
      "metadata": {
        "id": "4330e088",
        "outputId": "9e651599-8901-4ea1-996b-fc1b59ef13cb"
      },
      "outputs": [
        {
          "data": {
            "text/plain": [
              "array([312, 316])"
            ]
          },
          "execution_count": 7,
          "metadata": {},
          "output_type": "execute_result"
        }
      ],
      "source": [
        "#Slicing#\n",
        "array[1, :]"
      ]
    },
    {
      "cell_type": "code",
      "execution_count": null,
      "id": "864608bb",
      "metadata": {
        "id": "864608bb",
        "outputId": "614c7cc0-cfd4-407b-c080-be0e5a30e34e"
      },
      "outputs": [
        {
          "data": {
            "text/plain": [
              "312"
            ]
          },
          "execution_count": 8,
          "metadata": {},
          "output_type": "execute_result"
        }
      ],
      "source": [
        "#accessing elements#\n",
        "array[1,0]"
      ]
    },
    {
      "cell_type": "code",
      "execution_count": null,
      "id": "f605dd9a",
      "metadata": {
        "id": "f605dd9a",
        "outputId": "cc46c635-b25a-49e4-ce42-51dee154efab"
      },
      "outputs": [
        {
          "data": {
            "text/plain": [
              "array([[259, 295],\n",
              "       [312, 316],\n",
              "       [320, 292]])"
            ]
          },
          "execution_count": 9,
          "metadata": {},
          "output_type": "execute_result"
        }
      ],
      "source": [
        "#accessing first three elements#\n",
        "array[:3]"
      ]
    },
    {
      "cell_type": "code",
      "execution_count": null,
      "id": "4a267dc4",
      "metadata": {
        "id": "4a267dc4",
        "outputId": "8b9492bb-c8a4-40de-c6b1-25403955604c"
      },
      "outputs": [
        {
          "data": {
            "text/plain": [
              "array([[295, 259],\n",
              "       [316, 312],\n",
              "       [292, 320],\n",
              "       [267, 300],\n",
              "       [298, 287],\n",
              "       [322, 270],\n",
              "       [270, 296],\n",
              "       [271, 304]])"
            ]
          },
          "execution_count": 26,
          "metadata": {},
          "output_type": "execute_result"
        }
      ],
      "source": [
        "#accessing second column of the array#\n",
        "col2 = array[:, 1].reshape(-1,1)\n",
        "#accessing first column of the array#\n",
        "col1 = array[:, 0].reshape(-1,1)\n",
        "#creating an array with columns interchanged#\n",
        "rev = np.concatenate((col2, col1), axis = 1)\n",
        "rev"
      ]
    },
    {
      "cell_type": "markdown",
      "id": "33f209bf",
      "metadata": {
        "id": "33f209bf"
      },
      "source": [
        "**np.vstack()** & **np.hstack()**: In addition to the np.concatenate() function, NumPy provides two functions that can be used to concatenate 2d arrays. These functions are specifically designed for vertical and horizontal concatenation, respectively.\n"
      ]
    },
    {
      "cell_type": "code",
      "execution_count": null,
      "id": "ebfebd98",
      "metadata": {
        "id": "ebfebd98",
        "outputId": "c6679f68-cab7-4bcf-f473-6554e8be55ce"
      },
      "outputs": [
        {
          "data": {
            "text/plain": [
              "array([[295],\n",
              "       [316],\n",
              "       [292],\n",
              "       [267],\n",
              "       [298],\n",
              "       [322],\n",
              "       [270],\n",
              "       [271],\n",
              "       [259],\n",
              "       [312],\n",
              "       [320],\n",
              "       [300],\n",
              "       [287],\n",
              "       [270],\n",
              "       [296],\n",
              "       [304]])"
            ]
          },
          "execution_count": 28,
          "metadata": {},
          "output_type": "execute_result"
        }
      ],
      "source": [
        "np.vstack((col2, col1))"
      ]
    },
    {
      "cell_type": "code",
      "execution_count": null,
      "id": "709246c0",
      "metadata": {
        "id": "709246c0",
        "outputId": "06446dcf-fc8f-4d19-ef84-1c8d0e584fd3"
      },
      "outputs": [
        {
          "data": {
            "text/plain": [
              "array([[295, 259],\n",
              "       [316, 312],\n",
              "       [292, 320],\n",
              "       [267, 300],\n",
              "       [298, 287],\n",
              "       [322, 270],\n",
              "       [270, 296],\n",
              "       [271, 304]])"
            ]
          },
          "execution_count": 30,
          "metadata": {},
          "output_type": "execute_result"
        }
      ],
      "source": [
        "arrbm = np.hstack((col2, col1))\n",
        "arrbm"
      ]
    },
    {
      "cell_type": "markdown",
      "id": "6682b18d",
      "metadata": {
        "id": "6682b18d"
      },
      "source": [
        "## Boolean Mask ##"
      ]
    },
    {
      "cell_type": "markdown",
      "id": "cd94714a",
      "metadata": {
        "id": "cd94714a"
      },
      "source": [
        "One of the most powerful concepts in NumPy is Boolean masking.\n",
        "- We can subset the NumPy array based on a logical true false condition and get the output as the elements which satisy that condition."
      ]
    },
    {
      "cell_type": "code",
      "execution_count": null,
      "id": "5e8167eb",
      "metadata": {
        "id": "5e8167eb",
        "outputId": "940008f2-495f-4a61-c9c9-e46edd74b182"
      },
      "outputs": [
        {
          "data": {
            "text/plain": [
              "array([[295, 259],\n",
              "       [316, 312],\n",
              "       [292, 320],\n",
              "       [267, 300],\n",
              "       [298, 287],\n",
              "       [322, 270],\n",
              "       [270, 296],\n",
              "       [271, 304]])"
            ]
          },
          "execution_count": 31,
          "metadata": {},
          "output_type": "execute_result"
        }
      ],
      "source": [
        "arrbm"
      ]
    },
    {
      "cell_type": "markdown",
      "id": "14aba79e",
      "metadata": {
        "id": "14aba79e"
      },
      "source": [
        "**logical_or**: Perform element wise logical OR operation on arrays and returns an array with true and false values at respective indexes.\n",
        "- np.logical_or accepts only two arrays and not more so for performing multiple operations nesting can be used.\n",
        "- np.logical_or( x, y , out = None, where = True)"
      ]
    },
    {
      "cell_type": "code",
      "execution_count": null,
      "id": "5c5e14c3",
      "metadata": {
        "id": "5c5e14c3",
        "outputId": "4395e43a-4e52-4251-ecbe-73eb1768bebe"
      },
      "outputs": [
        {
          "data": {
            "text/plain": [
              "array([[ True, False],\n",
              "       [False,  True],\n",
              "       [False,  True],\n",
              "       [ True,  True],\n",
              "       [False, False],\n",
              "       [False,  True],\n",
              "       [ True, False],\n",
              "       [False, False]])"
            ]
          },
          "execution_count": 76,
          "metadata": {},
          "output_type": "execute_result"
        }
      ],
      "source": [
        "np.logical_or(arrbm % 5 == 0 , arrbm % 3 == 0)"
      ]
    },
    {
      "cell_type": "code",
      "execution_count": null,
      "id": "85728304",
      "metadata": {
        "id": "85728304",
        "outputId": "262bb72c-0501-40bc-b58d-1d97f5bae187"
      },
      "outputs": [
        {
          "data": {
            "text/plain": [
              "array([259, 316, 312, 292, 267, 298, 287, 322, 296, 271])"
            ]
          },
          "execution_count": 77,
          "metadata": {},
          "output_type": "execute_result"
        }
      ],
      "source": [
        "arrbm[~np.logical_or(arrbm % 16 == 0, np.logical_or(arrbm % 18 == 0, arrbm % 5 == 0))]"
      ]
    },
    {
      "cell_type": "code",
      "execution_count": null,
      "id": "158357e6",
      "metadata": {
        "id": "158357e6",
        "outputId": "4472c6ba-77ce-4c71-afab-5594aa511a4f"
      },
      "outputs": [
        {
          "data": {
            "text/plain": [
              "array([295, 320, 300, 270, 270, 304])"
            ]
          },
          "execution_count": 78,
          "metadata": {},
          "output_type": "execute_result"
        }
      ],
      "source": [
        "arrbm[np.logical_or(arrbm % 16 == 0, np.logical_or(arrbm % 18 == 0, arrbm % 5 == 0))]"
      ]
    },
    {
      "cell_type": "code",
      "execution_count": null,
      "id": "4377252f",
      "metadata": {
        "id": "4377252f",
        "outputId": "6582cab5-99e1-49de-d060-f9c355a3cf8e"
      },
      "outputs": [
        {
          "data": {
            "text/plain": [
              "array([295, 320, 300, 270, 270, 304])"
            ]
          },
          "execution_count": 219,
          "metadata": {},
          "output_type": "execute_result"
        }
      ],
      "source": [
        "arrbm[((arrbm % 16 == 0) | (arrbm % 5 == 0))]"
      ]
    },
    {
      "cell_type": "code",
      "execution_count": null,
      "id": "ddf7856c",
      "metadata": {
        "id": "ddf7856c",
        "outputId": "ef7f6589-8aaa-4579-a310-f3a55a1083ec"
      },
      "outputs": [
        {
          "data": {
            "text/plain": [
              "array([295, 320, 300, 270, 270, 304])"
            ]
          },
          "execution_count": 220,
          "metadata": {},
          "output_type": "execute_result"
        }
      ],
      "source": [
        "arrbm[((arrbm % 16 == 0) | (arrbm % 5 == 0) | (arrbm % 18 == 0))]"
      ]
    },
    {
      "cell_type": "markdown",
      "id": "a4d41be3",
      "metadata": {
        "id": "a4d41be3"
      },
      "source": [
        "**logical_and**: performs element wise logical_and operation on two numpy arrays and returns a NumPy array with true and false values at respective indexes."
      ]
    },
    {
      "cell_type": "code",
      "execution_count": null,
      "id": "92f0f0fc",
      "metadata": {
        "id": "92f0f0fc",
        "outputId": "69cd472d-2e3a-4c18-8174-4eb33d5844c8"
      },
      "outputs": [
        {
          "data": {
            "text/plain": [
              "array([320])"
            ]
          },
          "execution_count": 61,
          "metadata": {},
          "output_type": "execute_result"
        }
      ],
      "source": [
        "arrbm[np.logical_and(arrbm % 16 == 0, arrbm % 5 == 0)]"
      ]
    },
    {
      "cell_type": "code",
      "execution_count": null,
      "id": "07f66d0b",
      "metadata": {
        "id": "07f66d0b",
        "outputId": "63620bdd-e7f4-4919-e51f-2bc6094fa09e"
      },
      "outputs": [
        {
          "data": {
            "text/plain": [
              "array([320])"
            ]
          },
          "execution_count": 218,
          "metadata": {},
          "output_type": "execute_result"
        }
      ],
      "source": [
        "arrbm[((arrbm % 16 == 0) & (arrbm % 5 == 0))]"
      ]
    },
    {
      "cell_type": "code",
      "execution_count": null,
      "id": "2514b55d",
      "metadata": {
        "id": "2514b55d",
        "outputId": "a6b498a3-0615-4706-e8c1-19e160a79eab"
      },
      "outputs": [
        {
          "data": {
            "text/plain": [
              "array([270, 270])"
            ]
          },
          "execution_count": 217,
          "metadata": {},
          "output_type": "execute_result"
        }
      ],
      "source": [
        "arrbm[((arrbm % 3 == 0) & (arrbm % 5 == 0) & (arrbm % 18 == 0))]"
      ]
    },
    {
      "cell_type": "markdown",
      "id": "c8975919",
      "metadata": {
        "id": "c8975919"
      },
      "source": [
        "### Accessing/Changing specific elements, rows, columns ets. ###"
      ]
    },
    {
      "cell_type": "code",
      "execution_count": null,
      "id": "0f2326a7",
      "metadata": {
        "id": "0f2326a7",
        "outputId": "9602fb43-5a79-4063-89a7-ccb6e7c4adad"
      },
      "outputs": [
        {
          "data": {
            "text/plain": [
              "array([[ 3,  1, 12,  5,  4,  2, 12],\n",
              "       [ 9,  7,  6,  8,  5,  6,  6]])"
            ]
          },
          "execution_count": 99,
          "metadata": {},
          "output_type": "execute_result"
        }
      ],
      "source": [
        "a = np.random.randint(1, 15, (2, 7))\n",
        "a"
      ]
    },
    {
      "cell_type": "code",
      "execution_count": null,
      "id": "19492952",
      "metadata": {
        "id": "19492952",
        "outputId": "5622800d-1565-4d58-d5f6-9ef371064f10"
      },
      "outputs": [
        {
          "data": {
            "text/plain": [
              "6"
            ]
          },
          "execution_count": 100,
          "metadata": {},
          "output_type": "execute_result"
        }
      ],
      "source": [
        "# Get a specific element\n",
        "a[1, 5]"
      ]
    },
    {
      "cell_type": "code",
      "execution_count": null,
      "id": "d5467bfa",
      "metadata": {
        "id": "d5467bfa",
        "outputId": "b0590ab1-798f-4a9d-b27c-2a888428d36b"
      },
      "outputs": [
        {
          "data": {
            "text/plain": [
              "array([9, 7, 6, 8, 5, 6, 6])"
            ]
          },
          "execution_count": 101,
          "metadata": {},
          "output_type": "execute_result"
        }
      ],
      "source": [
        "# Get a specific row\n",
        "a[1,:]"
      ]
    },
    {
      "cell_type": "code",
      "execution_count": null,
      "id": "a4efbf98",
      "metadata": {
        "id": "a4efbf98",
        "outputId": "64c24a71-0367-4db7-c788-ae2b0cc6f69d"
      },
      "outputs": [
        {
          "data": {
            "text/plain": [
              "array([12,  6])"
            ]
          },
          "execution_count": 102,
          "metadata": {},
          "output_type": "execute_result"
        }
      ],
      "source": [
        "# Get a specific column\n",
        "a[:, 2]"
      ]
    },
    {
      "cell_type": "code",
      "execution_count": null,
      "id": "474c5337",
      "metadata": {
        "id": "474c5337",
        "outputId": "77bd8340-e4d5-44c9-f474-305b24ae16a0"
      },
      "outputs": [
        {
          "data": {
            "text/plain": [
              "array([1, 5, 2])"
            ]
          },
          "execution_count": 114,
          "metadata": {},
          "output_type": "execute_result"
        }
      ],
      "source": [
        "# [start_idx: end_idx : stepsize]\n",
        "a[0, 1:-1:2]"
      ]
    },
    {
      "cell_type": "code",
      "execution_count": null,
      "id": "c5635961",
      "metadata": {
        "id": "c5635961",
        "outputId": "b48fb806-d980-4361-ac25-cc7d0f1ea66d"
      },
      "outputs": [
        {
          "data": {
            "text/plain": [
              "array([[61,  3, 87, 30, 37, 51, 13],\n",
              "       [ 9,  7,  6,  8,  5,  6,  6]])"
            ]
          },
          "execution_count": 128,
          "metadata": {},
          "output_type": "execute_result"
        }
      ],
      "source": [
        "# modifying elements\n",
        "a[0, :] = np.random.randint(0, 100, (7))\n",
        "a"
      ]
    },
    {
      "cell_type": "code",
      "execution_count": null,
      "id": "2e627f17",
      "metadata": {
        "id": "2e627f17",
        "outputId": "7e7a3ec0-682e-478f-cf44-9054a5012c83"
      },
      "outputs": [
        {
          "data": {
            "text/plain": [
              "array([[77],\n",
              "       [63],\n",
              "       [ 2],\n",
              "       [11],\n",
              "       [29],\n",
              "       [74],\n",
              "       [27]])"
            ]
          },
          "execution_count": 126,
          "metadata": {},
          "output_type": "execute_result"
        }
      ],
      "source": [
        "np.random.randint(0, 100, (7, 1))"
      ]
    },
    {
      "cell_type": "markdown",
      "id": "c30a8f76",
      "metadata": {
        "id": "c30a8f76"
      },
      "source": [
        "**Creating a padded array using indexing and slicing**"
      ]
    },
    {
      "cell_type": "code",
      "execution_count": null,
      "id": "738036ef",
      "metadata": {
        "id": "738036ef",
        "outputId": "cd5d95c9-4719-409b-8902-3f11c16942b9"
      },
      "outputs": [
        {
          "name": "stdout",
          "output_type": "stream",
          "text": [
            "[[1. 1. 1. 1. 1.]\n",
            " [1. 1. 1. 1. 1.]\n",
            " [1. 1. 1. 1. 1.]\n",
            " [1. 1. 1. 1. 1.]\n",
            " [1. 1. 1. 1. 1.]]\n",
            "[[0. 0. 0.]\n",
            " [0. 9. 0.]\n",
            " [0. 0. 0.]]\n"
          ]
        }
      ],
      "source": [
        "array = np.ones((5,5))\n",
        "print(array)\n",
        "z = np.zeros((3,3))\n",
        "z[1,1] = 9\n",
        "print(z)"
      ]
    },
    {
      "cell_type": "code",
      "execution_count": null,
      "id": "f6f91d6b",
      "metadata": {
        "id": "f6f91d6b",
        "outputId": "dcd630e5-9dd2-423c-a8f3-b834b513c157"
      },
      "outputs": [
        {
          "name": "stdout",
          "output_type": "stream",
          "text": [
            "[[1. 1. 1. 1. 1.]\n",
            " [1. 0. 0. 0. 1.]\n",
            " [1. 0. 9. 0. 1.]\n",
            " [1. 0. 0. 0. 1.]\n",
            " [1. 1. 1. 1. 1.]]\n"
          ]
        }
      ],
      "source": [
        "array[1:4, 1:4] = z\n",
        "print(array)"
      ]
    },
    {
      "cell_type": "markdown",
      "id": "0bfea268",
      "metadata": {
        "id": "0bfea268"
      },
      "source": [
        "#### Copying arrays ####"
      ]
    },
    {
      "cell_type": "code",
      "execution_count": null,
      "id": "29b8430e",
      "metadata": {
        "id": "29b8430e",
        "outputId": "e65b33bf-2a31-464d-cdea-9f8f74b19751"
      },
      "outputs": [
        {
          "data": {
            "text/plain": [
              "array([100,   2,   3])"
            ]
          },
          "execution_count": 156,
          "metadata": {},
          "output_type": "execute_result"
        }
      ],
      "source": [
        "a = np.array([1, 2, 3])\n",
        "b = a\n",
        "b[0] = 100\n",
        "a"
      ]
    },
    {
      "cell_type": "markdown",
      "id": "a016d982",
      "metadata": {
        "id": "a016d982"
      },
      "source": [
        "NumPy array can not be copied by using assignment operators as it creates a referenced instance of the same array and any change to the value of the new array would automatically be reflected in the source array. So, for copying arrays **np.copy** can be used."
      ]
    },
    {
      "cell_type": "markdown",
      "id": "f0f65170",
      "metadata": {
        "id": "f0f65170"
      },
      "source": [
        "**.copy()**: copies contents of one array to a new array"
      ]
    },
    {
      "cell_type": "code",
      "execution_count": null,
      "id": "3806e8e7",
      "metadata": {
        "id": "3806e8e7",
        "outputId": "fa5c5e37-e083-414e-beda-9b9e0aef753a"
      },
      "outputs": [
        {
          "name": "stdout",
          "output_type": "stream",
          "text": [
            "a =  [1 2 3] \n",
            "&\n",
            "b =  [100   2   3] \n",
            "evidently changes made in b are not being reflected in a\n"
          ]
        }
      ],
      "source": [
        "a = np.array([1, 2, 3])\n",
        "b = a.copy()\n",
        "b[0] = 100\n",
        "print(\"a = \", a, \"\\n&\\nb = \", b, \"\\nevidently changes made in b are not being reflected in a\")"
      ]
    },
    {
      "cell_type": "markdown",
      "id": "e4655feb",
      "metadata": {
        "id": "e4655feb"
      },
      "source": [
        "## Mathematical Operations ##"
      ]
    },
    {
      "cell_type": "code",
      "execution_count": null,
      "id": "b3b2bc34",
      "metadata": {
        "id": "b3b2bc34",
        "outputId": "6c8a72ad-010c-4389-a920-691e1292140d"
      },
      "outputs": [
        {
          "data": {
            "text/plain": [
              "array([1, 2, 3, 4])"
            ]
          },
          "execution_count": 174,
          "metadata": {},
          "output_type": "execute_result"
        }
      ],
      "source": [
        "a = np.arange(1, 5)\n",
        "a"
      ]
    },
    {
      "cell_type": "code",
      "execution_count": null,
      "id": "25721738",
      "metadata": {
        "id": "25721738",
        "outputId": "f971bbb8-6b31-40f5-8f7f-4dbc9c0c9b70"
      },
      "outputs": [
        {
          "data": {
            "text/plain": [
              "array([1, 2, 3, 4])"
            ]
          },
          "execution_count": 175,
          "metadata": {},
          "output_type": "execute_result"
        }
      ],
      "source": [
        "a + 2\n",
        "a"
      ]
    },
    {
      "cell_type": "code",
      "execution_count": null,
      "id": "e3398a24",
      "metadata": {
        "id": "e3398a24",
        "outputId": "88f67b5e-e9e2-4ec6-9318-d4b61e756264"
      },
      "outputs": [
        {
          "data": {
            "text/plain": [
              "array([-1,  0,  1,  2])"
            ]
          },
          "execution_count": 176,
          "metadata": {},
          "output_type": "execute_result"
        }
      ],
      "source": [
        "a - 2"
      ]
    },
    {
      "cell_type": "code",
      "execution_count": null,
      "id": "9b205ae7",
      "metadata": {
        "id": "9b205ae7",
        "outputId": "0d3d4534-1586-49b4-8274-7f2cc19f21b8"
      },
      "outputs": [
        {
          "data": {
            "text/plain": [
              "array([2, 4, 6, 8])"
            ]
          },
          "execution_count": 177,
          "metadata": {},
          "output_type": "execute_result"
        }
      ],
      "source": [
        "a * 2"
      ]
    },
    {
      "cell_type": "code",
      "execution_count": null,
      "id": "f50a25b5",
      "metadata": {
        "id": "f50a25b5",
        "outputId": "047519b4-e42d-423f-ced6-f95575cdb368"
      },
      "outputs": [
        {
          "data": {
            "text/plain": [
              "array([0.5, 1. , 1.5, 2. ])"
            ]
          },
          "execution_count": 178,
          "metadata": {},
          "output_type": "execute_result"
        }
      ],
      "source": [
        "a / 2"
      ]
    },
    {
      "cell_type": "code",
      "execution_count": null,
      "id": "8a315e96",
      "metadata": {
        "id": "8a315e96",
        "outputId": "7cc14625-421a-4c0e-ab01-60080bb60494"
      },
      "outputs": [
        {
          "data": {
            "text/plain": [
              "array([ 1,  4,  9, 16], dtype=int32)"
            ]
          },
          "execution_count": 179,
          "metadata": {},
          "output_type": "execute_result"
        }
      ],
      "source": [
        "a ** 2"
      ]
    },
    {
      "cell_type": "code",
      "execution_count": null,
      "id": "3319187a",
      "metadata": {
        "id": "3319187a",
        "outputId": "1ee709e1-0f81-4964-8db9-7956d50ad541"
      },
      "outputs": [
        {
          "data": {
            "text/plain": [
              "array([ 0.54030231, -0.41614684, -0.9899925 , -0.65364362])"
            ]
          },
          "execution_count": 180,
          "metadata": {},
          "output_type": "execute_result"
        }
      ],
      "source": [
        "np.cos(a)"
      ]
    },
    {
      "cell_type": "code",
      "execution_count": null,
      "id": "5e0b1305",
      "metadata": {
        "id": "5e0b1305",
        "outputId": "e5d68f4e-a46a-4020-cbc1-94e2731a2fe8"
      },
      "outputs": [
        {
          "data": {
            "text/plain": [
              "array([2, 2, 4, 4])"
            ]
          },
          "execution_count": 183,
          "metadata": {},
          "output_type": "execute_result"
        }
      ],
      "source": [
        "b = np.array([0 if i%2 == 0 else 1 for i in range(1, 5)])\n",
        "a + b"
      ]
    },
    {
      "cell_type": "code",
      "execution_count": null,
      "id": "f37db60b",
      "metadata": {
        "id": "f37db60b",
        "outputId": "d0d9a76d-ea52-4b20-ee94-c546a2439e26"
      },
      "outputs": [
        {
          "data": {
            "text/plain": [
              "array([1, 0, 3, 0])"
            ]
          },
          "execution_count": 184,
          "metadata": {},
          "output_type": "execute_result"
        }
      ],
      "source": [
        "a * b"
      ]
    },
    {
      "cell_type": "code",
      "execution_count": null,
      "id": "e966f495",
      "metadata": {
        "id": "e966f495",
        "outputId": "0e207b26-096d-4af4-8dd3-7a4de7df67ea"
      },
      "outputs": [
        {
          "data": {
            "text/plain": [
              "array([1, 1, 3, 1], dtype=int32)"
            ]
          },
          "execution_count": 185,
          "metadata": {},
          "output_type": "execute_result"
        }
      ],
      "source": [
        "a ** b"
      ]
    },
    {
      "cell_type": "code",
      "execution_count": null,
      "id": "edb097fc",
      "metadata": {
        "id": "edb097fc",
        "outputId": "6118e786-bb0a-4563-eedf-32e00bbe366e"
      },
      "outputs": [
        {
          "data": {
            "text/plain": [
              "array([1.        , 0.        , 0.33333333, 0.        ])"
            ]
          },
          "execution_count": 186,
          "metadata": {},
          "output_type": "execute_result"
        }
      ],
      "source": [
        "b / a"
      ]
    },
    {
      "cell_type": "markdown",
      "id": "dd89c6e0",
      "metadata": {
        "id": "dd89c6e0"
      },
      "source": [
        "### Linear Algebra ###"
      ]
    },
    {
      "cell_type": "code",
      "execution_count": null,
      "id": "eaf3dfc7",
      "metadata": {
        "id": "eaf3dfc7",
        "outputId": "ef7c4d49-2461-4827-823b-3bfea91d1de6"
      },
      "outputs": [
        {
          "data": {
            "text/plain": [
              "array([[6, 6],\n",
              "       [6, 6]])"
            ]
          },
          "execution_count": 193,
          "metadata": {},
          "output_type": "execute_result"
        }
      ],
      "source": [
        "a = np.ones((2, 3), dtype = 'int16')\n",
        "b = np.full((3, 2), 2)\n",
        "np.matmul(a, b)"
      ]
    },
    {
      "cell_type": "code",
      "execution_count": null,
      "id": "e0481ae6",
      "metadata": {
        "id": "e0481ae6",
        "outputId": "75c15c3c-28ef-4606-990e-7e92b7ede3b0"
      },
      "outputs": [
        {
          "data": {
            "text/plain": [
              "1.0"
            ]
          },
          "execution_count": 194,
          "metadata": {},
          "output_type": "execute_result"
        }
      ],
      "source": [
        "c = np.identity(3)\n",
        "np.linalg.det(c)"
      ]
    },
    {
      "cell_type": "markdown",
      "id": "b961a981",
      "metadata": {
        "id": "b961a981"
      },
      "source": [
        "### Statistics ###"
      ]
    },
    {
      "cell_type": "code",
      "execution_count": null,
      "id": "e8a15b16",
      "metadata": {
        "id": "e8a15b16",
        "outputId": "aaa115a8-480a-4d30-d95b-4eab890e63c4"
      },
      "outputs": [
        {
          "data": {
            "text/plain": [
              "array([[4, 4, 1],\n",
              "       [2, 6, 3]])"
            ]
          },
          "execution_count": 204,
          "metadata": {},
          "output_type": "execute_result"
        }
      ],
      "source": [
        "stats = np.random.randint(1, 7, (2, 3))\n",
        "stats"
      ]
    },
    {
      "cell_type": "code",
      "execution_count": null,
      "id": "0281af03",
      "metadata": {
        "id": "0281af03",
        "outputId": "1da2d5d0-a0bf-414d-8527-32d868cc8a28"
      },
      "outputs": [
        {
          "data": {
            "text/plain": [
              "array([1, 2])"
            ]
          },
          "execution_count": 207,
          "metadata": {},
          "output_type": "execute_result"
        }
      ],
      "source": [
        "# axis = 1 for rows and 0 for columns\n",
        "np.min(stats, axis = 1)\n",
        "# returns minimum values in rows"
      ]
    },
    {
      "cell_type": "code",
      "execution_count": null,
      "id": "199cd3e4",
      "metadata": {
        "id": "199cd3e4",
        "outputId": "49986538-7d42-4b63-f13b-3aa7213d2da1"
      },
      "outputs": [
        {
          "data": {
            "text/plain": [
              "array([4, 6, 3])"
            ]
          },
          "execution_count": 206,
          "metadata": {},
          "output_type": "execute_result"
        }
      ],
      "source": [
        "np.max(stats, axis = 0)\n",
        "# returns maximum values in columns"
      ]
    },
    {
      "cell_type": "code",
      "execution_count": null,
      "id": "bf9f72fc",
      "metadata": {
        "id": "bf9f72fc",
        "outputId": "ef531886-558d-4253-a438-4a5d7d80b906"
      },
      "outputs": [
        {
          "data": {
            "text/plain": [
              "array([ 9, 11])"
            ]
          },
          "execution_count": 208,
          "metadata": {},
          "output_type": "execute_result"
        }
      ],
      "source": [
        "np.sum(stats, axis = 1)\n",
        "# sum of rows"
      ]
    },
    {
      "cell_type": "code",
      "execution_count": null,
      "id": "9630fe33",
      "metadata": {
        "id": "9630fe33",
        "outputId": "8c189d55-ce12-41f9-d7ac-103101a66860"
      },
      "outputs": [
        {
          "data": {
            "text/plain": [
              "array([3., 5., 2.])"
            ]
          },
          "execution_count": 210,
          "metadata": {},
          "output_type": "execute_result"
        }
      ],
      "source": [
        "np.mean(stats, axis = 0)\n",
        "# mean of columns"
      ]
    }
  ],
  "metadata": {
    "kernelspec": {
      "display_name": "Python 3 (ipykernel)",
      "language": "python",
      "name": "python3"
    },
    "language_info": {
      "codemirror_mode": {
        "name": "ipython",
        "version": 3
      },
      "file_extension": ".py",
      "mimetype": "text/x-python",
      "name": "python",
      "nbconvert_exporter": "python",
      "pygments_lexer": "ipython3",
      "version": "3.9.12"
    },
    "colab": {
      "provenance": []
    },
    "widgets": {
      "application/vnd.jupyter.widget-state+json": {
        "c47c794302974feba84794ce5458a4d0": {
          "model_module": "@jupyter-widgets/controls",
          "model_name": "HBoxModel",
          "model_module_version": "1.5.0",
          "state": {
            "_dom_classes": [],
            "_model_module": "@jupyter-widgets/controls",
            "_model_module_version": "1.5.0",
            "_model_name": "HBoxModel",
            "_view_count": null,
            "_view_module": "@jupyter-widgets/controls",
            "_view_module_version": "1.5.0",
            "_view_name": "HBoxView",
            "box_style": "",
            "children": [
              "IPY_MODEL_2761556ec2e8497fb529879a7b5e1414",
              "IPY_MODEL_969bf2e80f1f40e1b0d75d7030d97967",
              "IPY_MODEL_b48297e3f74b4fdcb57bddb18c8e1536"
            ],
            "layout": "IPY_MODEL_f25b291825e940cd9c09575294d5c4c2"
          }
        },
        "2761556ec2e8497fb529879a7b5e1414": {
          "model_module": "@jupyter-widgets/controls",
          "model_name": "HTMLModel",
          "model_module_version": "1.5.0",
          "state": {
            "_dom_classes": [],
            "_model_module": "@jupyter-widgets/controls",
            "_model_module_version": "1.5.0",
            "_model_name": "HTMLModel",
            "_view_count": null,
            "_view_module": "@jupyter-widgets/controls",
            "_view_module_version": "1.5.0",
            "_view_name": "HTMLView",
            "description": "",
            "description_tooltip": null,
            "layout": "IPY_MODEL_4ae7bb6dd3864a78a9799ce671541293",
            "placeholder": "​",
            "style": "IPY_MODEL_3072901d86e64a7292d7b3ea5d898884",
            "value": "config.json: 100%"
          }
        },
        "969bf2e80f1f40e1b0d75d7030d97967": {
          "model_module": "@jupyter-widgets/controls",
          "model_name": "FloatProgressModel",
          "model_module_version": "1.5.0",
          "state": {
            "_dom_classes": [],
            "_model_module": "@jupyter-widgets/controls",
            "_model_module_version": "1.5.0",
            "_model_name": "FloatProgressModel",
            "_view_count": null,
            "_view_module": "@jupyter-widgets/controls",
            "_view_module_version": "1.5.0",
            "_view_name": "ProgressView",
            "bar_style": "success",
            "description": "",
            "description_tooltip": null,
            "layout": "IPY_MODEL_9b33dcb182b14524ba85ce7387dc0c3c",
            "max": 629,
            "min": 0,
            "orientation": "horizontal",
            "style": "IPY_MODEL_af92c3fa1e5b4a11a0cf81fbe1aecc77",
            "value": 629
          }
        },
        "b48297e3f74b4fdcb57bddb18c8e1536": {
          "model_module": "@jupyter-widgets/controls",
          "model_name": "HTMLModel",
          "model_module_version": "1.5.0",
          "state": {
            "_dom_classes": [],
            "_model_module": "@jupyter-widgets/controls",
            "_model_module_version": "1.5.0",
            "_model_name": "HTMLModel",
            "_view_count": null,
            "_view_module": "@jupyter-widgets/controls",
            "_view_module_version": "1.5.0",
            "_view_name": "HTMLView",
            "description": "",
            "description_tooltip": null,
            "layout": "IPY_MODEL_d44bc804e27f4e038278e4ff463913ae",
            "placeholder": "​",
            "style": "IPY_MODEL_4193d5c642764fa4a6e09ef198a5b7a3",
            "value": " 629/629 [00:00&lt;00:00, 42.7kB/s]"
          }
        },
        "f25b291825e940cd9c09575294d5c4c2": {
          "model_module": "@jupyter-widgets/base",
          "model_name": "LayoutModel",
          "model_module_version": "1.2.0",
          "state": {
            "_model_module": "@jupyter-widgets/base",
            "_model_module_version": "1.2.0",
            "_model_name": "LayoutModel",
            "_view_count": null,
            "_view_module": "@jupyter-widgets/base",
            "_view_module_version": "1.2.0",
            "_view_name": "LayoutView",
            "align_content": null,
            "align_items": null,
            "align_self": null,
            "border": null,
            "bottom": null,
            "display": null,
            "flex": null,
            "flex_flow": null,
            "grid_area": null,
            "grid_auto_columns": null,
            "grid_auto_flow": null,
            "grid_auto_rows": null,
            "grid_column": null,
            "grid_gap": null,
            "grid_row": null,
            "grid_template_areas": null,
            "grid_template_columns": null,
            "grid_template_rows": null,
            "height": null,
            "justify_content": null,
            "justify_items": null,
            "left": null,
            "margin": null,
            "max_height": null,
            "max_width": null,
            "min_height": null,
            "min_width": null,
            "object_fit": null,
            "object_position": null,
            "order": null,
            "overflow": null,
            "overflow_x": null,
            "overflow_y": null,
            "padding": null,
            "right": null,
            "top": null,
            "visibility": null,
            "width": null
          }
        },
        "4ae7bb6dd3864a78a9799ce671541293": {
          "model_module": "@jupyter-widgets/base",
          "model_name": "LayoutModel",
          "model_module_version": "1.2.0",
          "state": {
            "_model_module": "@jupyter-widgets/base",
            "_model_module_version": "1.2.0",
            "_model_name": "LayoutModel",
            "_view_count": null,
            "_view_module": "@jupyter-widgets/base",
            "_view_module_version": "1.2.0",
            "_view_name": "LayoutView",
            "align_content": null,
            "align_items": null,
            "align_self": null,
            "border": null,
            "bottom": null,
            "display": null,
            "flex": null,
            "flex_flow": null,
            "grid_area": null,
            "grid_auto_columns": null,
            "grid_auto_flow": null,
            "grid_auto_rows": null,
            "grid_column": null,
            "grid_gap": null,
            "grid_row": null,
            "grid_template_areas": null,
            "grid_template_columns": null,
            "grid_template_rows": null,
            "height": null,
            "justify_content": null,
            "justify_items": null,
            "left": null,
            "margin": null,
            "max_height": null,
            "max_width": null,
            "min_height": null,
            "min_width": null,
            "object_fit": null,
            "object_position": null,
            "order": null,
            "overflow": null,
            "overflow_x": null,
            "overflow_y": null,
            "padding": null,
            "right": null,
            "top": null,
            "visibility": null,
            "width": null
          }
        },
        "3072901d86e64a7292d7b3ea5d898884": {
          "model_module": "@jupyter-widgets/controls",
          "model_name": "DescriptionStyleModel",
          "model_module_version": "1.5.0",
          "state": {
            "_model_module": "@jupyter-widgets/controls",
            "_model_module_version": "1.5.0",
            "_model_name": "DescriptionStyleModel",
            "_view_count": null,
            "_view_module": "@jupyter-widgets/base",
            "_view_module_version": "1.2.0",
            "_view_name": "StyleView",
            "description_width": ""
          }
        },
        "9b33dcb182b14524ba85ce7387dc0c3c": {
          "model_module": "@jupyter-widgets/base",
          "model_name": "LayoutModel",
          "model_module_version": "1.2.0",
          "state": {
            "_model_module": "@jupyter-widgets/base",
            "_model_module_version": "1.2.0",
            "_model_name": "LayoutModel",
            "_view_count": null,
            "_view_module": "@jupyter-widgets/base",
            "_view_module_version": "1.2.0",
            "_view_name": "LayoutView",
            "align_content": null,
            "align_items": null,
            "align_self": null,
            "border": null,
            "bottom": null,
            "display": null,
            "flex": null,
            "flex_flow": null,
            "grid_area": null,
            "grid_auto_columns": null,
            "grid_auto_flow": null,
            "grid_auto_rows": null,
            "grid_column": null,
            "grid_gap": null,
            "grid_row": null,
            "grid_template_areas": null,
            "grid_template_columns": null,
            "grid_template_rows": null,
            "height": null,
            "justify_content": null,
            "justify_items": null,
            "left": null,
            "margin": null,
            "max_height": null,
            "max_width": null,
            "min_height": null,
            "min_width": null,
            "object_fit": null,
            "object_position": null,
            "order": null,
            "overflow": null,
            "overflow_x": null,
            "overflow_y": null,
            "padding": null,
            "right": null,
            "top": null,
            "visibility": null,
            "width": null
          }
        },
        "af92c3fa1e5b4a11a0cf81fbe1aecc77": {
          "model_module": "@jupyter-widgets/controls",
          "model_name": "ProgressStyleModel",
          "model_module_version": "1.5.0",
          "state": {
            "_model_module": "@jupyter-widgets/controls",
            "_model_module_version": "1.5.0",
            "_model_name": "ProgressStyleModel",
            "_view_count": null,
            "_view_module": "@jupyter-widgets/base",
            "_view_module_version": "1.2.0",
            "_view_name": "StyleView",
            "bar_color": null,
            "description_width": ""
          }
        },
        "d44bc804e27f4e038278e4ff463913ae": {
          "model_module": "@jupyter-widgets/base",
          "model_name": "LayoutModel",
          "model_module_version": "1.2.0",
          "state": {
            "_model_module": "@jupyter-widgets/base",
            "_model_module_version": "1.2.0",
            "_model_name": "LayoutModel",
            "_view_count": null,
            "_view_module": "@jupyter-widgets/base",
            "_view_module_version": "1.2.0",
            "_view_name": "LayoutView",
            "align_content": null,
            "align_items": null,
            "align_self": null,
            "border": null,
            "bottom": null,
            "display": null,
            "flex": null,
            "flex_flow": null,
            "grid_area": null,
            "grid_auto_columns": null,
            "grid_auto_flow": null,
            "grid_auto_rows": null,
            "grid_column": null,
            "grid_gap": null,
            "grid_row": null,
            "grid_template_areas": null,
            "grid_template_columns": null,
            "grid_template_rows": null,
            "height": null,
            "justify_content": null,
            "justify_items": null,
            "left": null,
            "margin": null,
            "max_height": null,
            "max_width": null,
            "min_height": null,
            "min_width": null,
            "object_fit": null,
            "object_position": null,
            "order": null,
            "overflow": null,
            "overflow_x": null,
            "overflow_y": null,
            "padding": null,
            "right": null,
            "top": null,
            "visibility": null,
            "width": null
          }
        },
        "4193d5c642764fa4a6e09ef198a5b7a3": {
          "model_module": "@jupyter-widgets/controls",
          "model_name": "DescriptionStyleModel",
          "model_module_version": "1.5.0",
          "state": {
            "_model_module": "@jupyter-widgets/controls",
            "_model_module_version": "1.5.0",
            "_model_name": "DescriptionStyleModel",
            "_view_count": null,
            "_view_module": "@jupyter-widgets/base",
            "_view_module_version": "1.2.0",
            "_view_name": "StyleView",
            "description_width": ""
          }
        },
        "161bcd00729449a9bb3349f22464aebb": {
          "model_module": "@jupyter-widgets/controls",
          "model_name": "HBoxModel",
          "model_module_version": "1.5.0",
          "state": {
            "_dom_classes": [],
            "_model_module": "@jupyter-widgets/controls",
            "_model_module_version": "1.5.0",
            "_model_name": "HBoxModel",
            "_view_count": null,
            "_view_module": "@jupyter-widgets/controls",
            "_view_module_version": "1.5.0",
            "_view_name": "HBoxView",
            "box_style": "",
            "children": [
              "IPY_MODEL_8103377038f042a58e420d0c3f636398",
              "IPY_MODEL_91bc8b1a10344880ab54e6dda5db7762",
              "IPY_MODEL_6080dcd9c3714a3d9e22bdfb796f285c"
            ],
            "layout": "IPY_MODEL_f0ff5cfe8e184075906312810cc74f5f"
          }
        },
        "8103377038f042a58e420d0c3f636398": {
          "model_module": "@jupyter-widgets/controls",
          "model_name": "HTMLModel",
          "model_module_version": "1.5.0",
          "state": {
            "_dom_classes": [],
            "_model_module": "@jupyter-widgets/controls",
            "_model_module_version": "1.5.0",
            "_model_name": "HTMLModel",
            "_view_count": null,
            "_view_module": "@jupyter-widgets/controls",
            "_view_module_version": "1.5.0",
            "_view_name": "HTMLView",
            "description": "",
            "description_tooltip": null,
            "layout": "IPY_MODEL_019f42aa09d04c21a3bf08a047bab941",
            "placeholder": "​",
            "style": "IPY_MODEL_778b0462310244548f39706431e3ca7d",
            "value": "model.safetensors: 100%"
          }
        },
        "91bc8b1a10344880ab54e6dda5db7762": {
          "model_module": "@jupyter-widgets/controls",
          "model_name": "FloatProgressModel",
          "model_module_version": "1.5.0",
          "state": {
            "_dom_classes": [],
            "_model_module": "@jupyter-widgets/controls",
            "_model_module_version": "1.5.0",
            "_model_name": "FloatProgressModel",
            "_view_count": null,
            "_view_module": "@jupyter-widgets/controls",
            "_view_module_version": "1.5.0",
            "_view_name": "ProgressView",
            "bar_style": "success",
            "description": "",
            "description_tooltip": null,
            "layout": "IPY_MODEL_767aab14663b43058f7b97dd7ee7f5d7",
            "max": 267832558,
            "min": 0,
            "orientation": "horizontal",
            "style": "IPY_MODEL_fd91235957074af797533cc086ca7253",
            "value": 267832558
          }
        },
        "6080dcd9c3714a3d9e22bdfb796f285c": {
          "model_module": "@jupyter-widgets/controls",
          "model_name": "HTMLModel",
          "model_module_version": "1.5.0",
          "state": {
            "_dom_classes": [],
            "_model_module": "@jupyter-widgets/controls",
            "_model_module_version": "1.5.0",
            "_model_name": "HTMLModel",
            "_view_count": null,
            "_view_module": "@jupyter-widgets/controls",
            "_view_module_version": "1.5.0",
            "_view_name": "HTMLView",
            "description": "",
            "description_tooltip": null,
            "layout": "IPY_MODEL_a2f23b2712714158b7e844038676169c",
            "placeholder": "​",
            "style": "IPY_MODEL_b1639a55afd64a28ba4023eabd209815",
            "value": " 268M/268M [00:02&lt;00:00, 126MB/s]"
          }
        },
        "f0ff5cfe8e184075906312810cc74f5f": {
          "model_module": "@jupyter-widgets/base",
          "model_name": "LayoutModel",
          "model_module_version": "1.2.0",
          "state": {
            "_model_module": "@jupyter-widgets/base",
            "_model_module_version": "1.2.0",
            "_model_name": "LayoutModel",
            "_view_count": null,
            "_view_module": "@jupyter-widgets/base",
            "_view_module_version": "1.2.0",
            "_view_name": "LayoutView",
            "align_content": null,
            "align_items": null,
            "align_self": null,
            "border": null,
            "bottom": null,
            "display": null,
            "flex": null,
            "flex_flow": null,
            "grid_area": null,
            "grid_auto_columns": null,
            "grid_auto_flow": null,
            "grid_auto_rows": null,
            "grid_column": null,
            "grid_gap": null,
            "grid_row": null,
            "grid_template_areas": null,
            "grid_template_columns": null,
            "grid_template_rows": null,
            "height": null,
            "justify_content": null,
            "justify_items": null,
            "left": null,
            "margin": null,
            "max_height": null,
            "max_width": null,
            "min_height": null,
            "min_width": null,
            "object_fit": null,
            "object_position": null,
            "order": null,
            "overflow": null,
            "overflow_x": null,
            "overflow_y": null,
            "padding": null,
            "right": null,
            "top": null,
            "visibility": null,
            "width": null
          }
        },
        "019f42aa09d04c21a3bf08a047bab941": {
          "model_module": "@jupyter-widgets/base",
          "model_name": "LayoutModel",
          "model_module_version": "1.2.0",
          "state": {
            "_model_module": "@jupyter-widgets/base",
            "_model_module_version": "1.2.0",
            "_model_name": "LayoutModel",
            "_view_count": null,
            "_view_module": "@jupyter-widgets/base",
            "_view_module_version": "1.2.0",
            "_view_name": "LayoutView",
            "align_content": null,
            "align_items": null,
            "align_self": null,
            "border": null,
            "bottom": null,
            "display": null,
            "flex": null,
            "flex_flow": null,
            "grid_area": null,
            "grid_auto_columns": null,
            "grid_auto_flow": null,
            "grid_auto_rows": null,
            "grid_column": null,
            "grid_gap": null,
            "grid_row": null,
            "grid_template_areas": null,
            "grid_template_columns": null,
            "grid_template_rows": null,
            "height": null,
            "justify_content": null,
            "justify_items": null,
            "left": null,
            "margin": null,
            "max_height": null,
            "max_width": null,
            "min_height": null,
            "min_width": null,
            "object_fit": null,
            "object_position": null,
            "order": null,
            "overflow": null,
            "overflow_x": null,
            "overflow_y": null,
            "padding": null,
            "right": null,
            "top": null,
            "visibility": null,
            "width": null
          }
        },
        "778b0462310244548f39706431e3ca7d": {
          "model_module": "@jupyter-widgets/controls",
          "model_name": "DescriptionStyleModel",
          "model_module_version": "1.5.0",
          "state": {
            "_model_module": "@jupyter-widgets/controls",
            "_model_module_version": "1.5.0",
            "_model_name": "DescriptionStyleModel",
            "_view_count": null,
            "_view_module": "@jupyter-widgets/base",
            "_view_module_version": "1.2.0",
            "_view_name": "StyleView",
            "description_width": ""
          }
        },
        "767aab14663b43058f7b97dd7ee7f5d7": {
          "model_module": "@jupyter-widgets/base",
          "model_name": "LayoutModel",
          "model_module_version": "1.2.0",
          "state": {
            "_model_module": "@jupyter-widgets/base",
            "_model_module_version": "1.2.0",
            "_model_name": "LayoutModel",
            "_view_count": null,
            "_view_module": "@jupyter-widgets/base",
            "_view_module_version": "1.2.0",
            "_view_name": "LayoutView",
            "align_content": null,
            "align_items": null,
            "align_self": null,
            "border": null,
            "bottom": null,
            "display": null,
            "flex": null,
            "flex_flow": null,
            "grid_area": null,
            "grid_auto_columns": null,
            "grid_auto_flow": null,
            "grid_auto_rows": null,
            "grid_column": null,
            "grid_gap": null,
            "grid_row": null,
            "grid_template_areas": null,
            "grid_template_columns": null,
            "grid_template_rows": null,
            "height": null,
            "justify_content": null,
            "justify_items": null,
            "left": null,
            "margin": null,
            "max_height": null,
            "max_width": null,
            "min_height": null,
            "min_width": null,
            "object_fit": null,
            "object_position": null,
            "order": null,
            "overflow": null,
            "overflow_x": null,
            "overflow_y": null,
            "padding": null,
            "right": null,
            "top": null,
            "visibility": null,
            "width": null
          }
        },
        "fd91235957074af797533cc086ca7253": {
          "model_module": "@jupyter-widgets/controls",
          "model_name": "ProgressStyleModel",
          "model_module_version": "1.5.0",
          "state": {
            "_model_module": "@jupyter-widgets/controls",
            "_model_module_version": "1.5.0",
            "_model_name": "ProgressStyleModel",
            "_view_count": null,
            "_view_module": "@jupyter-widgets/base",
            "_view_module_version": "1.2.0",
            "_view_name": "StyleView",
            "bar_color": null,
            "description_width": ""
          }
        },
        "a2f23b2712714158b7e844038676169c": {
          "model_module": "@jupyter-widgets/base",
          "model_name": "LayoutModel",
          "model_module_version": "1.2.0",
          "state": {
            "_model_module": "@jupyter-widgets/base",
            "_model_module_version": "1.2.0",
            "_model_name": "LayoutModel",
            "_view_count": null,
            "_view_module": "@jupyter-widgets/base",
            "_view_module_version": "1.2.0",
            "_view_name": "LayoutView",
            "align_content": null,
            "align_items": null,
            "align_self": null,
            "border": null,
            "bottom": null,
            "display": null,
            "flex": null,
            "flex_flow": null,
            "grid_area": null,
            "grid_auto_columns": null,
            "grid_auto_flow": null,
            "grid_auto_rows": null,
            "grid_column": null,
            "grid_gap": null,
            "grid_row": null,
            "grid_template_areas": null,
            "grid_template_columns": null,
            "grid_template_rows": null,
            "height": null,
            "justify_content": null,
            "justify_items": null,
            "left": null,
            "margin": null,
            "max_height": null,
            "max_width": null,
            "min_height": null,
            "min_width": null,
            "object_fit": null,
            "object_position": null,
            "order": null,
            "overflow": null,
            "overflow_x": null,
            "overflow_y": null,
            "padding": null,
            "right": null,
            "top": null,
            "visibility": null,
            "width": null
          }
        },
        "b1639a55afd64a28ba4023eabd209815": {
          "model_module": "@jupyter-widgets/controls",
          "model_name": "DescriptionStyleModel",
          "model_module_version": "1.5.0",
          "state": {
            "_model_module": "@jupyter-widgets/controls",
            "_model_module_version": "1.5.0",
            "_model_name": "DescriptionStyleModel",
            "_view_count": null,
            "_view_module": "@jupyter-widgets/base",
            "_view_module_version": "1.2.0",
            "_view_name": "StyleView",
            "description_width": ""
          }
        },
        "0a7cbe8f0c484bdbb79179ac0ab6b4d1": {
          "model_module": "@jupyter-widgets/controls",
          "model_name": "HBoxModel",
          "model_module_version": "1.5.0",
          "state": {
            "_dom_classes": [],
            "_model_module": "@jupyter-widgets/controls",
            "_model_module_version": "1.5.0",
            "_model_name": "HBoxModel",
            "_view_count": null,
            "_view_module": "@jupyter-widgets/controls",
            "_view_module_version": "1.5.0",
            "_view_name": "HBoxView",
            "box_style": "",
            "children": [
              "IPY_MODEL_3984fd5084284d73b36076f6bd7c1bde",
              "IPY_MODEL_8b4b98e60fd84ff4b92790c35ddc71e4",
              "IPY_MODEL_d9238fbfe5614f019674bea671d20527"
            ],
            "layout": "IPY_MODEL_c70257bb06ca434abcc7f27ced40ed48"
          }
        },
        "3984fd5084284d73b36076f6bd7c1bde": {
          "model_module": "@jupyter-widgets/controls",
          "model_name": "HTMLModel",
          "model_module_version": "1.5.0",
          "state": {
            "_dom_classes": [],
            "_model_module": "@jupyter-widgets/controls",
            "_model_module_version": "1.5.0",
            "_model_name": "HTMLModel",
            "_view_count": null,
            "_view_module": "@jupyter-widgets/controls",
            "_view_module_version": "1.5.0",
            "_view_name": "HTMLView",
            "description": "",
            "description_tooltip": null,
            "layout": "IPY_MODEL_8a40ed42fe8c484db9766ad7a51202c3",
            "placeholder": "​",
            "style": "IPY_MODEL_2594926acf8745c293a5f823730f8076",
            "value": "tokenizer_config.json: 100%"
          }
        },
        "8b4b98e60fd84ff4b92790c35ddc71e4": {
          "model_module": "@jupyter-widgets/controls",
          "model_name": "FloatProgressModel",
          "model_module_version": "1.5.0",
          "state": {
            "_dom_classes": [],
            "_model_module": "@jupyter-widgets/controls",
            "_model_module_version": "1.5.0",
            "_model_name": "FloatProgressModel",
            "_view_count": null,
            "_view_module": "@jupyter-widgets/controls",
            "_view_module_version": "1.5.0",
            "_view_name": "ProgressView",
            "bar_style": "success",
            "description": "",
            "description_tooltip": null,
            "layout": "IPY_MODEL_c6e12c739075489aa068e3c1ebca5aec",
            "max": 48,
            "min": 0,
            "orientation": "horizontal",
            "style": "IPY_MODEL_b23a7525476a464797a7eec8bd2f5bef",
            "value": 48
          }
        },
        "d9238fbfe5614f019674bea671d20527": {
          "model_module": "@jupyter-widgets/controls",
          "model_name": "HTMLModel",
          "model_module_version": "1.5.0",
          "state": {
            "_dom_classes": [],
            "_model_module": "@jupyter-widgets/controls",
            "_model_module_version": "1.5.0",
            "_model_name": "HTMLModel",
            "_view_count": null,
            "_view_module": "@jupyter-widgets/controls",
            "_view_module_version": "1.5.0",
            "_view_name": "HTMLView",
            "description": "",
            "description_tooltip": null,
            "layout": "IPY_MODEL_df819838dc2747acb847350ed98038be",
            "placeholder": "​",
            "style": "IPY_MODEL_55c911184f254284b8d1f3f1cdfd5a6c",
            "value": " 48.0/48.0 [00:00&lt;00:00, 1.34kB/s]"
          }
        },
        "c70257bb06ca434abcc7f27ced40ed48": {
          "model_module": "@jupyter-widgets/base",
          "model_name": "LayoutModel",
          "model_module_version": "1.2.0",
          "state": {
            "_model_module": "@jupyter-widgets/base",
            "_model_module_version": "1.2.0",
            "_model_name": "LayoutModel",
            "_view_count": null,
            "_view_module": "@jupyter-widgets/base",
            "_view_module_version": "1.2.0",
            "_view_name": "LayoutView",
            "align_content": null,
            "align_items": null,
            "align_self": null,
            "border": null,
            "bottom": null,
            "display": null,
            "flex": null,
            "flex_flow": null,
            "grid_area": null,
            "grid_auto_columns": null,
            "grid_auto_flow": null,
            "grid_auto_rows": null,
            "grid_column": null,
            "grid_gap": null,
            "grid_row": null,
            "grid_template_areas": null,
            "grid_template_columns": null,
            "grid_template_rows": null,
            "height": null,
            "justify_content": null,
            "justify_items": null,
            "left": null,
            "margin": null,
            "max_height": null,
            "max_width": null,
            "min_height": null,
            "min_width": null,
            "object_fit": null,
            "object_position": null,
            "order": null,
            "overflow": null,
            "overflow_x": null,
            "overflow_y": null,
            "padding": null,
            "right": null,
            "top": null,
            "visibility": null,
            "width": null
          }
        },
        "8a40ed42fe8c484db9766ad7a51202c3": {
          "model_module": "@jupyter-widgets/base",
          "model_name": "LayoutModel",
          "model_module_version": "1.2.0",
          "state": {
            "_model_module": "@jupyter-widgets/base",
            "_model_module_version": "1.2.0",
            "_model_name": "LayoutModel",
            "_view_count": null,
            "_view_module": "@jupyter-widgets/base",
            "_view_module_version": "1.2.0",
            "_view_name": "LayoutView",
            "align_content": null,
            "align_items": null,
            "align_self": null,
            "border": null,
            "bottom": null,
            "display": null,
            "flex": null,
            "flex_flow": null,
            "grid_area": null,
            "grid_auto_columns": null,
            "grid_auto_flow": null,
            "grid_auto_rows": null,
            "grid_column": null,
            "grid_gap": null,
            "grid_row": null,
            "grid_template_areas": null,
            "grid_template_columns": null,
            "grid_template_rows": null,
            "height": null,
            "justify_content": null,
            "justify_items": null,
            "left": null,
            "margin": null,
            "max_height": null,
            "max_width": null,
            "min_height": null,
            "min_width": null,
            "object_fit": null,
            "object_position": null,
            "order": null,
            "overflow": null,
            "overflow_x": null,
            "overflow_y": null,
            "padding": null,
            "right": null,
            "top": null,
            "visibility": null,
            "width": null
          }
        },
        "2594926acf8745c293a5f823730f8076": {
          "model_module": "@jupyter-widgets/controls",
          "model_name": "DescriptionStyleModel",
          "model_module_version": "1.5.0",
          "state": {
            "_model_module": "@jupyter-widgets/controls",
            "_model_module_version": "1.5.0",
            "_model_name": "DescriptionStyleModel",
            "_view_count": null,
            "_view_module": "@jupyter-widgets/base",
            "_view_module_version": "1.2.0",
            "_view_name": "StyleView",
            "description_width": ""
          }
        },
        "c6e12c739075489aa068e3c1ebca5aec": {
          "model_module": "@jupyter-widgets/base",
          "model_name": "LayoutModel",
          "model_module_version": "1.2.0",
          "state": {
            "_model_module": "@jupyter-widgets/base",
            "_model_module_version": "1.2.0",
            "_model_name": "LayoutModel",
            "_view_count": null,
            "_view_module": "@jupyter-widgets/base",
            "_view_module_version": "1.2.0",
            "_view_name": "LayoutView",
            "align_content": null,
            "align_items": null,
            "align_self": null,
            "border": null,
            "bottom": null,
            "display": null,
            "flex": null,
            "flex_flow": null,
            "grid_area": null,
            "grid_auto_columns": null,
            "grid_auto_flow": null,
            "grid_auto_rows": null,
            "grid_column": null,
            "grid_gap": null,
            "grid_row": null,
            "grid_template_areas": null,
            "grid_template_columns": null,
            "grid_template_rows": null,
            "height": null,
            "justify_content": null,
            "justify_items": null,
            "left": null,
            "margin": null,
            "max_height": null,
            "max_width": null,
            "min_height": null,
            "min_width": null,
            "object_fit": null,
            "object_position": null,
            "order": null,
            "overflow": null,
            "overflow_x": null,
            "overflow_y": null,
            "padding": null,
            "right": null,
            "top": null,
            "visibility": null,
            "width": null
          }
        },
        "b23a7525476a464797a7eec8bd2f5bef": {
          "model_module": "@jupyter-widgets/controls",
          "model_name": "ProgressStyleModel",
          "model_module_version": "1.5.0",
          "state": {
            "_model_module": "@jupyter-widgets/controls",
            "_model_module_version": "1.5.0",
            "_model_name": "ProgressStyleModel",
            "_view_count": null,
            "_view_module": "@jupyter-widgets/base",
            "_view_module_version": "1.2.0",
            "_view_name": "StyleView",
            "bar_color": null,
            "description_width": ""
          }
        },
        "df819838dc2747acb847350ed98038be": {
          "model_module": "@jupyter-widgets/base",
          "model_name": "LayoutModel",
          "model_module_version": "1.2.0",
          "state": {
            "_model_module": "@jupyter-widgets/base",
            "_model_module_version": "1.2.0",
            "_model_name": "LayoutModel",
            "_view_count": null,
            "_view_module": "@jupyter-widgets/base",
            "_view_module_version": "1.2.0",
            "_view_name": "LayoutView",
            "align_content": null,
            "align_items": null,
            "align_self": null,
            "border": null,
            "bottom": null,
            "display": null,
            "flex": null,
            "flex_flow": null,
            "grid_area": null,
            "grid_auto_columns": null,
            "grid_auto_flow": null,
            "grid_auto_rows": null,
            "grid_column": null,
            "grid_gap": null,
            "grid_row": null,
            "grid_template_areas": null,
            "grid_template_columns": null,
            "grid_template_rows": null,
            "height": null,
            "justify_content": null,
            "justify_items": null,
            "left": null,
            "margin": null,
            "max_height": null,
            "max_width": null,
            "min_height": null,
            "min_width": null,
            "object_fit": null,
            "object_position": null,
            "order": null,
            "overflow": null,
            "overflow_x": null,
            "overflow_y": null,
            "padding": null,
            "right": null,
            "top": null,
            "visibility": null,
            "width": null
          }
        },
        "55c911184f254284b8d1f3f1cdfd5a6c": {
          "model_module": "@jupyter-widgets/controls",
          "model_name": "DescriptionStyleModel",
          "model_module_version": "1.5.0",
          "state": {
            "_model_module": "@jupyter-widgets/controls",
            "_model_module_version": "1.5.0",
            "_model_name": "DescriptionStyleModel",
            "_view_count": null,
            "_view_module": "@jupyter-widgets/base",
            "_view_module_version": "1.2.0",
            "_view_name": "StyleView",
            "description_width": ""
          }
        },
        "a9e68ddbec6c4c7da88c00d2b2cfa525": {
          "model_module": "@jupyter-widgets/controls",
          "model_name": "HBoxModel",
          "model_module_version": "1.5.0",
          "state": {
            "_dom_classes": [],
            "_model_module": "@jupyter-widgets/controls",
            "_model_module_version": "1.5.0",
            "_model_name": "HBoxModel",
            "_view_count": null,
            "_view_module": "@jupyter-widgets/controls",
            "_view_module_version": "1.5.0",
            "_view_name": "HBoxView",
            "box_style": "",
            "children": [
              "IPY_MODEL_03a524c8536a4cb9a441a7e22b830175",
              "IPY_MODEL_a02c58df0ee447dc9507ac354dd7ab68",
              "IPY_MODEL_12051d2eacc34a7e97d350d55d685728"
            ],
            "layout": "IPY_MODEL_3749b15e748945d3998106b191045fec"
          }
        },
        "03a524c8536a4cb9a441a7e22b830175": {
          "model_module": "@jupyter-widgets/controls",
          "model_name": "HTMLModel",
          "model_module_version": "1.5.0",
          "state": {
            "_dom_classes": [],
            "_model_module": "@jupyter-widgets/controls",
            "_model_module_version": "1.5.0",
            "_model_name": "HTMLModel",
            "_view_count": null,
            "_view_module": "@jupyter-widgets/controls",
            "_view_module_version": "1.5.0",
            "_view_name": "HTMLView",
            "description": "",
            "description_tooltip": null,
            "layout": "IPY_MODEL_73d16ffca42344f2b7f6fca283cd3028",
            "placeholder": "​",
            "style": "IPY_MODEL_42e5d424fbfc40f9ae182506861e899f",
            "value": "vocab.txt: 100%"
          }
        },
        "a02c58df0ee447dc9507ac354dd7ab68": {
          "model_module": "@jupyter-widgets/controls",
          "model_name": "FloatProgressModel",
          "model_module_version": "1.5.0",
          "state": {
            "_dom_classes": [],
            "_model_module": "@jupyter-widgets/controls",
            "_model_module_version": "1.5.0",
            "_model_name": "FloatProgressModel",
            "_view_count": null,
            "_view_module": "@jupyter-widgets/controls",
            "_view_module_version": "1.5.0",
            "_view_name": "ProgressView",
            "bar_style": "success",
            "description": "",
            "description_tooltip": null,
            "layout": "IPY_MODEL_dbdf1c6ab7e64c58ba1ae237bc30b32c",
            "max": 231508,
            "min": 0,
            "orientation": "horizontal",
            "style": "IPY_MODEL_c41e2d7429f048c6ad453c3b6fd65d36",
            "value": 231508
          }
        },
        "12051d2eacc34a7e97d350d55d685728": {
          "model_module": "@jupyter-widgets/controls",
          "model_name": "HTMLModel",
          "model_module_version": "1.5.0",
          "state": {
            "_dom_classes": [],
            "_model_module": "@jupyter-widgets/controls",
            "_model_module_version": "1.5.0",
            "_model_name": "HTMLModel",
            "_view_count": null,
            "_view_module": "@jupyter-widgets/controls",
            "_view_module_version": "1.5.0",
            "_view_name": "HTMLView",
            "description": "",
            "description_tooltip": null,
            "layout": "IPY_MODEL_916fc00ba19a421e92b2d8ff185e8cdd",
            "placeholder": "​",
            "style": "IPY_MODEL_4a2798060c034450bd5d9b0a796a9bcc",
            "value": " 232k/232k [00:00&lt;00:00, 2.26MB/s]"
          }
        },
        "3749b15e748945d3998106b191045fec": {
          "model_module": "@jupyter-widgets/base",
          "model_name": "LayoutModel",
          "model_module_version": "1.2.0",
          "state": {
            "_model_module": "@jupyter-widgets/base",
            "_model_module_version": "1.2.0",
            "_model_name": "LayoutModel",
            "_view_count": null,
            "_view_module": "@jupyter-widgets/base",
            "_view_module_version": "1.2.0",
            "_view_name": "LayoutView",
            "align_content": null,
            "align_items": null,
            "align_self": null,
            "border": null,
            "bottom": null,
            "display": null,
            "flex": null,
            "flex_flow": null,
            "grid_area": null,
            "grid_auto_columns": null,
            "grid_auto_flow": null,
            "grid_auto_rows": null,
            "grid_column": null,
            "grid_gap": null,
            "grid_row": null,
            "grid_template_areas": null,
            "grid_template_columns": null,
            "grid_template_rows": null,
            "height": null,
            "justify_content": null,
            "justify_items": null,
            "left": null,
            "margin": null,
            "max_height": null,
            "max_width": null,
            "min_height": null,
            "min_width": null,
            "object_fit": null,
            "object_position": null,
            "order": null,
            "overflow": null,
            "overflow_x": null,
            "overflow_y": null,
            "padding": null,
            "right": null,
            "top": null,
            "visibility": null,
            "width": null
          }
        },
        "73d16ffca42344f2b7f6fca283cd3028": {
          "model_module": "@jupyter-widgets/base",
          "model_name": "LayoutModel",
          "model_module_version": "1.2.0",
          "state": {
            "_model_module": "@jupyter-widgets/base",
            "_model_module_version": "1.2.0",
            "_model_name": "LayoutModel",
            "_view_count": null,
            "_view_module": "@jupyter-widgets/base",
            "_view_module_version": "1.2.0",
            "_view_name": "LayoutView",
            "align_content": null,
            "align_items": null,
            "align_self": null,
            "border": null,
            "bottom": null,
            "display": null,
            "flex": null,
            "flex_flow": null,
            "grid_area": null,
            "grid_auto_columns": null,
            "grid_auto_flow": null,
            "grid_auto_rows": null,
            "grid_column": null,
            "grid_gap": null,
            "grid_row": null,
            "grid_template_areas": null,
            "grid_template_columns": null,
            "grid_template_rows": null,
            "height": null,
            "justify_content": null,
            "justify_items": null,
            "left": null,
            "margin": null,
            "max_height": null,
            "max_width": null,
            "min_height": null,
            "min_width": null,
            "object_fit": null,
            "object_position": null,
            "order": null,
            "overflow": null,
            "overflow_x": null,
            "overflow_y": null,
            "padding": null,
            "right": null,
            "top": null,
            "visibility": null,
            "width": null
          }
        },
        "42e5d424fbfc40f9ae182506861e899f": {
          "model_module": "@jupyter-widgets/controls",
          "model_name": "DescriptionStyleModel",
          "model_module_version": "1.5.0",
          "state": {
            "_model_module": "@jupyter-widgets/controls",
            "_model_module_version": "1.5.0",
            "_model_name": "DescriptionStyleModel",
            "_view_count": null,
            "_view_module": "@jupyter-widgets/base",
            "_view_module_version": "1.2.0",
            "_view_name": "StyleView",
            "description_width": ""
          }
        },
        "dbdf1c6ab7e64c58ba1ae237bc30b32c": {
          "model_module": "@jupyter-widgets/base",
          "model_name": "LayoutModel",
          "model_module_version": "1.2.0",
          "state": {
            "_model_module": "@jupyter-widgets/base",
            "_model_module_version": "1.2.0",
            "_model_name": "LayoutModel",
            "_view_count": null,
            "_view_module": "@jupyter-widgets/base",
            "_view_module_version": "1.2.0",
            "_view_name": "LayoutView",
            "align_content": null,
            "align_items": null,
            "align_self": null,
            "border": null,
            "bottom": null,
            "display": null,
            "flex": null,
            "flex_flow": null,
            "grid_area": null,
            "grid_auto_columns": null,
            "grid_auto_flow": null,
            "grid_auto_rows": null,
            "grid_column": null,
            "grid_gap": null,
            "grid_row": null,
            "grid_template_areas": null,
            "grid_template_columns": null,
            "grid_template_rows": null,
            "height": null,
            "justify_content": null,
            "justify_items": null,
            "left": null,
            "margin": null,
            "max_height": null,
            "max_width": null,
            "min_height": null,
            "min_width": null,
            "object_fit": null,
            "object_position": null,
            "order": null,
            "overflow": null,
            "overflow_x": null,
            "overflow_y": null,
            "padding": null,
            "right": null,
            "top": null,
            "visibility": null,
            "width": null
          }
        },
        "c41e2d7429f048c6ad453c3b6fd65d36": {
          "model_module": "@jupyter-widgets/controls",
          "model_name": "ProgressStyleModel",
          "model_module_version": "1.5.0",
          "state": {
            "_model_module": "@jupyter-widgets/controls",
            "_model_module_version": "1.5.0",
            "_model_name": "ProgressStyleModel",
            "_view_count": null,
            "_view_module": "@jupyter-widgets/base",
            "_view_module_version": "1.2.0",
            "_view_name": "StyleView",
            "bar_color": null,
            "description_width": ""
          }
        },
        "916fc00ba19a421e92b2d8ff185e8cdd": {
          "model_module": "@jupyter-widgets/base",
          "model_name": "LayoutModel",
          "model_module_version": "1.2.0",
          "state": {
            "_model_module": "@jupyter-widgets/base",
            "_model_module_version": "1.2.0",
            "_model_name": "LayoutModel",
            "_view_count": null,
            "_view_module": "@jupyter-widgets/base",
            "_view_module_version": "1.2.0",
            "_view_name": "LayoutView",
            "align_content": null,
            "align_items": null,
            "align_self": null,
            "border": null,
            "bottom": null,
            "display": null,
            "flex": null,
            "flex_flow": null,
            "grid_area": null,
            "grid_auto_columns": null,
            "grid_auto_flow": null,
            "grid_auto_rows": null,
            "grid_column": null,
            "grid_gap": null,
            "grid_row": null,
            "grid_template_areas": null,
            "grid_template_columns": null,
            "grid_template_rows": null,
            "height": null,
            "justify_content": null,
            "justify_items": null,
            "left": null,
            "margin": null,
            "max_height": null,
            "max_width": null,
            "min_height": null,
            "min_width": null,
            "object_fit": null,
            "object_position": null,
            "order": null,
            "overflow": null,
            "overflow_x": null,
            "overflow_y": null,
            "padding": null,
            "right": null,
            "top": null,
            "visibility": null,
            "width": null
          }
        },
        "4a2798060c034450bd5d9b0a796a9bcc": {
          "model_module": "@jupyter-widgets/controls",
          "model_name": "DescriptionStyleModel",
          "model_module_version": "1.5.0",
          "state": {
            "_model_module": "@jupyter-widgets/controls",
            "_model_module_version": "1.5.0",
            "_model_name": "DescriptionStyleModel",
            "_view_count": null,
            "_view_module": "@jupyter-widgets/base",
            "_view_module_version": "1.2.0",
            "_view_name": "StyleView",
            "description_width": ""
          }
        },
        "fc0b8a08e91d484480362793db42c608": {
          "model_module": "@jupyter-widgets/controls",
          "model_name": "HBoxModel",
          "model_module_version": "1.5.0",
          "state": {
            "_dom_classes": [],
            "_model_module": "@jupyter-widgets/controls",
            "_model_module_version": "1.5.0",
            "_model_name": "HBoxModel",
            "_view_count": null,
            "_view_module": "@jupyter-widgets/controls",
            "_view_module_version": "1.5.0",
            "_view_name": "HBoxView",
            "box_style": "",
            "children": [
              "IPY_MODEL_46723bfb21ac4c5fb0ef46926cd6868a",
              "IPY_MODEL_0b2f6d3ed8bb42e28d99caba0f9fb4db",
              "IPY_MODEL_934af09af3074b078ff4a9f8d4a1e5cb"
            ],
            "layout": "IPY_MODEL_6b560aa88f984113b9ae6dcb931b5b42"
          }
        },
        "46723bfb21ac4c5fb0ef46926cd6868a": {
          "model_module": "@jupyter-widgets/controls",
          "model_name": "HTMLModel",
          "model_module_version": "1.5.0",
          "state": {
            "_dom_classes": [],
            "_model_module": "@jupyter-widgets/controls",
            "_model_module_version": "1.5.0",
            "_model_name": "HTMLModel",
            "_view_count": null,
            "_view_module": "@jupyter-widgets/controls",
            "_view_module_version": "1.5.0",
            "_view_name": "HTMLView",
            "description": "",
            "description_tooltip": null,
            "layout": "IPY_MODEL_5cfbfcb192144fe7b40ae0d0f74bdeb0",
            "placeholder": "​",
            "style": "IPY_MODEL_cb1c5be956834bc09b35ff5d9a7009cd",
            "value": "config.json: 100%"
          }
        },
        "0b2f6d3ed8bb42e28d99caba0f9fb4db": {
          "model_module": "@jupyter-widgets/controls",
          "model_name": "FloatProgressModel",
          "model_module_version": "1.5.0",
          "state": {
            "_dom_classes": [],
            "_model_module": "@jupyter-widgets/controls",
            "_model_module_version": "1.5.0",
            "_model_name": "FloatProgressModel",
            "_view_count": null,
            "_view_module": "@jupyter-widgets/controls",
            "_view_module_version": "1.5.0",
            "_view_name": "ProgressView",
            "bar_style": "success",
            "description": "",
            "description_tooltip": null,
            "layout": "IPY_MODEL_135500445aa54a08b3c753d87c0487e2",
            "max": 665,
            "min": 0,
            "orientation": "horizontal",
            "style": "IPY_MODEL_e72b10048bb94e79b66ec85380379c71",
            "value": 665
          }
        },
        "934af09af3074b078ff4a9f8d4a1e5cb": {
          "model_module": "@jupyter-widgets/controls",
          "model_name": "HTMLModel",
          "model_module_version": "1.5.0",
          "state": {
            "_dom_classes": [],
            "_model_module": "@jupyter-widgets/controls",
            "_model_module_version": "1.5.0",
            "_model_name": "HTMLModel",
            "_view_count": null,
            "_view_module": "@jupyter-widgets/controls",
            "_view_module_version": "1.5.0",
            "_view_name": "HTMLView",
            "description": "",
            "description_tooltip": null,
            "layout": "IPY_MODEL_ed47056e868749aba849b23fb029eab5",
            "placeholder": "​",
            "style": "IPY_MODEL_5d8784e3c20f484b9940764a7ef85920",
            "value": " 665/665 [00:00&lt;00:00, 18.1kB/s]"
          }
        },
        "6b560aa88f984113b9ae6dcb931b5b42": {
          "model_module": "@jupyter-widgets/base",
          "model_name": "LayoutModel",
          "model_module_version": "1.2.0",
          "state": {
            "_model_module": "@jupyter-widgets/base",
            "_model_module_version": "1.2.0",
            "_model_name": "LayoutModel",
            "_view_count": null,
            "_view_module": "@jupyter-widgets/base",
            "_view_module_version": "1.2.0",
            "_view_name": "LayoutView",
            "align_content": null,
            "align_items": null,
            "align_self": null,
            "border": null,
            "bottom": null,
            "display": null,
            "flex": null,
            "flex_flow": null,
            "grid_area": null,
            "grid_auto_columns": null,
            "grid_auto_flow": null,
            "grid_auto_rows": null,
            "grid_column": null,
            "grid_gap": null,
            "grid_row": null,
            "grid_template_areas": null,
            "grid_template_columns": null,
            "grid_template_rows": null,
            "height": null,
            "justify_content": null,
            "justify_items": null,
            "left": null,
            "margin": null,
            "max_height": null,
            "max_width": null,
            "min_height": null,
            "min_width": null,
            "object_fit": null,
            "object_position": null,
            "order": null,
            "overflow": null,
            "overflow_x": null,
            "overflow_y": null,
            "padding": null,
            "right": null,
            "top": null,
            "visibility": null,
            "width": null
          }
        },
        "5cfbfcb192144fe7b40ae0d0f74bdeb0": {
          "model_module": "@jupyter-widgets/base",
          "model_name": "LayoutModel",
          "model_module_version": "1.2.0",
          "state": {
            "_model_module": "@jupyter-widgets/base",
            "_model_module_version": "1.2.0",
            "_model_name": "LayoutModel",
            "_view_count": null,
            "_view_module": "@jupyter-widgets/base",
            "_view_module_version": "1.2.0",
            "_view_name": "LayoutView",
            "align_content": null,
            "align_items": null,
            "align_self": null,
            "border": null,
            "bottom": null,
            "display": null,
            "flex": null,
            "flex_flow": null,
            "grid_area": null,
            "grid_auto_columns": null,
            "grid_auto_flow": null,
            "grid_auto_rows": null,
            "grid_column": null,
            "grid_gap": null,
            "grid_row": null,
            "grid_template_areas": null,
            "grid_template_columns": null,
            "grid_template_rows": null,
            "height": null,
            "justify_content": null,
            "justify_items": null,
            "left": null,
            "margin": null,
            "max_height": null,
            "max_width": null,
            "min_height": null,
            "min_width": null,
            "object_fit": null,
            "object_position": null,
            "order": null,
            "overflow": null,
            "overflow_x": null,
            "overflow_y": null,
            "padding": null,
            "right": null,
            "top": null,
            "visibility": null,
            "width": null
          }
        },
        "cb1c5be956834bc09b35ff5d9a7009cd": {
          "model_module": "@jupyter-widgets/controls",
          "model_name": "DescriptionStyleModel",
          "model_module_version": "1.5.0",
          "state": {
            "_model_module": "@jupyter-widgets/controls",
            "_model_module_version": "1.5.0",
            "_model_name": "DescriptionStyleModel",
            "_view_count": null,
            "_view_module": "@jupyter-widgets/base",
            "_view_module_version": "1.2.0",
            "_view_name": "StyleView",
            "description_width": ""
          }
        },
        "135500445aa54a08b3c753d87c0487e2": {
          "model_module": "@jupyter-widgets/base",
          "model_name": "LayoutModel",
          "model_module_version": "1.2.0",
          "state": {
            "_model_module": "@jupyter-widgets/base",
            "_model_module_version": "1.2.0",
            "_model_name": "LayoutModel",
            "_view_count": null,
            "_view_module": "@jupyter-widgets/base",
            "_view_module_version": "1.2.0",
            "_view_name": "LayoutView",
            "align_content": null,
            "align_items": null,
            "align_self": null,
            "border": null,
            "bottom": null,
            "display": null,
            "flex": null,
            "flex_flow": null,
            "grid_area": null,
            "grid_auto_columns": null,
            "grid_auto_flow": null,
            "grid_auto_rows": null,
            "grid_column": null,
            "grid_gap": null,
            "grid_row": null,
            "grid_template_areas": null,
            "grid_template_columns": null,
            "grid_template_rows": null,
            "height": null,
            "justify_content": null,
            "justify_items": null,
            "left": null,
            "margin": null,
            "max_height": null,
            "max_width": null,
            "min_height": null,
            "min_width": null,
            "object_fit": null,
            "object_position": null,
            "order": null,
            "overflow": null,
            "overflow_x": null,
            "overflow_y": null,
            "padding": null,
            "right": null,
            "top": null,
            "visibility": null,
            "width": null
          }
        },
        "e72b10048bb94e79b66ec85380379c71": {
          "model_module": "@jupyter-widgets/controls",
          "model_name": "ProgressStyleModel",
          "model_module_version": "1.5.0",
          "state": {
            "_model_module": "@jupyter-widgets/controls",
            "_model_module_version": "1.5.0",
            "_model_name": "ProgressStyleModel",
            "_view_count": null,
            "_view_module": "@jupyter-widgets/base",
            "_view_module_version": "1.2.0",
            "_view_name": "StyleView",
            "bar_color": null,
            "description_width": ""
          }
        },
        "ed47056e868749aba849b23fb029eab5": {
          "model_module": "@jupyter-widgets/base",
          "model_name": "LayoutModel",
          "model_module_version": "1.2.0",
          "state": {
            "_model_module": "@jupyter-widgets/base",
            "_model_module_version": "1.2.0",
            "_model_name": "LayoutModel",
            "_view_count": null,
            "_view_module": "@jupyter-widgets/base",
            "_view_module_version": "1.2.0",
            "_view_name": "LayoutView",
            "align_content": null,
            "align_items": null,
            "align_self": null,
            "border": null,
            "bottom": null,
            "display": null,
            "flex": null,
            "flex_flow": null,
            "grid_area": null,
            "grid_auto_columns": null,
            "grid_auto_flow": null,
            "grid_auto_rows": null,
            "grid_column": null,
            "grid_gap": null,
            "grid_row": null,
            "grid_template_areas": null,
            "grid_template_columns": null,
            "grid_template_rows": null,
            "height": null,
            "justify_content": null,
            "justify_items": null,
            "left": null,
            "margin": null,
            "max_height": null,
            "max_width": null,
            "min_height": null,
            "min_width": null,
            "object_fit": null,
            "object_position": null,
            "order": null,
            "overflow": null,
            "overflow_x": null,
            "overflow_y": null,
            "padding": null,
            "right": null,
            "top": null,
            "visibility": null,
            "width": null
          }
        },
        "5d8784e3c20f484b9940764a7ef85920": {
          "model_module": "@jupyter-widgets/controls",
          "model_name": "DescriptionStyleModel",
          "model_module_version": "1.5.0",
          "state": {
            "_model_module": "@jupyter-widgets/controls",
            "_model_module_version": "1.5.0",
            "_model_name": "DescriptionStyleModel",
            "_view_count": null,
            "_view_module": "@jupyter-widgets/base",
            "_view_module_version": "1.2.0",
            "_view_name": "StyleView",
            "description_width": ""
          }
        },
        "3981e18af22d42fcb0a0c272b3329ce1": {
          "model_module": "@jupyter-widgets/controls",
          "model_name": "HBoxModel",
          "model_module_version": "1.5.0",
          "state": {
            "_dom_classes": [],
            "_model_module": "@jupyter-widgets/controls",
            "_model_module_version": "1.5.0",
            "_model_name": "HBoxModel",
            "_view_count": null,
            "_view_module": "@jupyter-widgets/controls",
            "_view_module_version": "1.5.0",
            "_view_name": "HBoxView",
            "box_style": "",
            "children": [
              "IPY_MODEL_0e9b0502ab644a05b4b2f1bfea1699f0",
              "IPY_MODEL_6bb008b0024349fe9e7c2e1a34fab130",
              "IPY_MODEL_65dd67f5948d43fc82872b4f26f2a0f0"
            ],
            "layout": "IPY_MODEL_173668d45ea14333a89af48bb99d43f6"
          }
        },
        "0e9b0502ab644a05b4b2f1bfea1699f0": {
          "model_module": "@jupyter-widgets/controls",
          "model_name": "HTMLModel",
          "model_module_version": "1.5.0",
          "state": {
            "_dom_classes": [],
            "_model_module": "@jupyter-widgets/controls",
            "_model_module_version": "1.5.0",
            "_model_name": "HTMLModel",
            "_view_count": null,
            "_view_module": "@jupyter-widgets/controls",
            "_view_module_version": "1.5.0",
            "_view_name": "HTMLView",
            "description": "",
            "description_tooltip": null,
            "layout": "IPY_MODEL_dc3d3ccf0eeb45bbaa0d7dde794e0348",
            "placeholder": "​",
            "style": "IPY_MODEL_13cec1bef40747fb8e9fb9028b8d78f1",
            "value": "model.safetensors: 100%"
          }
        },
        "6bb008b0024349fe9e7c2e1a34fab130": {
          "model_module": "@jupyter-widgets/controls",
          "model_name": "FloatProgressModel",
          "model_module_version": "1.5.0",
          "state": {
            "_dom_classes": [],
            "_model_module": "@jupyter-widgets/controls",
            "_model_module_version": "1.5.0",
            "_model_name": "FloatProgressModel",
            "_view_count": null,
            "_view_module": "@jupyter-widgets/controls",
            "_view_module_version": "1.5.0",
            "_view_name": "ProgressView",
            "bar_style": "success",
            "description": "",
            "description_tooltip": null,
            "layout": "IPY_MODEL_8a20649792d8411d89b1600a68ea04c9",
            "max": 548105171,
            "min": 0,
            "orientation": "horizontal",
            "style": "IPY_MODEL_d0904a7f6e7f454591c9ec61b40248bc",
            "value": 548105171
          }
        },
        "65dd67f5948d43fc82872b4f26f2a0f0": {
          "model_module": "@jupyter-widgets/controls",
          "model_name": "HTMLModel",
          "model_module_version": "1.5.0",
          "state": {
            "_dom_classes": [],
            "_model_module": "@jupyter-widgets/controls",
            "_model_module_version": "1.5.0",
            "_model_name": "HTMLModel",
            "_view_count": null,
            "_view_module": "@jupyter-widgets/controls",
            "_view_module_version": "1.5.0",
            "_view_name": "HTMLView",
            "description": "",
            "description_tooltip": null,
            "layout": "IPY_MODEL_def9c44c77f54574aa19bdfa0fb51324",
            "placeholder": "​",
            "style": "IPY_MODEL_323084ccc2b9493e8f65582db80b32d2",
            "value": " 548M/548M [00:07&lt;00:00, 60.2MB/s]"
          }
        },
        "173668d45ea14333a89af48bb99d43f6": {
          "model_module": "@jupyter-widgets/base",
          "model_name": "LayoutModel",
          "model_module_version": "1.2.0",
          "state": {
            "_model_module": "@jupyter-widgets/base",
            "_model_module_version": "1.2.0",
            "_model_name": "LayoutModel",
            "_view_count": null,
            "_view_module": "@jupyter-widgets/base",
            "_view_module_version": "1.2.0",
            "_view_name": "LayoutView",
            "align_content": null,
            "align_items": null,
            "align_self": null,
            "border": null,
            "bottom": null,
            "display": null,
            "flex": null,
            "flex_flow": null,
            "grid_area": null,
            "grid_auto_columns": null,
            "grid_auto_flow": null,
            "grid_auto_rows": null,
            "grid_column": null,
            "grid_gap": null,
            "grid_row": null,
            "grid_template_areas": null,
            "grid_template_columns": null,
            "grid_template_rows": null,
            "height": null,
            "justify_content": null,
            "justify_items": null,
            "left": null,
            "margin": null,
            "max_height": null,
            "max_width": null,
            "min_height": null,
            "min_width": null,
            "object_fit": null,
            "object_position": null,
            "order": null,
            "overflow": null,
            "overflow_x": null,
            "overflow_y": null,
            "padding": null,
            "right": null,
            "top": null,
            "visibility": null,
            "width": null
          }
        },
        "dc3d3ccf0eeb45bbaa0d7dde794e0348": {
          "model_module": "@jupyter-widgets/base",
          "model_name": "LayoutModel",
          "model_module_version": "1.2.0",
          "state": {
            "_model_module": "@jupyter-widgets/base",
            "_model_module_version": "1.2.0",
            "_model_name": "LayoutModel",
            "_view_count": null,
            "_view_module": "@jupyter-widgets/base",
            "_view_module_version": "1.2.0",
            "_view_name": "LayoutView",
            "align_content": null,
            "align_items": null,
            "align_self": null,
            "border": null,
            "bottom": null,
            "display": null,
            "flex": null,
            "flex_flow": null,
            "grid_area": null,
            "grid_auto_columns": null,
            "grid_auto_flow": null,
            "grid_auto_rows": null,
            "grid_column": null,
            "grid_gap": null,
            "grid_row": null,
            "grid_template_areas": null,
            "grid_template_columns": null,
            "grid_template_rows": null,
            "height": null,
            "justify_content": null,
            "justify_items": null,
            "left": null,
            "margin": null,
            "max_height": null,
            "max_width": null,
            "min_height": null,
            "min_width": null,
            "object_fit": null,
            "object_position": null,
            "order": null,
            "overflow": null,
            "overflow_x": null,
            "overflow_y": null,
            "padding": null,
            "right": null,
            "top": null,
            "visibility": null,
            "width": null
          }
        },
        "13cec1bef40747fb8e9fb9028b8d78f1": {
          "model_module": "@jupyter-widgets/controls",
          "model_name": "DescriptionStyleModel",
          "model_module_version": "1.5.0",
          "state": {
            "_model_module": "@jupyter-widgets/controls",
            "_model_module_version": "1.5.0",
            "_model_name": "DescriptionStyleModel",
            "_view_count": null,
            "_view_module": "@jupyter-widgets/base",
            "_view_module_version": "1.2.0",
            "_view_name": "StyleView",
            "description_width": ""
          }
        },
        "8a20649792d8411d89b1600a68ea04c9": {
          "model_module": "@jupyter-widgets/base",
          "model_name": "LayoutModel",
          "model_module_version": "1.2.0",
          "state": {
            "_model_module": "@jupyter-widgets/base",
            "_model_module_version": "1.2.0",
            "_model_name": "LayoutModel",
            "_view_count": null,
            "_view_module": "@jupyter-widgets/base",
            "_view_module_version": "1.2.0",
            "_view_name": "LayoutView",
            "align_content": null,
            "align_items": null,
            "align_self": null,
            "border": null,
            "bottom": null,
            "display": null,
            "flex": null,
            "flex_flow": null,
            "grid_area": null,
            "grid_auto_columns": null,
            "grid_auto_flow": null,
            "grid_auto_rows": null,
            "grid_column": null,
            "grid_gap": null,
            "grid_row": null,
            "grid_template_areas": null,
            "grid_template_columns": null,
            "grid_template_rows": null,
            "height": null,
            "justify_content": null,
            "justify_items": null,
            "left": null,
            "margin": null,
            "max_height": null,
            "max_width": null,
            "min_height": null,
            "min_width": null,
            "object_fit": null,
            "object_position": null,
            "order": null,
            "overflow": null,
            "overflow_x": null,
            "overflow_y": null,
            "padding": null,
            "right": null,
            "top": null,
            "visibility": null,
            "width": null
          }
        },
        "d0904a7f6e7f454591c9ec61b40248bc": {
          "model_module": "@jupyter-widgets/controls",
          "model_name": "ProgressStyleModel",
          "model_module_version": "1.5.0",
          "state": {
            "_model_module": "@jupyter-widgets/controls",
            "_model_module_version": "1.5.0",
            "_model_name": "ProgressStyleModel",
            "_view_count": null,
            "_view_module": "@jupyter-widgets/base",
            "_view_module_version": "1.2.0",
            "_view_name": "StyleView",
            "bar_color": null,
            "description_width": ""
          }
        },
        "def9c44c77f54574aa19bdfa0fb51324": {
          "model_module": "@jupyter-widgets/base",
          "model_name": "LayoutModel",
          "model_module_version": "1.2.0",
          "state": {
            "_model_module": "@jupyter-widgets/base",
            "_model_module_version": "1.2.0",
            "_model_name": "LayoutModel",
            "_view_count": null,
            "_view_module": "@jupyter-widgets/base",
            "_view_module_version": "1.2.0",
            "_view_name": "LayoutView",
            "align_content": null,
            "align_items": null,
            "align_self": null,
            "border": null,
            "bottom": null,
            "display": null,
            "flex": null,
            "flex_flow": null,
            "grid_area": null,
            "grid_auto_columns": null,
            "grid_auto_flow": null,
            "grid_auto_rows": null,
            "grid_column": null,
            "grid_gap": null,
            "grid_row": null,
            "grid_template_areas": null,
            "grid_template_columns": null,
            "grid_template_rows": null,
            "height": null,
            "justify_content": null,
            "justify_items": null,
            "left": null,
            "margin": null,
            "max_height": null,
            "max_width": null,
            "min_height": null,
            "min_width": null,
            "object_fit": null,
            "object_position": null,
            "order": null,
            "overflow": null,
            "overflow_x": null,
            "overflow_y": null,
            "padding": null,
            "right": null,
            "top": null,
            "visibility": null,
            "width": null
          }
        },
        "323084ccc2b9493e8f65582db80b32d2": {
          "model_module": "@jupyter-widgets/controls",
          "model_name": "DescriptionStyleModel",
          "model_module_version": "1.5.0",
          "state": {
            "_model_module": "@jupyter-widgets/controls",
            "_model_module_version": "1.5.0",
            "_model_name": "DescriptionStyleModel",
            "_view_count": null,
            "_view_module": "@jupyter-widgets/base",
            "_view_module_version": "1.2.0",
            "_view_name": "StyleView",
            "description_width": ""
          }
        },
        "1c7d7a4c5b734cb2815548e64207426e": {
          "model_module": "@jupyter-widgets/controls",
          "model_name": "HBoxModel",
          "model_module_version": "1.5.0",
          "state": {
            "_dom_classes": [],
            "_model_module": "@jupyter-widgets/controls",
            "_model_module_version": "1.5.0",
            "_model_name": "HBoxModel",
            "_view_count": null,
            "_view_module": "@jupyter-widgets/controls",
            "_view_module_version": "1.5.0",
            "_view_name": "HBoxView",
            "box_style": "",
            "children": [
              "IPY_MODEL_30a04b588a8947f88a8393787aea1c1a",
              "IPY_MODEL_60c89d2c544d440dbec9ec5857964219",
              "IPY_MODEL_a89a4a2936a743a8a9cb290cf587c3f1"
            ],
            "layout": "IPY_MODEL_52298c0ba09f4676ac9ebb1651da717c"
          }
        },
        "30a04b588a8947f88a8393787aea1c1a": {
          "model_module": "@jupyter-widgets/controls",
          "model_name": "HTMLModel",
          "model_module_version": "1.5.0",
          "state": {
            "_dom_classes": [],
            "_model_module": "@jupyter-widgets/controls",
            "_model_module_version": "1.5.0",
            "_model_name": "HTMLModel",
            "_view_count": null,
            "_view_module": "@jupyter-widgets/controls",
            "_view_module_version": "1.5.0",
            "_view_name": "HTMLView",
            "description": "",
            "description_tooltip": null,
            "layout": "IPY_MODEL_ab755b92b1c1456e8ef05c004fad7b32",
            "placeholder": "​",
            "style": "IPY_MODEL_f2bb98e5063e46bf8585d33f162cb407",
            "value": "generation_config.json: 100%"
          }
        },
        "60c89d2c544d440dbec9ec5857964219": {
          "model_module": "@jupyter-widgets/controls",
          "model_name": "FloatProgressModel",
          "model_module_version": "1.5.0",
          "state": {
            "_dom_classes": [],
            "_model_module": "@jupyter-widgets/controls",
            "_model_module_version": "1.5.0",
            "_model_name": "FloatProgressModel",
            "_view_count": null,
            "_view_module": "@jupyter-widgets/controls",
            "_view_module_version": "1.5.0",
            "_view_name": "ProgressView",
            "bar_style": "success",
            "description": "",
            "description_tooltip": null,
            "layout": "IPY_MODEL_a6cdc79716854de09eb22cc4b917d24b",
            "max": 124,
            "min": 0,
            "orientation": "horizontal",
            "style": "IPY_MODEL_b4d581e547b04115af3c10f466db9921",
            "value": 124
          }
        },
        "a89a4a2936a743a8a9cb290cf587c3f1": {
          "model_module": "@jupyter-widgets/controls",
          "model_name": "HTMLModel",
          "model_module_version": "1.5.0",
          "state": {
            "_dom_classes": [],
            "_model_module": "@jupyter-widgets/controls",
            "_model_module_version": "1.5.0",
            "_model_name": "HTMLModel",
            "_view_count": null,
            "_view_module": "@jupyter-widgets/controls",
            "_view_module_version": "1.5.0",
            "_view_name": "HTMLView",
            "description": "",
            "description_tooltip": null,
            "layout": "IPY_MODEL_b03cb17e0cea43ddb596737e78ab3a28",
            "placeholder": "​",
            "style": "IPY_MODEL_fc2059afc7a84eb68f80f519451c0541",
            "value": " 124/124 [00:00&lt;00:00, 11.3kB/s]"
          }
        },
        "52298c0ba09f4676ac9ebb1651da717c": {
          "model_module": "@jupyter-widgets/base",
          "model_name": "LayoutModel",
          "model_module_version": "1.2.0",
          "state": {
            "_model_module": "@jupyter-widgets/base",
            "_model_module_version": "1.2.0",
            "_model_name": "LayoutModel",
            "_view_count": null,
            "_view_module": "@jupyter-widgets/base",
            "_view_module_version": "1.2.0",
            "_view_name": "LayoutView",
            "align_content": null,
            "align_items": null,
            "align_self": null,
            "border": null,
            "bottom": null,
            "display": null,
            "flex": null,
            "flex_flow": null,
            "grid_area": null,
            "grid_auto_columns": null,
            "grid_auto_flow": null,
            "grid_auto_rows": null,
            "grid_column": null,
            "grid_gap": null,
            "grid_row": null,
            "grid_template_areas": null,
            "grid_template_columns": null,
            "grid_template_rows": null,
            "height": null,
            "justify_content": null,
            "justify_items": null,
            "left": null,
            "margin": null,
            "max_height": null,
            "max_width": null,
            "min_height": null,
            "min_width": null,
            "object_fit": null,
            "object_position": null,
            "order": null,
            "overflow": null,
            "overflow_x": null,
            "overflow_y": null,
            "padding": null,
            "right": null,
            "top": null,
            "visibility": null,
            "width": null
          }
        },
        "ab755b92b1c1456e8ef05c004fad7b32": {
          "model_module": "@jupyter-widgets/base",
          "model_name": "LayoutModel",
          "model_module_version": "1.2.0",
          "state": {
            "_model_module": "@jupyter-widgets/base",
            "_model_module_version": "1.2.0",
            "_model_name": "LayoutModel",
            "_view_count": null,
            "_view_module": "@jupyter-widgets/base",
            "_view_module_version": "1.2.0",
            "_view_name": "LayoutView",
            "align_content": null,
            "align_items": null,
            "align_self": null,
            "border": null,
            "bottom": null,
            "display": null,
            "flex": null,
            "flex_flow": null,
            "grid_area": null,
            "grid_auto_columns": null,
            "grid_auto_flow": null,
            "grid_auto_rows": null,
            "grid_column": null,
            "grid_gap": null,
            "grid_row": null,
            "grid_template_areas": null,
            "grid_template_columns": null,
            "grid_template_rows": null,
            "height": null,
            "justify_content": null,
            "justify_items": null,
            "left": null,
            "margin": null,
            "max_height": null,
            "max_width": null,
            "min_height": null,
            "min_width": null,
            "object_fit": null,
            "object_position": null,
            "order": null,
            "overflow": null,
            "overflow_x": null,
            "overflow_y": null,
            "padding": null,
            "right": null,
            "top": null,
            "visibility": null,
            "width": null
          }
        },
        "f2bb98e5063e46bf8585d33f162cb407": {
          "model_module": "@jupyter-widgets/controls",
          "model_name": "DescriptionStyleModel",
          "model_module_version": "1.5.0",
          "state": {
            "_model_module": "@jupyter-widgets/controls",
            "_model_module_version": "1.5.0",
            "_model_name": "DescriptionStyleModel",
            "_view_count": null,
            "_view_module": "@jupyter-widgets/base",
            "_view_module_version": "1.2.0",
            "_view_name": "StyleView",
            "description_width": ""
          }
        },
        "a6cdc79716854de09eb22cc4b917d24b": {
          "model_module": "@jupyter-widgets/base",
          "model_name": "LayoutModel",
          "model_module_version": "1.2.0",
          "state": {
            "_model_module": "@jupyter-widgets/base",
            "_model_module_version": "1.2.0",
            "_model_name": "LayoutModel",
            "_view_count": null,
            "_view_module": "@jupyter-widgets/base",
            "_view_module_version": "1.2.0",
            "_view_name": "LayoutView",
            "align_content": null,
            "align_items": null,
            "align_self": null,
            "border": null,
            "bottom": null,
            "display": null,
            "flex": null,
            "flex_flow": null,
            "grid_area": null,
            "grid_auto_columns": null,
            "grid_auto_flow": null,
            "grid_auto_rows": null,
            "grid_column": null,
            "grid_gap": null,
            "grid_row": null,
            "grid_template_areas": null,
            "grid_template_columns": null,
            "grid_template_rows": null,
            "height": null,
            "justify_content": null,
            "justify_items": null,
            "left": null,
            "margin": null,
            "max_height": null,
            "max_width": null,
            "min_height": null,
            "min_width": null,
            "object_fit": null,
            "object_position": null,
            "order": null,
            "overflow": null,
            "overflow_x": null,
            "overflow_y": null,
            "padding": null,
            "right": null,
            "top": null,
            "visibility": null,
            "width": null
          }
        },
        "b4d581e547b04115af3c10f466db9921": {
          "model_module": "@jupyter-widgets/controls",
          "model_name": "ProgressStyleModel",
          "model_module_version": "1.5.0",
          "state": {
            "_model_module": "@jupyter-widgets/controls",
            "_model_module_version": "1.5.0",
            "_model_name": "ProgressStyleModel",
            "_view_count": null,
            "_view_module": "@jupyter-widgets/base",
            "_view_module_version": "1.2.0",
            "_view_name": "StyleView",
            "bar_color": null,
            "description_width": ""
          }
        },
        "b03cb17e0cea43ddb596737e78ab3a28": {
          "model_module": "@jupyter-widgets/base",
          "model_name": "LayoutModel",
          "model_module_version": "1.2.0",
          "state": {
            "_model_module": "@jupyter-widgets/base",
            "_model_module_version": "1.2.0",
            "_model_name": "LayoutModel",
            "_view_count": null,
            "_view_module": "@jupyter-widgets/base",
            "_view_module_version": "1.2.0",
            "_view_name": "LayoutView",
            "align_content": null,
            "align_items": null,
            "align_self": null,
            "border": null,
            "bottom": null,
            "display": null,
            "flex": null,
            "flex_flow": null,
            "grid_area": null,
            "grid_auto_columns": null,
            "grid_auto_flow": null,
            "grid_auto_rows": null,
            "grid_column": null,
            "grid_gap": null,
            "grid_row": null,
            "grid_template_areas": null,
            "grid_template_columns": null,
            "grid_template_rows": null,
            "height": null,
            "justify_content": null,
            "justify_items": null,
            "left": null,
            "margin": null,
            "max_height": null,
            "max_width": null,
            "min_height": null,
            "min_width": null,
            "object_fit": null,
            "object_position": null,
            "order": null,
            "overflow": null,
            "overflow_x": null,
            "overflow_y": null,
            "padding": null,
            "right": null,
            "top": null,
            "visibility": null,
            "width": null
          }
        },
        "fc2059afc7a84eb68f80f519451c0541": {
          "model_module": "@jupyter-widgets/controls",
          "model_name": "DescriptionStyleModel",
          "model_module_version": "1.5.0",
          "state": {
            "_model_module": "@jupyter-widgets/controls",
            "_model_module_version": "1.5.0",
            "_model_name": "DescriptionStyleModel",
            "_view_count": null,
            "_view_module": "@jupyter-widgets/base",
            "_view_module_version": "1.2.0",
            "_view_name": "StyleView",
            "description_width": ""
          }
        },
        "780ba9b96601498da990ee0f449b9f14": {
          "model_module": "@jupyter-widgets/controls",
          "model_name": "HBoxModel",
          "model_module_version": "1.5.0",
          "state": {
            "_dom_classes": [],
            "_model_module": "@jupyter-widgets/controls",
            "_model_module_version": "1.5.0",
            "_model_name": "HBoxModel",
            "_view_count": null,
            "_view_module": "@jupyter-widgets/controls",
            "_view_module_version": "1.5.0",
            "_view_name": "HBoxView",
            "box_style": "",
            "children": [
              "IPY_MODEL_e4847c3c02ef4f9291b248e0e80958f1",
              "IPY_MODEL_33f8e5d7aa3d40fe92dbe8861136375f",
              "IPY_MODEL_6d7f15cbfc58458498886c92a30084ea"
            ],
            "layout": "IPY_MODEL_b50627c3df824b44a619e1324db340ea"
          }
        },
        "e4847c3c02ef4f9291b248e0e80958f1": {
          "model_module": "@jupyter-widgets/controls",
          "model_name": "HTMLModel",
          "model_module_version": "1.5.0",
          "state": {
            "_dom_classes": [],
            "_model_module": "@jupyter-widgets/controls",
            "_model_module_version": "1.5.0",
            "_model_name": "HTMLModel",
            "_view_count": null,
            "_view_module": "@jupyter-widgets/controls",
            "_view_module_version": "1.5.0",
            "_view_name": "HTMLView",
            "description": "",
            "description_tooltip": null,
            "layout": "IPY_MODEL_e754f5d69cf24f69a6bf0c72e25df6ad",
            "placeholder": "​",
            "style": "IPY_MODEL_e93a5dc646054205b12e79fa011f4286",
            "value": "tokenizer_config.json: 100%"
          }
        },
        "33f8e5d7aa3d40fe92dbe8861136375f": {
          "model_module": "@jupyter-widgets/controls",
          "model_name": "FloatProgressModel",
          "model_module_version": "1.5.0",
          "state": {
            "_dom_classes": [],
            "_model_module": "@jupyter-widgets/controls",
            "_model_module_version": "1.5.0",
            "_model_name": "FloatProgressModel",
            "_view_count": null,
            "_view_module": "@jupyter-widgets/controls",
            "_view_module_version": "1.5.0",
            "_view_name": "ProgressView",
            "bar_style": "success",
            "description": "",
            "description_tooltip": null,
            "layout": "IPY_MODEL_2994ef38eef144e0b32e8f476e75d92a",
            "max": 26,
            "min": 0,
            "orientation": "horizontal",
            "style": "IPY_MODEL_ddfd19498cbb4db1a395759b5b3dafed",
            "value": 26
          }
        },
        "6d7f15cbfc58458498886c92a30084ea": {
          "model_module": "@jupyter-widgets/controls",
          "model_name": "HTMLModel",
          "model_module_version": "1.5.0",
          "state": {
            "_dom_classes": [],
            "_model_module": "@jupyter-widgets/controls",
            "_model_module_version": "1.5.0",
            "_model_name": "HTMLModel",
            "_view_count": null,
            "_view_module": "@jupyter-widgets/controls",
            "_view_module_version": "1.5.0",
            "_view_name": "HTMLView",
            "description": "",
            "description_tooltip": null,
            "layout": "IPY_MODEL_9c78fa3f3f054610b716b79a5660f133",
            "placeholder": "​",
            "style": "IPY_MODEL_0b99c664d07146709a70640802b7781b",
            "value": " 26.0/26.0 [00:00&lt;00:00, 1.41kB/s]"
          }
        },
        "b50627c3df824b44a619e1324db340ea": {
          "model_module": "@jupyter-widgets/base",
          "model_name": "LayoutModel",
          "model_module_version": "1.2.0",
          "state": {
            "_model_module": "@jupyter-widgets/base",
            "_model_module_version": "1.2.0",
            "_model_name": "LayoutModel",
            "_view_count": null,
            "_view_module": "@jupyter-widgets/base",
            "_view_module_version": "1.2.0",
            "_view_name": "LayoutView",
            "align_content": null,
            "align_items": null,
            "align_self": null,
            "border": null,
            "bottom": null,
            "display": null,
            "flex": null,
            "flex_flow": null,
            "grid_area": null,
            "grid_auto_columns": null,
            "grid_auto_flow": null,
            "grid_auto_rows": null,
            "grid_column": null,
            "grid_gap": null,
            "grid_row": null,
            "grid_template_areas": null,
            "grid_template_columns": null,
            "grid_template_rows": null,
            "height": null,
            "justify_content": null,
            "justify_items": null,
            "left": null,
            "margin": null,
            "max_height": null,
            "max_width": null,
            "min_height": null,
            "min_width": null,
            "object_fit": null,
            "object_position": null,
            "order": null,
            "overflow": null,
            "overflow_x": null,
            "overflow_y": null,
            "padding": null,
            "right": null,
            "top": null,
            "visibility": null,
            "width": null
          }
        },
        "e754f5d69cf24f69a6bf0c72e25df6ad": {
          "model_module": "@jupyter-widgets/base",
          "model_name": "LayoutModel",
          "model_module_version": "1.2.0",
          "state": {
            "_model_module": "@jupyter-widgets/base",
            "_model_module_version": "1.2.0",
            "_model_name": "LayoutModel",
            "_view_count": null,
            "_view_module": "@jupyter-widgets/base",
            "_view_module_version": "1.2.0",
            "_view_name": "LayoutView",
            "align_content": null,
            "align_items": null,
            "align_self": null,
            "border": null,
            "bottom": null,
            "display": null,
            "flex": null,
            "flex_flow": null,
            "grid_area": null,
            "grid_auto_columns": null,
            "grid_auto_flow": null,
            "grid_auto_rows": null,
            "grid_column": null,
            "grid_gap": null,
            "grid_row": null,
            "grid_template_areas": null,
            "grid_template_columns": null,
            "grid_template_rows": null,
            "height": null,
            "justify_content": null,
            "justify_items": null,
            "left": null,
            "margin": null,
            "max_height": null,
            "max_width": null,
            "min_height": null,
            "min_width": null,
            "object_fit": null,
            "object_position": null,
            "order": null,
            "overflow": null,
            "overflow_x": null,
            "overflow_y": null,
            "padding": null,
            "right": null,
            "top": null,
            "visibility": null,
            "width": null
          }
        },
        "e93a5dc646054205b12e79fa011f4286": {
          "model_module": "@jupyter-widgets/controls",
          "model_name": "DescriptionStyleModel",
          "model_module_version": "1.5.0",
          "state": {
            "_model_module": "@jupyter-widgets/controls",
            "_model_module_version": "1.5.0",
            "_model_name": "DescriptionStyleModel",
            "_view_count": null,
            "_view_module": "@jupyter-widgets/base",
            "_view_module_version": "1.2.0",
            "_view_name": "StyleView",
            "description_width": ""
          }
        },
        "2994ef38eef144e0b32e8f476e75d92a": {
          "model_module": "@jupyter-widgets/base",
          "model_name": "LayoutModel",
          "model_module_version": "1.2.0",
          "state": {
            "_model_module": "@jupyter-widgets/base",
            "_model_module_version": "1.2.0",
            "_model_name": "LayoutModel",
            "_view_count": null,
            "_view_module": "@jupyter-widgets/base",
            "_view_module_version": "1.2.0",
            "_view_name": "LayoutView",
            "align_content": null,
            "align_items": null,
            "align_self": null,
            "border": null,
            "bottom": null,
            "display": null,
            "flex": null,
            "flex_flow": null,
            "grid_area": null,
            "grid_auto_columns": null,
            "grid_auto_flow": null,
            "grid_auto_rows": null,
            "grid_column": null,
            "grid_gap": null,
            "grid_row": null,
            "grid_template_areas": null,
            "grid_template_columns": null,
            "grid_template_rows": null,
            "height": null,
            "justify_content": null,
            "justify_items": null,
            "left": null,
            "margin": null,
            "max_height": null,
            "max_width": null,
            "min_height": null,
            "min_width": null,
            "object_fit": null,
            "object_position": null,
            "order": null,
            "overflow": null,
            "overflow_x": null,
            "overflow_y": null,
            "padding": null,
            "right": null,
            "top": null,
            "visibility": null,
            "width": null
          }
        },
        "ddfd19498cbb4db1a395759b5b3dafed": {
          "model_module": "@jupyter-widgets/controls",
          "model_name": "ProgressStyleModel",
          "model_module_version": "1.5.0",
          "state": {
            "_model_module": "@jupyter-widgets/controls",
            "_model_module_version": "1.5.0",
            "_model_name": "ProgressStyleModel",
            "_view_count": null,
            "_view_module": "@jupyter-widgets/base",
            "_view_module_version": "1.2.0",
            "_view_name": "StyleView",
            "bar_color": null,
            "description_width": ""
          }
        },
        "9c78fa3f3f054610b716b79a5660f133": {
          "model_module": "@jupyter-widgets/base",
          "model_name": "LayoutModel",
          "model_module_version": "1.2.0",
          "state": {
            "_model_module": "@jupyter-widgets/base",
            "_model_module_version": "1.2.0",
            "_model_name": "LayoutModel",
            "_view_count": null,
            "_view_module": "@jupyter-widgets/base",
            "_view_module_version": "1.2.0",
            "_view_name": "LayoutView",
            "align_content": null,
            "align_items": null,
            "align_self": null,
            "border": null,
            "bottom": null,
            "display": null,
            "flex": null,
            "flex_flow": null,
            "grid_area": null,
            "grid_auto_columns": null,
            "grid_auto_flow": null,
            "grid_auto_rows": null,
            "grid_column": null,
            "grid_gap": null,
            "grid_row": null,
            "grid_template_areas": null,
            "grid_template_columns": null,
            "grid_template_rows": null,
            "height": null,
            "justify_content": null,
            "justify_items": null,
            "left": null,
            "margin": null,
            "max_height": null,
            "max_width": null,
            "min_height": null,
            "min_width": null,
            "object_fit": null,
            "object_position": null,
            "order": null,
            "overflow": null,
            "overflow_x": null,
            "overflow_y": null,
            "padding": null,
            "right": null,
            "top": null,
            "visibility": null,
            "width": null
          }
        },
        "0b99c664d07146709a70640802b7781b": {
          "model_module": "@jupyter-widgets/controls",
          "model_name": "DescriptionStyleModel",
          "model_module_version": "1.5.0",
          "state": {
            "_model_module": "@jupyter-widgets/controls",
            "_model_module_version": "1.5.0",
            "_model_name": "DescriptionStyleModel",
            "_view_count": null,
            "_view_module": "@jupyter-widgets/base",
            "_view_module_version": "1.2.0",
            "_view_name": "StyleView",
            "description_width": ""
          }
        },
        "8151f419161f4ae79c979f0303a36265": {
          "model_module": "@jupyter-widgets/controls",
          "model_name": "HBoxModel",
          "model_module_version": "1.5.0",
          "state": {
            "_dom_classes": [],
            "_model_module": "@jupyter-widgets/controls",
            "_model_module_version": "1.5.0",
            "_model_name": "HBoxModel",
            "_view_count": null,
            "_view_module": "@jupyter-widgets/controls",
            "_view_module_version": "1.5.0",
            "_view_name": "HBoxView",
            "box_style": "",
            "children": [
              "IPY_MODEL_46ece9e4dce245218bfc0829e465a965",
              "IPY_MODEL_4a290ba874564dd1a171c804c5c9af2e",
              "IPY_MODEL_c7493dbeac004503a68b42d9259a70cd"
            ],
            "layout": "IPY_MODEL_041fd071fbd8427085512990448d07bf"
          }
        },
        "46ece9e4dce245218bfc0829e465a965": {
          "model_module": "@jupyter-widgets/controls",
          "model_name": "HTMLModel",
          "model_module_version": "1.5.0",
          "state": {
            "_dom_classes": [],
            "_model_module": "@jupyter-widgets/controls",
            "_model_module_version": "1.5.0",
            "_model_name": "HTMLModel",
            "_view_count": null,
            "_view_module": "@jupyter-widgets/controls",
            "_view_module_version": "1.5.0",
            "_view_name": "HTMLView",
            "description": "",
            "description_tooltip": null,
            "layout": "IPY_MODEL_89e71fa4418f42fdbd539b1f054e1e48",
            "placeholder": "​",
            "style": "IPY_MODEL_91be4289176f4cb4bc902a4bb9ad9549",
            "value": "vocab.json: 100%"
          }
        },
        "4a290ba874564dd1a171c804c5c9af2e": {
          "model_module": "@jupyter-widgets/controls",
          "model_name": "FloatProgressModel",
          "model_module_version": "1.5.0",
          "state": {
            "_dom_classes": [],
            "_model_module": "@jupyter-widgets/controls",
            "_model_module_version": "1.5.0",
            "_model_name": "FloatProgressModel",
            "_view_count": null,
            "_view_module": "@jupyter-widgets/controls",
            "_view_module_version": "1.5.0",
            "_view_name": "ProgressView",
            "bar_style": "success",
            "description": "",
            "description_tooltip": null,
            "layout": "IPY_MODEL_f760e877afb54c948620f81483d4ea0b",
            "max": 1042301,
            "min": 0,
            "orientation": "horizontal",
            "style": "IPY_MODEL_58804916123f4f82b6fb0980b5bd6dd2",
            "value": 1042301
          }
        },
        "c7493dbeac004503a68b42d9259a70cd": {
          "model_module": "@jupyter-widgets/controls",
          "model_name": "HTMLModel",
          "model_module_version": "1.5.0",
          "state": {
            "_dom_classes": [],
            "_model_module": "@jupyter-widgets/controls",
            "_model_module_version": "1.5.0",
            "_model_name": "HTMLModel",
            "_view_count": null,
            "_view_module": "@jupyter-widgets/controls",
            "_view_module_version": "1.5.0",
            "_view_name": "HTMLView",
            "description": "",
            "description_tooltip": null,
            "layout": "IPY_MODEL_7a5aac7a8c204ed6ad88bd3e4b796723",
            "placeholder": "​",
            "style": "IPY_MODEL_fb5d3a66dcf54dc3a8bef1b6c871a1ed",
            "value": " 1.04M/1.04M [00:00&lt;00:00, 11.9MB/s]"
          }
        },
        "041fd071fbd8427085512990448d07bf": {
          "model_module": "@jupyter-widgets/base",
          "model_name": "LayoutModel",
          "model_module_version": "1.2.0",
          "state": {
            "_model_module": "@jupyter-widgets/base",
            "_model_module_version": "1.2.0",
            "_model_name": "LayoutModel",
            "_view_count": null,
            "_view_module": "@jupyter-widgets/base",
            "_view_module_version": "1.2.0",
            "_view_name": "LayoutView",
            "align_content": null,
            "align_items": null,
            "align_self": null,
            "border": null,
            "bottom": null,
            "display": null,
            "flex": null,
            "flex_flow": null,
            "grid_area": null,
            "grid_auto_columns": null,
            "grid_auto_flow": null,
            "grid_auto_rows": null,
            "grid_column": null,
            "grid_gap": null,
            "grid_row": null,
            "grid_template_areas": null,
            "grid_template_columns": null,
            "grid_template_rows": null,
            "height": null,
            "justify_content": null,
            "justify_items": null,
            "left": null,
            "margin": null,
            "max_height": null,
            "max_width": null,
            "min_height": null,
            "min_width": null,
            "object_fit": null,
            "object_position": null,
            "order": null,
            "overflow": null,
            "overflow_x": null,
            "overflow_y": null,
            "padding": null,
            "right": null,
            "top": null,
            "visibility": null,
            "width": null
          }
        },
        "89e71fa4418f42fdbd539b1f054e1e48": {
          "model_module": "@jupyter-widgets/base",
          "model_name": "LayoutModel",
          "model_module_version": "1.2.0",
          "state": {
            "_model_module": "@jupyter-widgets/base",
            "_model_module_version": "1.2.0",
            "_model_name": "LayoutModel",
            "_view_count": null,
            "_view_module": "@jupyter-widgets/base",
            "_view_module_version": "1.2.0",
            "_view_name": "LayoutView",
            "align_content": null,
            "align_items": null,
            "align_self": null,
            "border": null,
            "bottom": null,
            "display": null,
            "flex": null,
            "flex_flow": null,
            "grid_area": null,
            "grid_auto_columns": null,
            "grid_auto_flow": null,
            "grid_auto_rows": null,
            "grid_column": null,
            "grid_gap": null,
            "grid_row": null,
            "grid_template_areas": null,
            "grid_template_columns": null,
            "grid_template_rows": null,
            "height": null,
            "justify_content": null,
            "justify_items": null,
            "left": null,
            "margin": null,
            "max_height": null,
            "max_width": null,
            "min_height": null,
            "min_width": null,
            "object_fit": null,
            "object_position": null,
            "order": null,
            "overflow": null,
            "overflow_x": null,
            "overflow_y": null,
            "padding": null,
            "right": null,
            "top": null,
            "visibility": null,
            "width": null
          }
        },
        "91be4289176f4cb4bc902a4bb9ad9549": {
          "model_module": "@jupyter-widgets/controls",
          "model_name": "DescriptionStyleModel",
          "model_module_version": "1.5.0",
          "state": {
            "_model_module": "@jupyter-widgets/controls",
            "_model_module_version": "1.5.0",
            "_model_name": "DescriptionStyleModel",
            "_view_count": null,
            "_view_module": "@jupyter-widgets/base",
            "_view_module_version": "1.2.0",
            "_view_name": "StyleView",
            "description_width": ""
          }
        },
        "f760e877afb54c948620f81483d4ea0b": {
          "model_module": "@jupyter-widgets/base",
          "model_name": "LayoutModel",
          "model_module_version": "1.2.0",
          "state": {
            "_model_module": "@jupyter-widgets/base",
            "_model_module_version": "1.2.0",
            "_model_name": "LayoutModel",
            "_view_count": null,
            "_view_module": "@jupyter-widgets/base",
            "_view_module_version": "1.2.0",
            "_view_name": "LayoutView",
            "align_content": null,
            "align_items": null,
            "align_self": null,
            "border": null,
            "bottom": null,
            "display": null,
            "flex": null,
            "flex_flow": null,
            "grid_area": null,
            "grid_auto_columns": null,
            "grid_auto_flow": null,
            "grid_auto_rows": null,
            "grid_column": null,
            "grid_gap": null,
            "grid_row": null,
            "grid_template_areas": null,
            "grid_template_columns": null,
            "grid_template_rows": null,
            "height": null,
            "justify_content": null,
            "justify_items": null,
            "left": null,
            "margin": null,
            "max_height": null,
            "max_width": null,
            "min_height": null,
            "min_width": null,
            "object_fit": null,
            "object_position": null,
            "order": null,
            "overflow": null,
            "overflow_x": null,
            "overflow_y": null,
            "padding": null,
            "right": null,
            "top": null,
            "visibility": null,
            "width": null
          }
        },
        "58804916123f4f82b6fb0980b5bd6dd2": {
          "model_module": "@jupyter-widgets/controls",
          "model_name": "ProgressStyleModel",
          "model_module_version": "1.5.0",
          "state": {
            "_model_module": "@jupyter-widgets/controls",
            "_model_module_version": "1.5.0",
            "_model_name": "ProgressStyleModel",
            "_view_count": null,
            "_view_module": "@jupyter-widgets/base",
            "_view_module_version": "1.2.0",
            "_view_name": "StyleView",
            "bar_color": null,
            "description_width": ""
          }
        },
        "7a5aac7a8c204ed6ad88bd3e4b796723": {
          "model_module": "@jupyter-widgets/base",
          "model_name": "LayoutModel",
          "model_module_version": "1.2.0",
          "state": {
            "_model_module": "@jupyter-widgets/base",
            "_model_module_version": "1.2.0",
            "_model_name": "LayoutModel",
            "_view_count": null,
            "_view_module": "@jupyter-widgets/base",
            "_view_module_version": "1.2.0",
            "_view_name": "LayoutView",
            "align_content": null,
            "align_items": null,
            "align_self": null,
            "border": null,
            "bottom": null,
            "display": null,
            "flex": null,
            "flex_flow": null,
            "grid_area": null,
            "grid_auto_columns": null,
            "grid_auto_flow": null,
            "grid_auto_rows": null,
            "grid_column": null,
            "grid_gap": null,
            "grid_row": null,
            "grid_template_areas": null,
            "grid_template_columns": null,
            "grid_template_rows": null,
            "height": null,
            "justify_content": null,
            "justify_items": null,
            "left": null,
            "margin": null,
            "max_height": null,
            "max_width": null,
            "min_height": null,
            "min_width": null,
            "object_fit": null,
            "object_position": null,
            "order": null,
            "overflow": null,
            "overflow_x": null,
            "overflow_y": null,
            "padding": null,
            "right": null,
            "top": null,
            "visibility": null,
            "width": null
          }
        },
        "fb5d3a66dcf54dc3a8bef1b6c871a1ed": {
          "model_module": "@jupyter-widgets/controls",
          "model_name": "DescriptionStyleModel",
          "model_module_version": "1.5.0",
          "state": {
            "_model_module": "@jupyter-widgets/controls",
            "_model_module_version": "1.5.0",
            "_model_name": "DescriptionStyleModel",
            "_view_count": null,
            "_view_module": "@jupyter-widgets/base",
            "_view_module_version": "1.2.0",
            "_view_name": "StyleView",
            "description_width": ""
          }
        },
        "93fa6b2b0c994994b1d91e6bbe5a8d61": {
          "model_module": "@jupyter-widgets/controls",
          "model_name": "HBoxModel",
          "model_module_version": "1.5.0",
          "state": {
            "_dom_classes": [],
            "_model_module": "@jupyter-widgets/controls",
            "_model_module_version": "1.5.0",
            "_model_name": "HBoxModel",
            "_view_count": null,
            "_view_module": "@jupyter-widgets/controls",
            "_view_module_version": "1.5.0",
            "_view_name": "HBoxView",
            "box_style": "",
            "children": [
              "IPY_MODEL_14891664ac094369a408e6d4a3428684",
              "IPY_MODEL_3b352aca396e41df8b2ed6a33653bdf4",
              "IPY_MODEL_9320b86ffa404a1e973c673aaa3fc834"
            ],
            "layout": "IPY_MODEL_d37058be24174d598ac8cee5b229cd9f"
          }
        },
        "14891664ac094369a408e6d4a3428684": {
          "model_module": "@jupyter-widgets/controls",
          "model_name": "HTMLModel",
          "model_module_version": "1.5.0",
          "state": {
            "_dom_classes": [],
            "_model_module": "@jupyter-widgets/controls",
            "_model_module_version": "1.5.0",
            "_model_name": "HTMLModel",
            "_view_count": null,
            "_view_module": "@jupyter-widgets/controls",
            "_view_module_version": "1.5.0",
            "_view_name": "HTMLView",
            "description": "",
            "description_tooltip": null,
            "layout": "IPY_MODEL_9f5a42be5ae043c4b2727ab53d1bb98c",
            "placeholder": "​",
            "style": "IPY_MODEL_a17b551d3d2e4f099f97af644968cd65",
            "value": "merges.txt: 100%"
          }
        },
        "3b352aca396e41df8b2ed6a33653bdf4": {
          "model_module": "@jupyter-widgets/controls",
          "model_name": "FloatProgressModel",
          "model_module_version": "1.5.0",
          "state": {
            "_dom_classes": [],
            "_model_module": "@jupyter-widgets/controls",
            "_model_module_version": "1.5.0",
            "_model_name": "FloatProgressModel",
            "_view_count": null,
            "_view_module": "@jupyter-widgets/controls",
            "_view_module_version": "1.5.0",
            "_view_name": "ProgressView",
            "bar_style": "success",
            "description": "",
            "description_tooltip": null,
            "layout": "IPY_MODEL_fe517863049d4824abbdd558aa417c84",
            "max": 456318,
            "min": 0,
            "orientation": "horizontal",
            "style": "IPY_MODEL_3e5c7ac2267147c18cc88711f0d72acc",
            "value": 456318
          }
        },
        "9320b86ffa404a1e973c673aaa3fc834": {
          "model_module": "@jupyter-widgets/controls",
          "model_name": "HTMLModel",
          "model_module_version": "1.5.0",
          "state": {
            "_dom_classes": [],
            "_model_module": "@jupyter-widgets/controls",
            "_model_module_version": "1.5.0",
            "_model_name": "HTMLModel",
            "_view_count": null,
            "_view_module": "@jupyter-widgets/controls",
            "_view_module_version": "1.5.0",
            "_view_name": "HTMLView",
            "description": "",
            "description_tooltip": null,
            "layout": "IPY_MODEL_c16af260e1064313b02f6977a418926d",
            "placeholder": "​",
            "style": "IPY_MODEL_7b297edc017b4ae686b37aaa8a2d73e6",
            "value": " 456k/456k [00:00&lt;00:00, 8.81MB/s]"
          }
        },
        "d37058be24174d598ac8cee5b229cd9f": {
          "model_module": "@jupyter-widgets/base",
          "model_name": "LayoutModel",
          "model_module_version": "1.2.0",
          "state": {
            "_model_module": "@jupyter-widgets/base",
            "_model_module_version": "1.2.0",
            "_model_name": "LayoutModel",
            "_view_count": null,
            "_view_module": "@jupyter-widgets/base",
            "_view_module_version": "1.2.0",
            "_view_name": "LayoutView",
            "align_content": null,
            "align_items": null,
            "align_self": null,
            "border": null,
            "bottom": null,
            "display": null,
            "flex": null,
            "flex_flow": null,
            "grid_area": null,
            "grid_auto_columns": null,
            "grid_auto_flow": null,
            "grid_auto_rows": null,
            "grid_column": null,
            "grid_gap": null,
            "grid_row": null,
            "grid_template_areas": null,
            "grid_template_columns": null,
            "grid_template_rows": null,
            "height": null,
            "justify_content": null,
            "justify_items": null,
            "left": null,
            "margin": null,
            "max_height": null,
            "max_width": null,
            "min_height": null,
            "min_width": null,
            "object_fit": null,
            "object_position": null,
            "order": null,
            "overflow": null,
            "overflow_x": null,
            "overflow_y": null,
            "padding": null,
            "right": null,
            "top": null,
            "visibility": null,
            "width": null
          }
        },
        "9f5a42be5ae043c4b2727ab53d1bb98c": {
          "model_module": "@jupyter-widgets/base",
          "model_name": "LayoutModel",
          "model_module_version": "1.2.0",
          "state": {
            "_model_module": "@jupyter-widgets/base",
            "_model_module_version": "1.2.0",
            "_model_name": "LayoutModel",
            "_view_count": null,
            "_view_module": "@jupyter-widgets/base",
            "_view_module_version": "1.2.0",
            "_view_name": "LayoutView",
            "align_content": null,
            "align_items": null,
            "align_self": null,
            "border": null,
            "bottom": null,
            "display": null,
            "flex": null,
            "flex_flow": null,
            "grid_area": null,
            "grid_auto_columns": null,
            "grid_auto_flow": null,
            "grid_auto_rows": null,
            "grid_column": null,
            "grid_gap": null,
            "grid_row": null,
            "grid_template_areas": null,
            "grid_template_columns": null,
            "grid_template_rows": null,
            "height": null,
            "justify_content": null,
            "justify_items": null,
            "left": null,
            "margin": null,
            "max_height": null,
            "max_width": null,
            "min_height": null,
            "min_width": null,
            "object_fit": null,
            "object_position": null,
            "order": null,
            "overflow": null,
            "overflow_x": null,
            "overflow_y": null,
            "padding": null,
            "right": null,
            "top": null,
            "visibility": null,
            "width": null
          }
        },
        "a17b551d3d2e4f099f97af644968cd65": {
          "model_module": "@jupyter-widgets/controls",
          "model_name": "DescriptionStyleModel",
          "model_module_version": "1.5.0",
          "state": {
            "_model_module": "@jupyter-widgets/controls",
            "_model_module_version": "1.5.0",
            "_model_name": "DescriptionStyleModel",
            "_view_count": null,
            "_view_module": "@jupyter-widgets/base",
            "_view_module_version": "1.2.0",
            "_view_name": "StyleView",
            "description_width": ""
          }
        },
        "fe517863049d4824abbdd558aa417c84": {
          "model_module": "@jupyter-widgets/base",
          "model_name": "LayoutModel",
          "model_module_version": "1.2.0",
          "state": {
            "_model_module": "@jupyter-widgets/base",
            "_model_module_version": "1.2.0",
            "_model_name": "LayoutModel",
            "_view_count": null,
            "_view_module": "@jupyter-widgets/base",
            "_view_module_version": "1.2.0",
            "_view_name": "LayoutView",
            "align_content": null,
            "align_items": null,
            "align_self": null,
            "border": null,
            "bottom": null,
            "display": null,
            "flex": null,
            "flex_flow": null,
            "grid_area": null,
            "grid_auto_columns": null,
            "grid_auto_flow": null,
            "grid_auto_rows": null,
            "grid_column": null,
            "grid_gap": null,
            "grid_row": null,
            "grid_template_areas": null,
            "grid_template_columns": null,
            "grid_template_rows": null,
            "height": null,
            "justify_content": null,
            "justify_items": null,
            "left": null,
            "margin": null,
            "max_height": null,
            "max_width": null,
            "min_height": null,
            "min_width": null,
            "object_fit": null,
            "object_position": null,
            "order": null,
            "overflow": null,
            "overflow_x": null,
            "overflow_y": null,
            "padding": null,
            "right": null,
            "top": null,
            "visibility": null,
            "width": null
          }
        },
        "3e5c7ac2267147c18cc88711f0d72acc": {
          "model_module": "@jupyter-widgets/controls",
          "model_name": "ProgressStyleModel",
          "model_module_version": "1.5.0",
          "state": {
            "_model_module": "@jupyter-widgets/controls",
            "_model_module_version": "1.5.0",
            "_model_name": "ProgressStyleModel",
            "_view_count": null,
            "_view_module": "@jupyter-widgets/base",
            "_view_module_version": "1.2.0",
            "_view_name": "StyleView",
            "bar_color": null,
            "description_width": ""
          }
        },
        "c16af260e1064313b02f6977a418926d": {
          "model_module": "@jupyter-widgets/base",
          "model_name": "LayoutModel",
          "model_module_version": "1.2.0",
          "state": {
            "_model_module": "@jupyter-widgets/base",
            "_model_module_version": "1.2.0",
            "_model_name": "LayoutModel",
            "_view_count": null,
            "_view_module": "@jupyter-widgets/base",
            "_view_module_version": "1.2.0",
            "_view_name": "LayoutView",
            "align_content": null,
            "align_items": null,
            "align_self": null,
            "border": null,
            "bottom": null,
            "display": null,
            "flex": null,
            "flex_flow": null,
            "grid_area": null,
            "grid_auto_columns": null,
            "grid_auto_flow": null,
            "grid_auto_rows": null,
            "grid_column": null,
            "grid_gap": null,
            "grid_row": null,
            "grid_template_areas": null,
            "grid_template_columns": null,
            "grid_template_rows": null,
            "height": null,
            "justify_content": null,
            "justify_items": null,
            "left": null,
            "margin": null,
            "max_height": null,
            "max_width": null,
            "min_height": null,
            "min_width": null,
            "object_fit": null,
            "object_position": null,
            "order": null,
            "overflow": null,
            "overflow_x": null,
            "overflow_y": null,
            "padding": null,
            "right": null,
            "top": null,
            "visibility": null,
            "width": null
          }
        },
        "7b297edc017b4ae686b37aaa8a2d73e6": {
          "model_module": "@jupyter-widgets/controls",
          "model_name": "DescriptionStyleModel",
          "model_module_version": "1.5.0",
          "state": {
            "_model_module": "@jupyter-widgets/controls",
            "_model_module_version": "1.5.0",
            "_model_name": "DescriptionStyleModel",
            "_view_count": null,
            "_view_module": "@jupyter-widgets/base",
            "_view_module_version": "1.2.0",
            "_view_name": "StyleView",
            "description_width": ""
          }
        },
        "b4e23d08d44344009b135e7938fec082": {
          "model_module": "@jupyter-widgets/controls",
          "model_name": "HBoxModel",
          "model_module_version": "1.5.0",
          "state": {
            "_dom_classes": [],
            "_model_module": "@jupyter-widgets/controls",
            "_model_module_version": "1.5.0",
            "_model_name": "HBoxModel",
            "_view_count": null,
            "_view_module": "@jupyter-widgets/controls",
            "_view_module_version": "1.5.0",
            "_view_name": "HBoxView",
            "box_style": "",
            "children": [
              "IPY_MODEL_857aeab86b004d62b0f39d4581fc8a49",
              "IPY_MODEL_c79d0dd5d53446bab4796794678c4656",
              "IPY_MODEL_9cc5976e62624558b738f28fdd551f0d"
            ],
            "layout": "IPY_MODEL_6553784697f14c7bae1e87ab983c942d"
          }
        },
        "857aeab86b004d62b0f39d4581fc8a49": {
          "model_module": "@jupyter-widgets/controls",
          "model_name": "HTMLModel",
          "model_module_version": "1.5.0",
          "state": {
            "_dom_classes": [],
            "_model_module": "@jupyter-widgets/controls",
            "_model_module_version": "1.5.0",
            "_model_name": "HTMLModel",
            "_view_count": null,
            "_view_module": "@jupyter-widgets/controls",
            "_view_module_version": "1.5.0",
            "_view_name": "HTMLView",
            "description": "",
            "description_tooltip": null,
            "layout": "IPY_MODEL_5bc609ebc56845b7b4f2dd694d2879be",
            "placeholder": "​",
            "style": "IPY_MODEL_90731a9ccd0b405cb074a93a17aa1bb9",
            "value": "tokenizer.json: 100%"
          }
        },
        "c79d0dd5d53446bab4796794678c4656": {
          "model_module": "@jupyter-widgets/controls",
          "model_name": "FloatProgressModel",
          "model_module_version": "1.5.0",
          "state": {
            "_dom_classes": [],
            "_model_module": "@jupyter-widgets/controls",
            "_model_module_version": "1.5.0",
            "_model_name": "FloatProgressModel",
            "_view_count": null,
            "_view_module": "@jupyter-widgets/controls",
            "_view_module_version": "1.5.0",
            "_view_name": "ProgressView",
            "bar_style": "success",
            "description": "",
            "description_tooltip": null,
            "layout": "IPY_MODEL_de221e36205d4465a21c68c4cb252fb7",
            "max": 1355256,
            "min": 0,
            "orientation": "horizontal",
            "style": "IPY_MODEL_dddc353a92f3488787dd053461e5d20e",
            "value": 1355256
          }
        },
        "9cc5976e62624558b738f28fdd551f0d": {
          "model_module": "@jupyter-widgets/controls",
          "model_name": "HTMLModel",
          "model_module_version": "1.5.0",
          "state": {
            "_dom_classes": [],
            "_model_module": "@jupyter-widgets/controls",
            "_model_module_version": "1.5.0",
            "_model_name": "HTMLModel",
            "_view_count": null,
            "_view_module": "@jupyter-widgets/controls",
            "_view_module_version": "1.5.0",
            "_view_name": "HTMLView",
            "description": "",
            "description_tooltip": null,
            "layout": "IPY_MODEL_633d3c0b92b244a8a654f8c3e5e1475f",
            "placeholder": "​",
            "style": "IPY_MODEL_fe509f19fa1744909b94f472811cc42b",
            "value": " 1.36M/1.36M [00:00&lt;00:00, 12.6MB/s]"
          }
        },
        "6553784697f14c7bae1e87ab983c942d": {
          "model_module": "@jupyter-widgets/base",
          "model_name": "LayoutModel",
          "model_module_version": "1.2.0",
          "state": {
            "_model_module": "@jupyter-widgets/base",
            "_model_module_version": "1.2.0",
            "_model_name": "LayoutModel",
            "_view_count": null,
            "_view_module": "@jupyter-widgets/base",
            "_view_module_version": "1.2.0",
            "_view_name": "LayoutView",
            "align_content": null,
            "align_items": null,
            "align_self": null,
            "border": null,
            "bottom": null,
            "display": null,
            "flex": null,
            "flex_flow": null,
            "grid_area": null,
            "grid_auto_columns": null,
            "grid_auto_flow": null,
            "grid_auto_rows": null,
            "grid_column": null,
            "grid_gap": null,
            "grid_row": null,
            "grid_template_areas": null,
            "grid_template_columns": null,
            "grid_template_rows": null,
            "height": null,
            "justify_content": null,
            "justify_items": null,
            "left": null,
            "margin": null,
            "max_height": null,
            "max_width": null,
            "min_height": null,
            "min_width": null,
            "object_fit": null,
            "object_position": null,
            "order": null,
            "overflow": null,
            "overflow_x": null,
            "overflow_y": null,
            "padding": null,
            "right": null,
            "top": null,
            "visibility": null,
            "width": null
          }
        },
        "5bc609ebc56845b7b4f2dd694d2879be": {
          "model_module": "@jupyter-widgets/base",
          "model_name": "LayoutModel",
          "model_module_version": "1.2.0",
          "state": {
            "_model_module": "@jupyter-widgets/base",
            "_model_module_version": "1.2.0",
            "_model_name": "LayoutModel",
            "_view_count": null,
            "_view_module": "@jupyter-widgets/base",
            "_view_module_version": "1.2.0",
            "_view_name": "LayoutView",
            "align_content": null,
            "align_items": null,
            "align_self": null,
            "border": null,
            "bottom": null,
            "display": null,
            "flex": null,
            "flex_flow": null,
            "grid_area": null,
            "grid_auto_columns": null,
            "grid_auto_flow": null,
            "grid_auto_rows": null,
            "grid_column": null,
            "grid_gap": null,
            "grid_row": null,
            "grid_template_areas": null,
            "grid_template_columns": null,
            "grid_template_rows": null,
            "height": null,
            "justify_content": null,
            "justify_items": null,
            "left": null,
            "margin": null,
            "max_height": null,
            "max_width": null,
            "min_height": null,
            "min_width": null,
            "object_fit": null,
            "object_position": null,
            "order": null,
            "overflow": null,
            "overflow_x": null,
            "overflow_y": null,
            "padding": null,
            "right": null,
            "top": null,
            "visibility": null,
            "width": null
          }
        },
        "90731a9ccd0b405cb074a93a17aa1bb9": {
          "model_module": "@jupyter-widgets/controls",
          "model_name": "DescriptionStyleModel",
          "model_module_version": "1.5.0",
          "state": {
            "_model_module": "@jupyter-widgets/controls",
            "_model_module_version": "1.5.0",
            "_model_name": "DescriptionStyleModel",
            "_view_count": null,
            "_view_module": "@jupyter-widgets/base",
            "_view_module_version": "1.2.0",
            "_view_name": "StyleView",
            "description_width": ""
          }
        },
        "de221e36205d4465a21c68c4cb252fb7": {
          "model_module": "@jupyter-widgets/base",
          "model_name": "LayoutModel",
          "model_module_version": "1.2.0",
          "state": {
            "_model_module": "@jupyter-widgets/base",
            "_model_module_version": "1.2.0",
            "_model_name": "LayoutModel",
            "_view_count": null,
            "_view_module": "@jupyter-widgets/base",
            "_view_module_version": "1.2.0",
            "_view_name": "LayoutView",
            "align_content": null,
            "align_items": null,
            "align_self": null,
            "border": null,
            "bottom": null,
            "display": null,
            "flex": null,
            "flex_flow": null,
            "grid_area": null,
            "grid_auto_columns": null,
            "grid_auto_flow": null,
            "grid_auto_rows": null,
            "grid_column": null,
            "grid_gap": null,
            "grid_row": null,
            "grid_template_areas": null,
            "grid_template_columns": null,
            "grid_template_rows": null,
            "height": null,
            "justify_content": null,
            "justify_items": null,
            "left": null,
            "margin": null,
            "max_height": null,
            "max_width": null,
            "min_height": null,
            "min_width": null,
            "object_fit": null,
            "object_position": null,
            "order": null,
            "overflow": null,
            "overflow_x": null,
            "overflow_y": null,
            "padding": null,
            "right": null,
            "top": null,
            "visibility": null,
            "width": null
          }
        },
        "dddc353a92f3488787dd053461e5d20e": {
          "model_module": "@jupyter-widgets/controls",
          "model_name": "ProgressStyleModel",
          "model_module_version": "1.5.0",
          "state": {
            "_model_module": "@jupyter-widgets/controls",
            "_model_module_version": "1.5.0",
            "_model_name": "ProgressStyleModel",
            "_view_count": null,
            "_view_module": "@jupyter-widgets/base",
            "_view_module_version": "1.2.0",
            "_view_name": "StyleView",
            "bar_color": null,
            "description_width": ""
          }
        },
        "633d3c0b92b244a8a654f8c3e5e1475f": {
          "model_module": "@jupyter-widgets/base",
          "model_name": "LayoutModel",
          "model_module_version": "1.2.0",
          "state": {
            "_model_module": "@jupyter-widgets/base",
            "_model_module_version": "1.2.0",
            "_model_name": "LayoutModel",
            "_view_count": null,
            "_view_module": "@jupyter-widgets/base",
            "_view_module_version": "1.2.0",
            "_view_name": "LayoutView",
            "align_content": null,
            "align_items": null,
            "align_self": null,
            "border": null,
            "bottom": null,
            "display": null,
            "flex": null,
            "flex_flow": null,
            "grid_area": null,
            "grid_auto_columns": null,
            "grid_auto_flow": null,
            "grid_auto_rows": null,
            "grid_column": null,
            "grid_gap": null,
            "grid_row": null,
            "grid_template_areas": null,
            "grid_template_columns": null,
            "grid_template_rows": null,
            "height": null,
            "justify_content": null,
            "justify_items": null,
            "left": null,
            "margin": null,
            "max_height": null,
            "max_width": null,
            "min_height": null,
            "min_width": null,
            "object_fit": null,
            "object_position": null,
            "order": null,
            "overflow": null,
            "overflow_x": null,
            "overflow_y": null,
            "padding": null,
            "right": null,
            "top": null,
            "visibility": null,
            "width": null
          }
        },
        "fe509f19fa1744909b94f472811cc42b": {
          "model_module": "@jupyter-widgets/controls",
          "model_name": "DescriptionStyleModel",
          "model_module_version": "1.5.0",
          "state": {
            "_model_module": "@jupyter-widgets/controls",
            "_model_module_version": "1.5.0",
            "_model_name": "DescriptionStyleModel",
            "_view_count": null,
            "_view_module": "@jupyter-widgets/base",
            "_view_module_version": "1.2.0",
            "_view_name": "StyleView",
            "description_width": ""
          }
        }
      }
    }
  },
  "nbformat": 4,
  "nbformat_minor": 5
}